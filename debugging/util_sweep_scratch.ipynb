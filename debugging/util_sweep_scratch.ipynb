{
 "cells": [
  {
   "cell_type": "code",
   "execution_count": 5,
   "metadata": {},
   "outputs": [
    {
     "name": "stdout",
     "output_type": "stream",
     "text": [
      "The autoreload extension is already loaded. To reload it, use:\n",
      "  %reload_ext autoreload\n"
     ]
    }
   ],
   "source": [
    "%load_ext autoreload\n",
    "%autoreload 2"
   ]
  },
  {
   "cell_type": "code",
   "execution_count": 6,
   "metadata": {},
   "outputs": [],
   "source": [
    "import sys\n",
    "import os\n",
    "import json\n",
    "import numpy as np\n",
    "import pandas as pd\n",
    "sys.path.insert(0, os.path.abspath(\"../optimizer/\"))\n",
    "sys.path.insert(0, os.path.abspath(\"../plotting/\"))\n",
    "from utilization_sweep_plot import load_all\n",
    "import utils\n",
    "import matplotlib.pyplot as plt"
   ]
  },
  {
   "cell_type": "code",
   "execution_count": 7,
   "metadata": {},
   "outputs": [],
   "source": [
    "high_load_df = load_all(1.0)"
   ]
  },
  {
   "cell_type": "code",
   "execution_count": null,
   "metadata": {},
   "outputs": [],
   "source": [
    "high_load_df, low_load_df = load_all(0.5)"
   ]
  },
  {
   "cell_type": "code",
   "execution_count": null,
   "metadata": {},
   "outputs": [],
   "source": [
    "low_load_df"
   ]
  },
  {
   "cell_type": "code",
   "execution_count": null,
   "metadata": {},
   "outputs": [],
   "source": [
    "high_load_df"
   ]
  },
  {
   "cell_type": "code",
   "execution_count": 8,
   "metadata": {},
   "outputs": [
    {
     "data": {
      "image/png": "[encoded data removed]",
      "text/plain": [
       "<matplotlib.figure.Figure at 0x1224a3860>"
      ]
     },
     "metadata": {},
     "output_type": "display_data"
    }
   ],
   "source": [
    "fig, ax = plt.subplots(figsize=(10,6))\n",
    "ax.plot(high_load_df.utilization, high_load_df.slo_miss_rate, label=\"High Contention\")\n",
    "# ax.plot(low_load_df.utilization, low_load_df.slo_miss_rate, label=\"Low Contention\")\n",
    "ax.set_ylabel(\"SLO Miss Rate\")\n",
    "ax.set_xlabel(\"Utilization\")\n",
    "ax.legend(loc=0)\n",
    "plt.savefig(\"utilization_sensitivity.png\")\n",
    "plt.show()\n"
   ]
  },
  {
   "cell_type": "code",
   "execution_count": null,
   "metadata": {},
   "outputs": [],
   "source": [
    "def load_run(path):\n",
    "    with open(path, \"r\") as f:\n",
    "        results = json.load(f)\n",
    "        return results\n",
    "    \n",
    "def get_latencies_inferline_e2e(results_json):\n",
    "    trials = results_json[\"throughput_results\"][\"client_metrics\"][0][1:]\n",
    "    lats = []\n",
    "    for t in trials:\n",
    "        datalists = t[\"data_lists\"]\n",
    "        for d in datalists:\n",
    "            if list(d.keys())[0] == \"e2e:prediction_latencies\":\n",
    "                items = d[\"e2e:prediction_latencies\"][\"items\"]\n",
    "                for i in items:\n",
    "                    lats.append(float(list(i.values())[0]) / 1000.0 / 1000.0)\n",
    "    lats = np.array(lats)\n",
    "    return lats\n",
    "\n",
    "res = load_run(\"../results_cpp_benchmarker/e2e_results/image_driver_1/util_sweep/high_load/image_driver_one_slo_0.5_cv_1.0_util_0.5/aws_lambda_197_cost_10.6_inception-2_tf-kernel-svm-1_tf-resnet-feats-2_tf-log-reg-1-180419_211313.json\")"
   ]
  },
  {
   "cell_type": "code",
   "execution_count": null,
   "metadata": {},
   "outputs": [],
   "source": [
    "slo = res[\"loaded_config\"][\"slo\"]\n",
    "utilization = res[\"loaded_config\"][\"utilization\"]\n",
    "lats = get_latencies_inferline_e2e(res)"
   ]
  },
  {
   "cell_type": "code",
   "execution_count": null,
   "metadata": {},
   "outputs": [],
   "source": [
    "slo_miss_rate = np.sum(lats > slo) / len(lats)"
   ]
  },
  {
   "cell_type": "code",
   "execution_count": null,
   "metadata": {},
   "outputs": [],
   "source": [
    "slo_miss_rate"
   ]
  },
  {
   "cell_type": "code",
   "execution_count": null,
   "metadata": {},
   "outputs": [],
   "source": []
  }
 ],
 "metadata": {
  "kernelspec": {
   "display_name": "Python 3",
   "language": "python",
   "name": "python3"
  },
  "language_info": {
   "codemirror_mode": {
    "name": "ipython",
    "version": 3
   },
   "file_extension": ".py",
   "mimetype": "text/x-python",
   "name": "python",
   "nbconvert_exporter": "python",
   "pygments_lexer": "ipython3",
   "version": "3.6.4"
  }
 },
 "nbformat": 4,
 "nbformat_minor": 2
}
