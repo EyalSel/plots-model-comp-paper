{
 "cells": [
  {
   "cell_type": "code",
   "execution_count": 1,
   "metadata": {},
   "outputs": [],
   "source": [
    "%load_ext autoreload\n",
    "%autoreload 2"
   ]
  },
  {
   "cell_type": "code",
   "execution_count": 12,
   "metadata": {},
   "outputs": [],
   "source": [
    "import os\n",
    "import sys\n",
    "import json\n",
    "import time\n",
    "from datetime import datetime\n",
    "import numpy as np\n",
    "from IPython.display import display, Markdown\n",
    "import matplotlib.pyplot as plt\n",
    "from collections import OrderedDict\n",
    "import pandas as pd\n",
    "%matplotlib inline\n"
   ]
  },
  {
   "cell_type": "code",
   "execution_count": 4,
   "metadata": {},
   "outputs": [],
   "source": [
    "sys.path.insert(0, \"../optimizer/\")\n",
    "import single_node_profiles_cpp as snp"
   ]
  },
  {
   "cell_type": "code",
   "execution_count": 5,
   "metadata": {},
   "outputs": [],
   "source": [
    "results = snp.load_results(os.path.abspath(\n",
    "    \"../debugging/varied-bandwidth-inception-SMP-gpu-3-remote/\"))"
   ]
  },
  {
   "cell_type": "code",
   "execution_count": 6,
   "metadata": {},
   "outputs": [
    {
     "data": {
      "text/plain": [
       "dict_keys(['varied-bw-v100-remote-inception-batch-16-bw-0.1-180417_065409.json', 'varied-bw-v100-remote-inception-batch-16-bw-100-180417_070224.json', 'varied-bw-v100-remote-inception-batch-16-bw-1000-180417_071920.json', 'varied-bw-v100-remote-inception-batch-16-bw-500-180417_071100.json', 'varied-bw-v100-remote-inception-batch-16-bw-2000-180417_072835.json', 'varied-bw-v100-remote-inception-batch-16-bw-3000-180417_073705.json', 'varied-bw-v100-remote-inception-batch-16-bw-8000-180417_075401.json', 'varied-bw-v100-remote-inception-batch-16-bw-5000-180417_074516.json'])"
      ]
     },
     "execution_count": 6,
     "metadata": {},
     "output_type": "execute_result"
    }
   ],
   "source": [
    "results.keys()"
   ]
  },
  {
   "cell_type": "code",
   "execution_count": 7,
   "metadata": {},
   "outputs": [
    {
     "data": {
      "text/plain": [
       "dict_keys(['lineage', 'client_metrics', 'summary_metrics', 'clipper_metrics', 'background_bandwidth'])"
      ]
     },
     "execution_count": 7,
     "metadata": {},
     "output_type": "execute_result"
    }
   ],
   "source": [
    "results['varied-bw-v100-remote-inception-batch-16-bw-0.1-180417_065409.json'][\"throughput_results\"].keys()"
   ]
  },
  {
   "cell_type": "code",
   "execution_count": 19,
   "metadata": {},
   "outputs": [],
   "source": [
    "profs = []\n",
    "for fname, r in results.items():\n",
    "    throughput = snp.get_mean_throughput(r, \"throughput_results\")\n",
    "    lats = snp.extract_all_latencies(r)\n",
    "    p99_lat = np.percentile(lats, 99)\n",
    "    mean_lat = np.mean(lats)\n",
    "    bw_Mbps = r[\"throughput_results\"][\"background_bandwidth\"]\n",
    "    profs.append({\"bw_Mbps\": bw_Mbps, \"thru\": throughput[0],\n",
    "                  \"p99_lat\": p99_lat, \"mean_lat\" :mean_lat})\n",
    "\n",
    "df = pd.DataFrame(profs)\n",
    "df = df.sort_values(\"bw_Mbps\")"
   ]
  },
  {
   "cell_type": "code",
   "execution_count": 15,
   "metadata": {},
   "outputs": [],
   "source": [
    "df = pd.DataFrame(profs)"
   ]
  },
  {
   "cell_type": "code",
   "execution_count": 16,
   "metadata": {},
   "outputs": [],
   "source": [
    "df = df.sort_values(\"bw_Mbps\")"
   ]
  },
  {
   "cell_type": "code",
   "execution_count": 20,
   "metadata": {},
   "outputs": [
    {
     "data": {
      "text/html": [
       "<div>\n",
       "<style scoped>\n",
       "    .dataframe tbody tr th:only-of-type {\n",
       "        vertical-align: middle;\n",
       "    }\n",
       "\n",
       "    .dataframe tbody tr th {\n",
       "        vertical-align: top;\n",
       "    }\n",
       "\n",
       "    .dataframe thead th {\n",
       "        text-align: right;\n",
       "    }\n",
       "</style>\n",
       "<table border=\"1\" class=\"dataframe\">\n",
       "  <thead>\n",
       "    <tr style=\"text-align: right;\">\n",
       "      <th></th>\n",
       "      <th>bw_Mbps</th>\n",
       "      <th>mean_lat</th>\n",
       "      <th>p99_lat</th>\n",
       "      <th>thru</th>\n",
       "    </tr>\n",
       "  </thead>\n",
       "  <tbody>\n",
       "    <tr>\n",
       "      <th>0</th>\n",
       "      <td>0.1</td>\n",
       "      <td>0.091502</td>\n",
       "      <td>0.103900</td>\n",
       "      <td>174.9</td>\n",
       "    </tr>\n",
       "    <tr>\n",
       "      <th>1</th>\n",
       "      <td>100.0</td>\n",
       "      <td>0.097423</td>\n",
       "      <td>0.108518</td>\n",
       "      <td>232.3</td>\n",
       "    </tr>\n",
       "    <tr>\n",
       "      <th>3</th>\n",
       "      <td>500.0</td>\n",
       "      <td>0.093952</td>\n",
       "      <td>0.109361</td>\n",
       "      <td>233.1</td>\n",
       "    </tr>\n",
       "    <tr>\n",
       "      <th>2</th>\n",
       "      <td>1000.0</td>\n",
       "      <td>0.102301</td>\n",
       "      <td>0.113386</td>\n",
       "      <td>231.3</td>\n",
       "    </tr>\n",
       "    <tr>\n",
       "      <th>4</th>\n",
       "      <td>2000.0</td>\n",
       "      <td>0.097859</td>\n",
       "      <td>0.112312</td>\n",
       "      <td>235.9</td>\n",
       "    </tr>\n",
       "    <tr>\n",
       "      <th>5</th>\n",
       "      <td>3000.0</td>\n",
       "      <td>0.101808</td>\n",
       "      <td>0.117542</td>\n",
       "      <td>237.5</td>\n",
       "    </tr>\n",
       "    <tr>\n",
       "      <th>7</th>\n",
       "      <td>5000.0</td>\n",
       "      <td>0.101819</td>\n",
       "      <td>0.121210</td>\n",
       "      <td>237.5</td>\n",
       "    </tr>\n",
       "    <tr>\n",
       "      <th>6</th>\n",
       "      <td>8000.0</td>\n",
       "      <td>0.100849</td>\n",
       "      <td>0.113023</td>\n",
       "      <td>230.8</td>\n",
       "    </tr>\n",
       "  </tbody>\n",
       "</table>\n",
       "</div>"
      ],
      "text/plain": [
       "   bw_Mbps  mean_lat   p99_lat   thru\n",
       "0      0.1  0.091502  0.103900  174.9\n",
       "1    100.0  0.097423  0.108518  232.3\n",
       "3    500.0  0.093952  0.109361  233.1\n",
       "2   1000.0  0.102301  0.113386  231.3\n",
       "4   2000.0  0.097859  0.112312  235.9\n",
       "5   3000.0  0.101808  0.117542  237.5\n",
       "7   5000.0  0.101819  0.121210  237.5\n",
       "6   8000.0  0.100849  0.113023  230.8"
      ]
     },
     "execution_count": 20,
     "metadata": {},
     "output_type": "execute_result"
    }
   ],
   "source": [
    "df"
   ]
  },
  {
   "cell_type": "code",
   "execution_count": 28,
   "metadata": {},
   "outputs": [
    {
     "data": {
      "image/png": "[encoded data removed]",
      "text/plain": [
       "<matplotlib.figure.Figure at 0x12bc49e48>"
      ]
     },
     "metadata": {},
     "output_type": "display_data"
    }
   ],
   "source": [
    "fig, (ax_through, ax_lat) = plt.subplots(ncols=2, figsize=(11, 4))\n",
    "ax_through.plot(df.bw_Mbps, df.thru)\n",
    "ax_through.set_ylabel(\"Throughput\")\n",
    "ax_through.set_xlabel(\"Background Bandwidth (Mbps)\")\n",
    "ax_through.set_xscale(\"log\")\n",
    "ax_through.set_ylim(bottom=0)\n",
    "ax_lat.plot(df.bw_Mbps, df.p99_lat)\n",
    "ax_lat.set_ylabel(\"p99 latency (s)\")\n",
    "ax_lat.set_xlabel(\"Background Bandwidth (Mbps)\")\n",
    "ax_lat.set_xscale(\"log\")\n",
    "ax_lat.set_ylim(bottom=0)\n",
    "fig.suptitle(\"Inception batch size 16 on V100\")\n",
    "plt.savefig(\"background_bandwidth_vs_profile_inception.png\")\n",
    "plt.show()"
   ]
  },
  {
   "cell_type": "code",
   "execution_count": null,
   "metadata": {},
   "outputs": [],
   "source": []
  }
 ],
 "metadata": {
  "kernelspec": {
   "display_name": "Python 3",
   "language": "python",
   "name": "python3"
  },
  "language_info": {
   "codemirror_mode": {
    "name": "ipython",
    "version": 3
   },
   "file_extension": ".py",
   "mimetype": "text/x-python",
   "name": "python",
   "nbconvert_exporter": "python",
   "pygments_lexer": "ipython3",
   "version": "3.6.4"
  }
 },
 "nbformat": 4,
 "nbformat_minor": 2
}
