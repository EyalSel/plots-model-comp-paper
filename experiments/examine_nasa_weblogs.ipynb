{
 "cells": [
  {
   "cell_type": "markdown",
   "metadata": {},
   "source": [
    "# Examine and Prep NASA weblogs\n",
    "\n",
    "Data obtained from: http://ita.ee.lbl.gov/html/contrib/NASA-HTTP.html"
   ]
  },
  {
   "cell_type": "code",
   "execution_count": 1,
   "metadata": {},
   "outputs": [
    {
     "ename": "ModuleNotFoundError",
     "evalue": "No module named 'requests'",
     "output_type": "error",
     "traceback": [
      "\u001b[0;31m---------------------------------------------------------------------------\u001b[0m",
      "\u001b[0;31mModuleNotFoundError\u001b[0m                       Traceback (most recent call last)",
      "\u001b[0;32m<ipython-input-1-74c1856c4740>\u001b[0m in \u001b[0;36m<module>\u001b[0;34m()\u001b[0m\n\u001b[1;32m      1\u001b[0m \u001b[0;32mfrom\u001b[0m \u001b[0mdata_fetch_utils\u001b[0m \u001b[0;32mimport\u001b[0m \u001b[0mfetch_and_cache\u001b[0m\u001b[0;34m\u001b[0m\u001b[0m\n\u001b[1;32m      2\u001b[0m data_file1 = fetch_and_cache(\"ftp://ita.ee.lbl.gov/traces/NASA_access_log_Jul95.gz\", \n\u001b[0;32m----> 3\u001b[0;31m                             \"nasa1.gz\")\n\u001b[0m\u001b[1;32m      4\u001b[0m data_file2 = fetch_and_cache(\"ftp://ita.ee.lbl.gov/traces/NASA_access_log_Aug95.gz\", \n\u001b[1;32m      5\u001b[0m                             \"nasa2.gz\")\n",
      "\u001b[0;32m~/Dropbox/berkeley/riselab/model-comp-project/plots-model-comp-paper/experiments/data_fetch_utils.py\u001b[0m in \u001b[0;36mfetch_and_cache\u001b[0;34m(data_url, file, data_dir, force)\u001b[0m\n\u001b[1;32m     29\u001b[0m     \"\"\"\n\u001b[1;32m     30\u001b[0m \u001b[0;34m\u001b[0m\u001b[0m\n\u001b[0;32m---> 31\u001b[0;31m     \u001b[0;32mimport\u001b[0m \u001b[0mrequests\u001b[0m\u001b[0;34m\u001b[0m\u001b[0m\n\u001b[0m\u001b[1;32m     32\u001b[0m     \u001b[0;32mfrom\u001b[0m \u001b[0mhashlib\u001b[0m \u001b[0;32mimport\u001b[0m \u001b[0mmd5\u001b[0m\u001b[0;34m\u001b[0m\u001b[0m\n\u001b[1;32m     33\u001b[0m     \u001b[0;32mfrom\u001b[0m \u001b[0mpathlib\u001b[0m \u001b[0;32mimport\u001b[0m \u001b[0mPath\u001b[0m\u001b[0;34m\u001b[0m\u001b[0m\n",
      "\u001b[0;31mModuleNotFoundError\u001b[0m: No module named 'requests'"
     ]
    }
   ],
   "source": [
    "from data_fetch_utils import fetch_and_cache\n",
    "data_file1 = fetch_and_cache(\"ftp://ita.ee.lbl.gov/traces/NASA_access_log_Jul95.gz\", \n",
    "                            \"nasa1.gz\")\n",
    "data_file2 = fetch_and_cache(\"ftp://ita.ee.lbl.gov/traces/NASA_access_log_Aug95.gz\", \n",
    "                            \"nasa2.gz\")"
   ]
  },
  {
   "cell_type": "code",
   "execution_count": 2,
   "metadata": {},
   "outputs": [],
   "source": [
    "import gzip\n",
    "import re\n",
    "from datetime import datetime\n",
    "\n",
    "def extract_dates(fp):\n",
    "    for line in fp:\n",
    "        line = line.decode(\"UTF8\", errors=\"ignore\")\n",
    "        m = re.match(r\".*\\[([^\\]]*)\\]\", line)\n",
    "        if m:\n",
    "            yield datetime.strptime(m.groups()[0], \"%d/%b/%Y:%H:%M:%S %z\") \n",
    "\n",
    "with gzip.open(data_file1, \"r\") as f:\n",
    "    dates1 = list(extract_dates(f))\n",
    "with gzip.open(data_file2, \"r\") as f:\n",
    "    dates2 = list(extract_dates(f))"
   ]
  },
  {
   "cell_type": "code",
   "execution_count": 3,
   "metadata": {},
   "outputs": [],
   "source": [
    "import pandas as pd\n",
    "dates = pd.concat([pd.Series(dates1), pd.Series(dates2)]).reset_index(drop=True)"
   ]
  },
  {
   "cell_type": "code",
   "execution_count": 4,
   "metadata": {},
   "outputs": [],
   "source": [
    "elapsed = dates - dates.min()\n",
    "elapsed_ms = elapsed.dt.total_seconds() * 1000"
   ]
  },
  {
   "cell_type": "code",
   "execution_count": 5,
   "metadata": {},
   "outputs": [
    {
     "data": {
      "text/plain": [
       "[<matplotlib.lines.Line2D at 0x1252960f0>]"
      ]
     },
     "execution_count": 5,
     "metadata": {},
     "output_type": "execute_result"
    }
   ],
   "source": [
    "import matplotlib.pyplot as plt\n",
    "plt.plot(elapsed_ms)"
   ]
  },
  {
   "cell_type": "code",
   "execution_count": 6,
   "metadata": {},
   "outputs": [],
   "source": [
    "import pickle\n",
    "with gzip.open(\"nasa_weblog_times.pkl.gz\", \"wb\") as f:\n",
    "    pickle.dump(elapsed_ms.values, f)"
   ]
  }
 ],
 "metadata": {
  "kernelspec": {
   "display_name": "Python 3",
   "language": "python",
   "name": "python3"
  },
  "language_info": {
   "codemirror_mode": {
    "name": "ipython",
    "version": 3
   },
   "file_extension": ".py",
   "mimetype": "text/x-python",
   "name": "python",
   "nbconvert_exporter": "python",
   "pygments_lexer": "ipython3",
   "version": "3.6.4"
  }
 },
 "nbformat": 4,
 "nbformat_minor": 2
}
