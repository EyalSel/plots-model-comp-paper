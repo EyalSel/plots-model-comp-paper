{
 "cells": [
  {
   "cell_type": "markdown",
   "metadata": {},
   "source": [
    "# Examine and Prep NASA weblogs\n",
    "\n",
    "Data obtained from: http://ita.ee.lbl.gov/html/contrib/NASA-HTTP.html"
   ]
  },
  {
   "cell_type": "code",
   "execution_count": 1,
   "metadata": {},
   "outputs": [
    {
     "name": "stdout",
     "output_type": "stream",
     "text": [
      "Using version already downloaded: Tue Apr 24 23:55:58 2018\n",
      "MD5 hash of file: b7e1447e521cdb602f51e78a170db542\n",
      "Using version already downloaded: Wed Apr 25 00:31:29 2018\n",
      "MD5 hash of file: 5eb26c301d3a7476fbc289e95ed4d4ae\n"
     ]
    }
   ],
   "source": [
    "from data_fetch_utils import fetch_and_cache\n",
    "data_file1 = fetch_and_cache(\"ftp://ita.ee.lbl.gov/traces/NASA_access_log_Jul95.gz\", \n",
    "                            \"nasa1.gz\")\n",
    "data_file2 = fetch_and_cache(\"ftp://ita.ee.lbl.gov/traces/NASA_access_log_Aug95.gz\", \n",
    "                            \"nasa2.gz\")"
   ]
  },
  {
   "cell_type": "code",
   "execution_count": 2,
   "metadata": {},
   "outputs": [],
   "source": [
    "import gzip\n",
    "import re\n",
    "from datetime import datetime\n",
    "\n",
    "def extract_dates(fp):\n",
    "    for line in fp:\n",
    "        line = line.decode(\"UTF8\", errors=\"ignore\")\n",
    "        m = re.match(r\".*\\[([^\\]]*)\\]\", line)\n",
    "        if m:\n",
    "            yield datetime.strptime(m.groups()[0], \"%d/%b/%Y:%H:%M:%S %z\") \n",
    "\n",
    "with gzip.open(data_file1, \"r\") as f:\n",
    "    dates1 = list(extract_dates(f))\n",
    "with gzip.open(data_file2, \"r\") as f:\n",
    "    dates2 = list(extract_dates(f))"
   ]
  },
  {
   "cell_type": "code",
   "execution_count": 3,
   "metadata": {},
   "outputs": [],
   "source": [
    "import pandas as pd\n",
    "dates = pd.concat([pd.Series(dates1), pd.Series(dates2)]).reset_index(drop=True)"
   ]
  },
  {
   "cell_type": "code",
   "execution_count": 4,
   "metadata": {},
   "outputs": [],
   "source": [
    "elapsed = dates - dates.min()\n",
    "elapsed_ms = elapsed.dt.total_seconds() * 1000"
   ]
  },
  {
   "cell_type": "code",
   "execution_count": 5,
   "metadata": {},
   "outputs": [
    {
     "data": {
      "text/plain": [
       "[<matplotlib.lines.Line2D at 0x1252960f0>]"
      ]
     },
     "execution_count": 5,
     "metadata": {},
     "output_type": "execute_result"
    }
   ],
   "source": [
    "import matplotlib.pyplot as plt\n",
    "plt.plot(elapsed_ms)"
   ]
  },
  {
   "cell_type": "code",
   "execution_count": 6,
   "metadata": {},
   "outputs": [],
   "source": [
    "import pickle\n",
    "with gzip.open(\"nasa_weblog_times.pkl.gz\", \"wb\") as f:\n",
    "    pickle.dump(elapsed_ms.values, f)"
   ]
  }
 ],
 "metadata": {
  "kernelspec": {
   "display_name": "Python 3",
   "language": "python",
   "name": "python3"
  },
  "language_info": {
   "codemirror_mode": {
    "name": "ipython",
    "version": 3
   },
   "file_extension": ".py",
   "mimetype": "text/x-python",
   "name": "python",
   "nbconvert_exporter": "python",
   "pygments_lexer": "ipython3",
   "version": "3.6.4"
  }
 },
 "nbformat": 4,
 "nbformat_minor": 2
}
