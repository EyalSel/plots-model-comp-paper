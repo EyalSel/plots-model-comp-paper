{
 "cells": [
  {
   "cell_type": "code",
   "execution_count": 1,
   "metadata": {
    "collapsed": true
   },
   "outputs": [],
   "source": [
    "import numpy as np"
   ]
  },
  {
   "cell_type": "code",
   "execution_count": 3,
   "metadata": {
    "collapsed": true
   },
   "outputs": [],
   "source": [
    "gpu_cost = 70.0 # $0.70/hour on GCP\n",
    "cpu_cost = 4.75 # $0.04/hour on GCP"
   ]
  },
  {
   "cell_type": "code",
   "execution_count": 4,
   "metadata": {},
   "outputs": [
    {
     "data": {
      "text/plain": [
       "14.736842105263158"
      ]
     },
     "execution_count": 4,
     "metadata": {},
     "output_type": "execute_result"
    }
   ],
   "source": [
    "gpu_cost/cpu_cost"
   ]
  },
  {
   "cell_type": "code",
   "execution_count": 53,
   "metadata": {},
   "outputs": [
    {
     "name": "stdout",
     "output_type": "stream",
     "text": [
      "9.507512520868113\n"
     ]
    }
   ],
   "source": [
    "class Model(object):\n",
    "    def __init__(self, throughput, cost):\n",
    "        self.throughput = throughput\n",
    "        self.cost = cost\n",
    "\n",
    "\n",
    "class App(object):\n",
    "    def __init__(self, models):\n",
    "        self.models = models\n",
    "    \n",
    "    def single_proc_cost(self, desired_throughput):\n",
    "        min_thru = np.min([m.throughput for m in self.models])\n",
    "        cost_per_rep = np.sum([m.cost for m in self.models])\n",
    "        num_reps = np.ceil(float(desired_throughput)/float(min_thru))\n",
    "        return float(num_reps * cost_per_rep)\n",
    "        \n",
    "    def sx_cost(self, desired_throughput):\n",
    "        cost = 0.0\n",
    "        for m in self.models:\n",
    "            num_reps = np.ceil(float(desired_throughput)/float(m.throughput))\n",
    "            cost += m.cost * num_reps\n",
    "        return float(cost)\n",
    "    \n",
    "    def cost_ratio(self, desired_throughput):\n",
    "        return self.single_proc_cost(desired_throughput)/self.sx_cost(desired_throughput)\n",
    "\n",
    "models = [Model(12, cpu_cost), Model(150, gpu_cost), Model(150, gpu_cost), Model(100, gpu_cost), Model(150, gpu_cost)]\n",
    "app = App(models)\n",
    "print(app.cost_ratio(600))"
   ]
  },
  {
   "cell_type": "code",
   "execution_count": 68,
   "metadata": {
    "collapsed": true
   },
   "outputs": [],
   "source": [
    "x = np.random.random((12000, 4096))"
   ]
  },
  {
   "cell_type": "code",
   "execution_count": 70,
   "metadata": {
    "collapsed": true
   },
   "outputs": [],
   "source": [
    "y = np.random.random((5, 4096))"
   ]
  },
  {
   "cell_type": "code",
   "execution_count": 60,
   "metadata": {},
   "outputs": [],
   "source": [
    "from sklearn.metrics.pairwise import rbf_kernel\n",
    "import timeit\n",
    "import time"
   ]
  },
  {
   "cell_type": "code",
   "execution_count": 71,
   "metadata": {},
   "outputs": [
    {
     "name": "stdout",
     "output_type": "stream",
     "text": [
      "145 ms ± 5.76 ms per loop (mean ± std. dev. of 7 runs, 10 loops each)\n"
     ]
    }
   ],
   "source": [
    "\n",
    "%timeit rbf_kernel(x, y)\n"
   ]
  },
  {
   "cell_type": "code",
   "execution_count": 46,
   "metadata": {},
   "outputs": [
    {
     "data": {
      "text/plain": [
       "3.724170262023108"
      ]
     },
     "execution_count": 46,
     "metadata": {},
     "output_type": "execute_result"
    }
   ],
   "source": [
    "t.timeit(number=1)"
   ]
  },
  {
   "cell_type": "code",
   "execution_count": null,
   "metadata": {
    "collapsed": true
   },
   "outputs": [],
   "source": [
    "from sklearn.ensemble import RandomForestClassifier"
   ]
  }
 ],
 "metadata": {
  "kernelspec": {
   "display_name": "Python 3",
   "language": "python",
   "name": "python3"
  },
  "language_info": {
   "codemirror_mode": {
    "name": "ipython",
    "version": 3
   },
   "file_extension": ".py",
   "mimetype": "text/x-python",
   "name": "python",
   "nbconvert_exporter": "python",
   "pygments_lexer": "ipython3",
   "version": "3.6.2"
  }
 },
 "nbformat": 4,
 "nbformat_minor": 2
}
