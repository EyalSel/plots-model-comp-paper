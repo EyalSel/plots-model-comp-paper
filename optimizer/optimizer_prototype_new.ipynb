{
 "cells": [
  {
   "cell_type": "code",
   "execution_count": 1,
   "metadata": {
    "collapsed": true
   },
   "outputs": [],
   "source": [
    "%load_ext autoreload\n",
    "%autoreload 2"
   ]
  },
  {
   "cell_type": "code",
   "execution_count": 17,
   "metadata": {
    "collapsed": true
   },
   "outputs": [],
   "source": [
    "import os\n",
    "import sys\n",
    "sys.dont_write_bytecode = True\n",
    "import json\n",
    "import time\n",
    "from datetime import datetime\n",
    "import single_node_profiles_cpp as snp\n",
    "import profiler\n",
    "import numpy as np\n",
    "from optimizer import GreedyOptimizer\n",
    "from IPython.display import display\n",
    "import matplotlib.pyplot as plt\n",
    "import utils\n",
    "%matplotlib inline\n"
   ]
  },
  {
   "cell_type": "code",
   "execution_count": 4,
   "metadata": {
    "collapsed": true
   },
   "outputs": [],
   "source": [
    "profs = snp.load_single_node_profiles(models=[\"tf-resnet-feats\", \"inception\", \"tf-kernel-svm\", \"tf-log-reg\"])"
   ]
  },
  {
   "cell_type": "code",
   "execution_count": 5,
   "metadata": {},
   "outputs": [
    {
     "data": {
      "text/plain": [
       "[u'inception', u'tf-kernel-svm', u'tf-resnet-feats', u'tf-log-reg']"
      ]
     },
     "execution_count": 5,
     "metadata": {},
     "output_type": "execute_result"
    }
   ],
   "source": [
    "profs.keys()"
   ]
  },
  {
   "cell_type": "code",
   "execution_count": 7,
   "metadata": {},
   "outputs": [
    {
     "name": "stdout",
     "output_type": "stream",
     "text": [
      "inception\n"
     ]
    }
   ],
   "source": [
    "dag = profiler.get_logical_pipeline(\"pipeline_one\")\n",
    "with open(os.path.abspath(\"../results_python_benchmarker/e2e_profs_new_metrics/incep_1-logreg_1-ksvm_1-resnet_1-180207_063416.json\")) as f:\n",
    "    sample_run = json.load(f)\n",
    "print(dag.reference_node)\n",
    "scale_factors = {'inception': 1.0, 'tf-log-reg': 1.0, 'tf-kernel-svm': 1.0, 'tf-resnet-feats': 1.0}\n",
    "node_configs = profiler.get_node_configs_from_experiment(sample_run)\n",
    "def which_stage(model_name):\n",
    "    if model_name == \"tf-kernel-svm\" or model_name == \"tf-log-reg\":\n",
    "        return \"latency_stage\"\n",
    "    else:\n",
    "        return \"thru_stage\"\n",
    "node_profs = {name : profiler.NodeProfile(name, profs[name], which_stage(name)) for name, _ in node_configs.items()}"
   ]
  },
  {
   "cell_type": "code",
   "execution_count": 14,
   "metadata": {
    "scrolled": false
   },
   "outputs": [
    {
     "data": {
      "text/plain": [
       "array([[1.0000000e+00, 1.3254010e-01, 1.0000000e+01],\n",
       "       [2.0000000e+00, 1.3424957e-01, 1.9700000e+01],\n",
       "       [4.0000000e+00, 1.3839000e-01, 3.8600000e+01],\n",
       "       [8.0000000e+00, 1.4921285e-01, 7.6100000e+01],\n",
       "       [1.2000000e+01, 1.5238963e-01, 1.0520000e+02],\n",
       "       [1.6000000e+01, 1.7264560e-01, 1.2620000e+02],\n",
       "       [2.4000000e+01, 2.1201610e-01, 1.6890000e+02],\n",
       "       [3.2000000e+01, 2.5663817e-01, 1.9150000e+02],\n",
       "       [4.2870000e+01, 5.3025450e-01, 2.0900000e+02]])"
      ]
     },
     "execution_count": 14,
     "metadata": {},
     "output_type": "execute_result"
    }
   ],
   "source": [
    "resnet = profiler.NodeProfile(\"tf-resnet-feats\", profs[\"tf-resnet-feats\"], \"thru_stage\")\n",
    "resnet_array = np.sort(resnet.profile[[\"mean_batch_size\", \"p99_latency\", \"thru_stage_mean_throughput_qps\"]].values, axis=0)\n",
    "resnet_array = resnet_array[np.argsort(resnet_array[:,0])]\n",
    "resnet_array"
   ]
  },
  {
   "cell_type": "code",
   "execution_count": 15,
   "metadata": {},
   "outputs": [
    {
     "data": {
      "text/plain": [
       "array([[1.00000000e+00, 6.81030500e-02, 2.63000000e+01],\n",
       "       [2.00000000e+00, 7.28235000e-02, 4.58000000e+01],\n",
       "       [4.00000000e+00, 7.38842600e-02, 8.15000000e+01],\n",
       "       [8.00000000e+00, 1.05866700e-01, 1.32800000e+02],\n",
       "       [1.20000000e+01, 1.12031640e-01, 1.79500000e+02],\n",
       "       [1.60000000e+01, 1.49952640e-01, 1.99500000e+02],\n",
       "       [2.40000000e+01, 1.95421250e-01, 2.13000000e+02],\n",
       "       [2.54766667e+01, 9.03275120e-01, 2.50200000e+02],\n",
       "       [3.19866667e+01, 1.05310206e+00, 2.54300000e+02]])"
      ]
     },
     "execution_count": 15,
     "metadata": {},
     "output_type": "execute_result"
    }
   ],
   "source": [
    "inception = profiler.NodeProfile(\"inception\", profs[\"inception\"], \"thru_stage\")\n",
    "inception_array = np.sort(inception.profile[[\"mean_batch_size\", \"p99_latency\", \"thru_stage_mean_throughput_qps\"]].values, axis=0)\n",
    "inception_array = inception_array[np.argsort(inception_array[:,0])]\n",
    "inception_array"
   ]
  },
  {
   "cell_type": "code",
   "execution_count": 20,
   "metadata": {},
   "outputs": [
    {
     "data": {
      "text/plain": [
       "array([[1.0000000e+00, 4.5305130e-02, 4.2300000e+01],\n",
       "       [2.0000000e+00, 4.5864000e-02, 7.4300000e+01],\n",
       "       [4.0000000e+00, 5.1040710e-02, 1.3840000e+02],\n",
       "       [8.0000000e+00, 5.4351710e-02, 2.7690000e+02],\n",
       "       [1.2000000e+01, 5.9511130e-02, 3.9000000e+02],\n",
       "       [1.6000000e+01, 6.5195470e-02, 4.9870000e+02],\n",
       "       [2.4000000e+01, 7.5762700e-02, 6.5550000e+02],\n",
       "       [4.8000000e+01, 9.3624520e-02, 8.1150000e+02],\n",
       "       [6.4000000e+01, 1.2436674e-01, 9.0780000e+02]])"
      ]
     },
     "execution_count": 20,
     "metadata": {},
     "output_type": "execute_result"
    }
   ],
   "source": [
    "inception = profiler.NodeProfile(\"tf-kernel-svm\", profs[\"tf-kernel-svm\"], \"thru_stage\")\n",
    "inception_array = np.sort(inception.profile[[\"mean_batch_size\", \"p99_latency\", \"thru_stage_mean_throughput_qps\"]].values, axis=0)\n",
    "inception_array = inception_array[np.argsort(inception_array[:,0])]\n",
    "inception_array"
   ]
  },
  {
   "cell_type": "code",
   "execution_count": 21,
   "metadata": {},
   "outputs": [
    {
     "data": {
      "text/plain": [
       "array([[1.000000e+00, 2.928447e-02, 5.315000e+02],\n",
       "       [2.000000e+00, 3.027719e-02, 6.086000e+02],\n",
       "       [4.000000e+00, 3.197647e-02, 1.038900e+03],\n",
       "       [8.000000e+00, 3.615806e-02, 1.094800e+03]])"
      ]
     },
     "execution_count": 21,
     "metadata": {},
     "output_type": "execute_result"
    }
   ],
   "source": [
    "inception = profiler.NodeProfile(\"tf-log-reg\", profs[\"tf-log-reg\"], \"thru_stage\")\n",
    "inception_array = np.sort(inception.profile[[\"mean_batch_size\", \"p99_latency\", \"thru_stage_mean_throughput_qps\"]].values, axis=0)\n",
    "inception_array = inception_array[np.argsort(inception_array[:,0])]\n",
    "inception_array"
   ]
  },
  {
   "cell_type": "code",
   "execution_count": 19,
   "metadata": {},
   "outputs": [
    {
     "data": {
      "text/plain": [
       "10.644"
      ]
     },
     "execution_count": 19,
     "metadata": {},
     "output_type": "execute_result"
    }
   ],
   "source": [
    "cost = utils.get_cpu_cost(cloud, 8) + utils.get_gpu_cost(cloud, \"v100\", num_gpus=4)\n",
    "cost"
   ]
  },
  {
   "cell_type": "code",
   "execution_count": 18,
   "metadata": {
    "scrolled": false
   },
   "outputs": [
    {
     "name": "stderr",
     "output_type": "stream",
     "text": [
      "[optimizer.py:253] \n",
      "\n",
      "Evaluating step gpu\n",
      "[optimizer.py:309] \tAction configuration returned as None\n",
      "[optimizer.py:253] \n",
      "\n",
      "Evaluating step replication_factor\n",
      "[optimizer.py:257] \tOld config: NodeConfig(tf-resnet-feats, 1, v100, 1, 1, aws)\n",
      "New config: NodeConfig(tf-resnet-feats, 1, v100, 1, 2, aws)\n",
      "[optimizer.py:265] \tNew estimated perf: {'latency': 0.1795547, 'cost': 7.916499999999999, 'throughput': 20.0}\n",
      "[optimizer.py:270] \tDoing network calc\n",
      "[optimizer.py:282] \tResponse time: inf, T_s=0.1795547, T_q=inf\n",
      "[optimizer.py:307] \tSetting best action response time to inf\n",
      "[optimizer.py:253] \n",
      "\n",
      "Evaluating step batch_size\n",
      "[optimizer.py:257] \tOld config: NodeConfig(tf-resnet-feats, 1, v100, 1, 1, aws)\n",
      "New config: NodeConfig(tf-resnet-feats, 1, v100, 2.0, 1, aws)\n",
      "[optimizer.py:265] \tNew estimated perf: {'latency': 0.18369512999999998, 'cost': 5.321999999999999, 'throughput': 19.7}\n",
      "[optimizer.py:270] \tDoing network calc\n",
      "[optimizer.py:282] \tResponse time: inf, T_s=0.18369513, T_q=inf\n",
      "[optimizer.py:321] Upgrading bottleneck node tf-resnet-feats to NodeConfig(tf-resnet-feats, 1, v100, 1, 2, aws).\n",
      "Increased.\n",
      "New config: {'inception': NodeConfig(inception, 1, v100, 1, 1, aws), 'tf-kernel-svm': NodeConfig(tf-kernel-svm, 1, none, 1, 1, aws), 'tf-resnet-feats': NodeConfig(tf-resnet-feats, 1, v100, 1, 2, aws), 'tf-log-reg': NodeConfig(tf-log-reg, 1, none, 1, 1, aws)}\n",
      "[optimizer.py:328] Finished iteration 0\n",
      "[optimizer.py:253] \n",
      "\n",
      "Evaluating step gpu\n",
      "[optimizer.py:309] \tAction configuration returned as None\n",
      "[optimizer.py:253] \n",
      "\n",
      "Evaluating step replication_factor\n",
      "[optimizer.py:257] \tOld config: NodeConfig(tf-resnet-feats, 1, v100, 1, 2, aws)\n",
      "New config: NodeConfig(tf-resnet-feats, 1, v100, 1, 3, aws)\n",
      "[optimizer.py:265] \tNew estimated perf: {'latency': 0.1795547, 'cost': 10.511, 'throughput': 26.3}\n",
      "[optimizer.py:270] \tDoing network calc\n",
      "[optimizer.py:282] \tResponse time: inf, T_s=0.1795547, T_q=inf\n",
      "[optimizer.py:307] \tSetting best action response time to inf\n",
      "[optimizer.py:253] \n",
      "\n",
      "Evaluating step batch_size\n",
      "[optimizer.py:257] \tOld config: NodeConfig(tf-resnet-feats, 1, v100, 1, 2, aws)\n",
      "New config: NodeConfig(tf-resnet-feats, 1, v100, 2.0, 2, aws)\n",
      "[optimizer.py:265] \tNew estimated perf: {'latency': 0.18369512999999998, 'cost': 7.916499999999999, 'throughput': 26.3}\n",
      "[optimizer.py:270] \tDoing network calc\n",
      "[optimizer.py:282] \tResponse time: inf, T_s=0.18369513, T_q=inf\n",
      "[optimizer.py:321] Upgrading bottleneck node tf-resnet-feats to NodeConfig(tf-resnet-feats, 1, v100, 1, 3, aws).\n",
      "Increased.\n",
      "New config: {'inception': NodeConfig(inception, 1, v100, 1, 1, aws), 'tf-kernel-svm': NodeConfig(tf-kernel-svm, 1, none, 1, 1, aws), 'tf-resnet-feats': NodeConfig(tf-resnet-feats, 1, v100, 1, 3, aws), 'tf-log-reg': NodeConfig(tf-log-reg, 1, none, 1, 1, aws)}\n",
      "[optimizer.py:328] Finished iteration 1\n",
      "[optimizer.py:253] \n",
      "\n",
      "Evaluating step gpu\n",
      "[optimizer.py:309] \tAction configuration returned as None\n",
      "[optimizer.py:253] \n",
      "\n",
      "Evaluating step replication_factor\n",
      "[optimizer.py:257] \tOld config: NodeConfig(inception, 1, v100, 1, 1, aws)\n",
      "New config: NodeConfig(inception, 1, v100, 1, 2, aws)\n",
      "[optimizer.py:265] \tNew estimated perf: {'latency': 0.1795547, 'cost': 13.1055, 'throughput': 30.0}\n",
      "[optimizer.py:268] Cost 13.1055 higher than constraint 10.644, skipping this action\n",
      "[optimizer.py:253] \n",
      "\n",
      "Evaluating step batch_size\n",
      "[optimizer.py:257] \tOld config: NodeConfig(inception, 1, v100, 1, 1, aws)\n",
      "New config: NodeConfig(inception, 1, v100, 2.0, 1, aws)\n",
      "[optimizer.py:265] \tNew estimated perf: {'latency': 0.1795547, 'cost': 10.511, 'throughput': 30.0}\n",
      "[optimizer.py:270] \tDoing network calc\n",
      "[optimizer.py:282] \tResponse time: inf, T_s=0.1795547, T_q=inf\n",
      "[optimizer.py:307] \tSetting best action response time to inf\n",
      "[optimizer.py:321] Upgrading bottleneck node inception to NodeConfig(inception, 1, v100, 2.0, 1, aws).\n",
      "Increased.\n",
      "New config: {'inception': NodeConfig(inception, 1, v100, 2.0, 1, aws), 'tf-kernel-svm': NodeConfig(tf-kernel-svm, 1, none, 1, 1, aws), 'tf-resnet-feats': NodeConfig(tf-resnet-feats, 1, v100, 1, 3, aws), 'tf-log-reg': NodeConfig(tf-log-reg, 1, none, 1, 1, aws)}\n",
      "[optimizer.py:328] Finished iteration 2\n",
      "[optimizer.py:253] \n",
      "\n",
      "Evaluating step gpu\n",
      "[optimizer.py:309] \tAction configuration returned as None\n",
      "[optimizer.py:253] \n",
      "\n",
      "Evaluating step replication_factor\n",
      "[optimizer.py:257] \tOld config: NodeConfig(tf-resnet-feats, 1, v100, 1, 3, aws)\n",
      "New config: NodeConfig(tf-resnet-feats, 1, v100, 1, 4, aws)\n",
      "[optimizer.py:265] \tNew estimated perf: {'latency': 0.1795547, 'cost': 13.1055, 'throughput': 40.0}\n",
      "[optimizer.py:268] Cost 13.1055 higher than constraint 10.644, skipping this action\n",
      "[optimizer.py:253] \n",
      "\n",
      "Evaluating step batch_size\n",
      "[optimizer.py:257] \tOld config: NodeConfig(tf-resnet-feats, 1, v100, 1, 3, aws)\n",
      "New config: NodeConfig(tf-resnet-feats, 1, v100, 2.0, 3, aws)\n",
      "[optimizer.py:265] \tNew estimated perf: {'latency': 0.18369512999999998, 'cost': 10.511, 'throughput': 43.8}\n",
      "[optimizer.py:270] \tDoing network calc\n",
      "[optimizer.py:282] \tResponse time: inf, T_s=0.18369513, T_q=inf\n",
      "[optimizer.py:307] \tSetting best action response time to inf\n",
      "[optimizer.py:321] Upgrading bottleneck node tf-resnet-feats to NodeConfig(tf-resnet-feats, 1, v100, 2.0, 3, aws).\n",
      "Increased.\n",
      "New config: {'inception': NodeConfig(inception, 1, v100, 2.0, 1, aws), 'tf-kernel-svm': NodeConfig(tf-kernel-svm, 1, none, 1, 1, aws), 'tf-resnet-feats': NodeConfig(tf-resnet-feats, 1, v100, 2.0, 3, aws), 'tf-log-reg': NodeConfig(tf-log-reg, 1, none, 1, 1, aws)}\n",
      "[optimizer.py:328] Finished iteration 3\n",
      "[optimizer.py:253] \n",
      "\n",
      "Evaluating step gpu\n",
      "[optimizer.py:309] \tAction configuration returned as None\n",
      "[optimizer.py:253] \n",
      "\n",
      "Evaluating step replication_factor\n",
      "[optimizer.py:257] \tOld config: NodeConfig(tf-kernel-svm, 1, none, 1, 1, aws)\n",
      "New config: NodeConfig(tf-kernel-svm, 1, none, 1, 2, aws)\n",
      "[optimizer.py:265] \tNew estimated perf: {'latency': 0.18369512999999998, 'cost': 10.577499999999999, 'throughput': 45.8}\n",
      "[optimizer.py:270] \tDoing network calc\n",
      "[optimizer.py:282] \tResponse time: inf, T_s=0.18369513, T_q=inf\n",
      "[optimizer.py:307] \tSetting best action response time to inf\n",
      "[optimizer.py:253] \n",
      "\n",
      "Evaluating step batch_size\n",
      "[optimizer.py:257] \tOld config: NodeConfig(tf-kernel-svm, 1, none, 1, 1, aws)\n",
      "New config: NodeConfig(tf-kernel-svm, 1, none, 2.0, 1, aws)\n",
      "[optimizer.py:265] \tNew estimated perf: {'latency': 0.18943071, 'cost': 10.511, 'throughput': 45.8}\n",
      "[optimizer.py:270] \tDoing network calc\n",
      "[optimizer.py:282] \tResponse time: inf, T_s=0.18943071, T_q=inf\n",
      "[optimizer.py:321] Upgrading bottleneck node tf-kernel-svm to NodeConfig(tf-kernel-svm, 1, none, 1, 2, aws).\n",
      "Increased.\n",
      "New config: {'inception': NodeConfig(inception, 1, v100, 2.0, 1, aws), 'tf-kernel-svm': NodeConfig(tf-kernel-svm, 1, none, 1, 2, aws), 'tf-resnet-feats': NodeConfig(tf-resnet-feats, 1, v100, 2.0, 3, aws), 'tf-log-reg': NodeConfig(tf-log-reg, 1, none, 1, 1, aws)}\n",
      "[optimizer.py:328] Finished iteration 4\n",
      "[optimizer.py:253] \n",
      "\n",
      "Evaluating step gpu\n",
      "[optimizer.py:309] \tAction configuration returned as None\n",
      "[optimizer.py:253] \n",
      "\n",
      "Evaluating step replication_factor\n",
      "[optimizer.py:257] \tOld config: NodeConfig(inception, 1, v100, 2.0, 1, aws)\n",
      "New config: NodeConfig(inception, 1, v100, 2.0, 2, aws)\n",
      "[optimizer.py:265] \tNew estimated perf: {'latency': 0.18369512999999998, 'cost': 13.171999999999999, 'throughput': 59.099999999999994}\n",
      "[optimizer.py:268] Cost 13.172 higher than constraint 10.644, skipping this action\n",
      "[optimizer.py:253] \n",
      "\n",
      "Evaluating step batch_size\n",
      "[optimizer.py:257] \tOld config: NodeConfig(inception, 1, v100, 2.0, 1, aws)\n",
      "New config: NodeConfig(inception, 1, v100, 4.0, 1, aws)\n",
      "[optimizer.py:265] \tNew estimated perf: {'latency': 0.18369512999999998, 'cost': 10.577499999999999, 'throughput': 59.099999999999994}\n",
      "[optimizer.py:270] \tDoing network calc\n",
      "[optimizer.py:282] \tResponse time: 5.28887531179, T_s=0.18369513, T_q=5.10518018179\n",
      "[optimizer.py:307] \tSetting best action response time to 5.28887531179\n",
      "[optimizer.py:321] Upgrading bottleneck node inception to NodeConfig(inception, 1, v100, 4.0, 1, aws).\n",
      "Increased.\n",
      "New config: {'inception': NodeConfig(inception, 1, v100, 4.0, 1, aws), 'tf-kernel-svm': NodeConfig(tf-kernel-svm, 1, none, 1, 2, aws), 'tf-resnet-feats': NodeConfig(tf-resnet-feats, 1, v100, 2.0, 3, aws), 'tf-log-reg': NodeConfig(tf-log-reg, 1, none, 1, 1, aws)}\n",
      "[optimizer.py:328] Finished iteration 5\n",
      "[optimizer.py:253] \n",
      "\n",
      "Evaluating step gpu\n",
      "[optimizer.py:309] \tAction configuration returned as None\n",
      "[optimizer.py:253] \n",
      "\n",
      "Evaluating step replication_factor\n",
      "[optimizer.py:257] \tOld config: NodeConfig(tf-resnet-feats, 1, v100, 2.0, 3, aws)\n",
      "New config: NodeConfig(tf-resnet-feats, 1, v100, 2.0, 4, aws)\n",
      "[optimizer.py:265] \tNew estimated perf: {'latency': 0.18369512999999998, 'cost': 13.171999999999999, 'throughput': 78.8}\n",
      "[optimizer.py:268] Cost 13.172 higher than constraint 10.644, skipping this action\n",
      "[optimizer.py:253] \n",
      "\n",
      "Evaluating step batch_size\n",
      "[optimizer.py:257] \tOld config: NodeConfig(tf-resnet-feats, 1, v100, 2.0, 3, aws)\n",
      "New config: NodeConfig(tf-resnet-feats, 1, v100, 4.0, 3, aws)\n",
      "[optimizer.py:265] \tNew estimated perf: {'latency': 0.17784522999999997, 'cost': 10.577499999999999, 'throughput': 81.5}\n",
      "[optimizer.py:270] \tDoing network calc\n",
      "[optimizer.py:282] \tResponse time: 0.771538111586, T_s=0.17784523, T_q=0.593692881586\n",
      "[optimizer.py:307] \tSetting best action response time to 0.771538111586\n",
      "[optimizer.py:321] Upgrading bottleneck node tf-resnet-feats to NodeConfig(tf-resnet-feats, 1, v100, 4.0, 3, aws).\n",
      "Increased.\n",
      "New config: {'inception': NodeConfig(inception, 1, v100, 4.0, 1, aws), 'tf-kernel-svm': NodeConfig(tf-kernel-svm, 1, none, 1, 2, aws), 'tf-resnet-feats': NodeConfig(tf-resnet-feats, 1, v100, 4.0, 3, aws), 'tf-log-reg': NodeConfig(tf-log-reg, 1, none, 1, 1, aws)}\n",
      "[optimizer.py:328] Finished iteration 6\n",
      "[optimizer.py:253] \n",
      "\n",
      "Evaluating step gpu\n",
      "[optimizer.py:309] \tAction configuration returned as None\n",
      "[optimizer.py:253] \n",
      "\n",
      "Evaluating step replication_factor\n",
      "[optimizer.py:257] \tOld config: NodeConfig(inception, 1, v100, 4.0, 1, aws)\n",
      "New config: NodeConfig(inception, 1, v100, 4.0, 2, aws)\n",
      "[optimizer.py:265] \tNew estimated perf: {'latency': 0.17784522999999997, 'cost': 13.171999999999999, 'throughput': 87.6}\n",
      "[optimizer.py:268] Cost 13.172 higher than constraint 10.644, skipping this action\n",
      "[optimizer.py:253] \n",
      "\n",
      "Evaluating step batch_size\n",
      "[optimizer.py:257] \tOld config: NodeConfig(inception, 1, v100, 4.0, 1, aws)\n",
      "New config: NodeConfig(inception, 1, v100, 8.0, 1, aws)\n",
      "[optimizer.py:265] \tNew estimated perf: {'latency': 0.17784522999999997, 'cost': 10.577499999999999, 'throughput': 87.6}\n",
      "[optimizer.py:270] \tDoing network calc\n",
      "[optimizer.py:282] \tResponse time: 0.700101786756, T_s=0.17784523, T_q=0.522256556756\n",
      "[optimizer.py:307] \tSetting best action response time to 0.700101786756\n",
      "[optimizer.py:321] Upgrading bottleneck node inception to NodeConfig(inception, 1, v100, 8.0, 1, aws).\n",
      "Increased.\n",
      "New config: {'inception': NodeConfig(inception, 1, v100, 8.0, 1, aws), 'tf-kernel-svm': NodeConfig(tf-kernel-svm, 1, none, 1, 2, aws), 'tf-resnet-feats': NodeConfig(tf-resnet-feats, 1, v100, 4.0, 3, aws), 'tf-log-reg': NodeConfig(tf-log-reg, 1, none, 1, 1, aws)}\n",
      "[optimizer.py:328] Finished iteration 7\n",
      "[optimizer.py:253] \n",
      "\n",
      "Evaluating step gpu\n",
      "[optimizer.py:309] \tAction configuration returned as None\n",
      "[optimizer.py:253] \n",
      "\n",
      "Evaluating step replication_factor\n",
      "[optimizer.py:257] \tOld config: NodeConfig(tf-kernel-svm, 1, none, 1, 2, aws)\n",
      "New config: NodeConfig(tf-kernel-svm, 1, none, 1, 3, aws)\n",
      "[optimizer.py:265] \tNew estimated perf: {'latency': 0.17784522999999997, 'cost': 10.644, 'throughput': 115.80000000000001}\n",
      "[optimizer.py:270] \tDoing network calc\n",
      "[optimizer.py:282] \tResponse time: 0.45092689914, T_s=0.17784523, T_q=0.27308166914\n",
      "[optimizer.py:307] \tSetting best action response time to 0.45092689914\n",
      "[optimizer.py:253] \n",
      "\n",
      "Evaluating step batch_size\n",
      "[optimizer.py:257] \tOld config: NodeConfig(tf-kernel-svm, 1, none, 1, 2, aws)\n",
      "New config: NodeConfig(tf-kernel-svm, 1, none, 2.0, 2, aws)\n",
      "[optimizer.py:265] \tNew estimated perf: {'latency': 0.18358081, 'cost': 10.577499999999999, 'throughput': 115.80000000000001}\n",
      "[optimizer.py:270] \tDoing network calc\n",
      "[optimizer.py:282] \tResponse time: 0.45666247914, T_s=0.18358081, T_q=0.27308166914\n",
      "[optimizer.py:321] Upgrading bottleneck node tf-kernel-svm to NodeConfig(tf-kernel-svm, 1, none, 1, 3, aws).\n",
      "Increased.\n",
      "New config: {'inception': NodeConfig(inception, 1, v100, 8.0, 1, aws), 'tf-kernel-svm': NodeConfig(tf-kernel-svm, 1, none, 1, 3, aws), 'tf-resnet-feats': NodeConfig(tf-resnet-feats, 1, v100, 4.0, 3, aws), 'tf-log-reg': NodeConfig(tf-log-reg, 1, none, 1, 1, aws)}\n",
      "[optimizer.py:326] LATENCY SLO MET\n",
      "Config:{'inception': NodeConfig(inception, 1, v100, 8.0, 1, aws), 'tf-kernel-svm': NodeConfig(tf-kernel-svm, 1, none, 1, 3, aws), 'tf-resnet-feats': NodeConfig(tf-resnet-feats, 1, v100, 4.0, 3, aws), 'tf-log-reg': NodeConfig(tf-log-reg, 1, none, 1, 1, aws)}\n",
      "[optimizer.py:328] Finished iteration 8\n",
      "[optimizer.py:253] \n",
      "\n",
      "Evaluating step gpu\n",
      "[optimizer.py:309] \tAction configuration returned as None\n",
      "[optimizer.py:253] \n",
      "\n",
      "Evaluating step replication_factor\n",
      "[optimizer.py:257] \tOld config: NodeConfig(tf-resnet-feats, 1, v100, 4.0, 3, aws)\n",
      "New config: NodeConfig(tf-resnet-feats, 1, v100, 4.0, 4, aws)\n",
      "[optimizer.py:265] \tNew estimated perf: {'latency': 0.17784522999999997, 'cost': 13.2385, 'throughput': 131.39999999999998}\n",
      "[optimizer.py:268] Cost 13.2385 higher than constraint 10.644, skipping this action\n",
      "[optimizer.py:253] \n",
      "\n",
      "Evaluating step batch_size\n",
      "[optimizer.py:257] \tOld config: NodeConfig(tf-resnet-feats, 1, v100, 4.0, 3, aws)\n",
      "New config: NodeConfig(tf-resnet-feats, 1, v100, 8.0, 3, aws)\n",
      "[optimizer.py:265] \tNew estimated perf: {'latency': 0.19769475999999997, 'cost': 10.644, 'throughput': 131.39999999999998}\n",
      "[optimizer.py:270] \tDoing network calc\n",
      "[optimizer.py:282] \tResponse time: 0.410914970642, T_s=0.19769476, T_q=0.213220210642\n",
      "[optimizer.py:307] \tSetting best action response time to 0.410914970642\n",
      "[optimizer.py:321] Upgrading bottleneck node tf-resnet-feats to NodeConfig(tf-resnet-feats, 1, v100, 8.0, 3, aws).\n",
      "Increased.\n",
      "New config: {'inception': NodeConfig(inception, 1, v100, 8.0, 1, aws), 'tf-kernel-svm': NodeConfig(tf-kernel-svm, 1, none, 1, 3, aws), 'tf-resnet-feats': NodeConfig(tf-resnet-feats, 1, v100, 8.0, 3, aws), 'tf-log-reg': NodeConfig(tf-log-reg, 1, none, 1, 1, aws)}\n",
      "[optimizer.py:328] Finished iteration 9\n",
      "[optimizer.py:253] \n",
      "\n",
      "Evaluating step gpu\n",
      "[optimizer.py:309] \tAction configuration returned as None\n",
      "[optimizer.py:253] \n",
      "\n",
      "Evaluating step replication_factor\n",
      "[optimizer.py:257] \tOld config: NodeConfig(tf-kernel-svm, 1, none, 1, 3, aws)\n",
      "New config: NodeConfig(tf-kernel-svm, 1, none, 1, 4, aws)\n",
      "[optimizer.py:265] \tNew estimated perf: {'latency': 0.19769475999999997, 'cost': 10.7105, 'throughput': 132.8}\n",
      "[optimizer.py:268] Cost 10.7105 higher than constraint 10.644, skipping this action\n",
      "[optimizer.py:253] \n",
      "\n",
      "Evaluating step batch_size\n",
      "[optimizer.py:257] \tOld config: NodeConfig(tf-kernel-svm, 1, none, 1, 3, aws)\n",
      "New config: NodeConfig(tf-kernel-svm, 1, none, 2.0, 3, aws)\n",
      "[optimizer.py:265] \tNew estimated perf: {'latency': 0.20343034000000002, 'cost': 10.644, 'throughput': 132.8}\n",
      "[optimizer.py:270] \tDoing network calc\n",
      "[optimizer.py:282] \tResponse time: 0.412318152557, T_s=0.20343034, T_q=0.208887812557\n",
      "[optimizer.py:307] \tSetting best action response time to 0.412318152557\n",
      "[optimizer.py:321] Upgrading bottleneck node tf-kernel-svm to NodeConfig(tf-kernel-svm, 1, none, 2.0, 3, aws).\n",
      "Increased.\n",
      "New config: {'inception': NodeConfig(inception, 1, v100, 8.0, 1, aws), 'tf-kernel-svm': NodeConfig(tf-kernel-svm, 1, none, 2.0, 3, aws), 'tf-resnet-feats': NodeConfig(tf-resnet-feats, 1, v100, 8.0, 3, aws), 'tf-log-reg': NodeConfig(tf-log-reg, 1, none, 1, 1, aws)}\n",
      "[optimizer.py:328] Finished iteration 10\n",
      "[optimizer.py:253] \n",
      "\n",
      "Evaluating step gpu\n",
      "[optimizer.py:309] \tAction configuration returned as None\n",
      "[optimizer.py:253] \n",
      "\n",
      "Evaluating step replication_factor\n",
      "[optimizer.py:257] \tOld config: NodeConfig(inception, 1, v100, 8.0, 1, aws)\n",
      "New config: NodeConfig(inception, 1, v100, 8.0, 2, aws)\n",
      "[optimizer.py:265] \tNew estimated perf: {'latency': 0.20343034000000002, 'cost': 13.2385, 'throughput': 228.29999999999998}\n",
      "[optimizer.py:268] Cost 13.2385 higher than constraint 10.644, skipping this action\n",
      "[optimizer.py:253] \n",
      "\n",
      "Evaluating step batch_size\n",
      "[optimizer.py:257] \tOld config: NodeConfig(inception, 1, v100, 8.0, 1, aws)\n",
      "New config: NodeConfig(inception, 1, v100, 12.0, 1, aws)\n",
      "[optimizer.py:265] \tNew estimated perf: {'latency': 0.20343034000000002, 'cost': 10.644, 'throughput': 179.5}\n",
      "[optimizer.py:270] \tDoing network calc\n",
      "[optimizer.py:282] \tResponse time: 0.307843884043, T_s=0.20343034, T_q=0.104413544043\n",
      "[optimizer.py:307] \tSetting best action response time to 0.307843884043\n",
      "[optimizer.py:321] Upgrading bottleneck node inception to NodeConfig(inception, 1, v100, 12.0, 1, aws).\n",
      "Increased.\n",
      "New config: {'inception': NodeConfig(inception, 1, v100, 12.0, 1, aws), 'tf-kernel-svm': NodeConfig(tf-kernel-svm, 1, none, 2.0, 3, aws), 'tf-resnet-feats': NodeConfig(tf-resnet-feats, 1, v100, 8.0, 3, aws), 'tf-log-reg': NodeConfig(tf-log-reg, 1, none, 1, 1, aws)}\n",
      "[optimizer.py:328] Finished iteration 11\n",
      "[optimizer.py:253] \n",
      "\n",
      "Evaluating step gpu\n",
      "[optimizer.py:309] \tAction configuration returned as None\n",
      "[optimizer.py:253] \n",
      "\n",
      "Evaluating step replication_factor\n",
      "[optimizer.py:257] \tOld config: NodeConfig(inception, 1, v100, 12.0, 1, aws)\n",
      "New config: NodeConfig(inception, 1, v100, 12.0, 2, aws)\n",
      "[optimizer.py:265] \tNew estimated perf: {'latency': 0.20343034000000002, 'cost': 13.2385, 'throughput': 228.29999999999998}\n",
      "[optimizer.py:268] Cost 13.2385 higher than constraint 10.644, skipping this action\n",
      "[optimizer.py:253] \n",
      "\n",
      "Evaluating step batch_size\n",
      "[optimizer.py:257] \tOld config: NodeConfig(inception, 1, v100, 12.0, 1, aws)\n",
      "New config: NodeConfig(inception, 1, v100, 16.0, 1, aws)\n",
      "[optimizer.py:265] \tNew estimated perf: {'latency': 0.20343034000000002, 'cost': 10.644, 'throughput': 199.5}\n",
      "[optimizer.py:270] \tDoing network calc\n",
      "[optimizer.py:282] \tResponse time: 0.290756217508, T_s=0.20343034, T_q=0.0873258775078\n",
      "[optimizer.py:307] \tSetting best action response time to 0.290756217508\n",
      "[optimizer.py:321] Upgrading bottleneck node inception to NodeConfig(inception, 1, v100, 16.0, 1, aws).\n",
      "Increased.\n",
      "New config: {'inception': NodeConfig(inception, 1, v100, 16.0, 1, aws), 'tf-kernel-svm': NodeConfig(tf-kernel-svm, 1, none, 2.0, 3, aws), 'tf-resnet-feats': NodeConfig(tf-resnet-feats, 1, v100, 8.0, 3, aws), 'tf-log-reg': NodeConfig(tf-log-reg, 1, none, 1, 1, aws)}\n",
      "[optimizer.py:328] Finished iteration 12\n",
      "[optimizer.py:253] \n",
      "\n",
      "Evaluating step gpu\n",
      "[optimizer.py:309] \tAction configuration returned as None\n",
      "[optimizer.py:253] \n",
      "\n",
      "Evaluating step replication_factor\n",
      "[optimizer.py:257] \tOld config: NodeConfig(inception, 1, v100, 16.0, 1, aws)\n",
      "New config: NodeConfig(inception, 1, v100, 16.0, 2, aws)\n",
      "[optimizer.py:265] \tNew estimated perf: {'latency': 0.20343034000000002, 'cost': 13.2385, 'throughput': 228.29999999999998}\n",
      "[optimizer.py:268] Cost 13.2385 higher than constraint 10.644, skipping this action\n",
      "[optimizer.py:253] \n",
      "\n",
      "Evaluating step batch_size\n",
      "[optimizer.py:257] \tOld config: NodeConfig(inception, 1, v100, 16.0, 1, aws)\n",
      "New config: NodeConfig(inception, 1, v100, 24.0, 1, aws)\n",
      "[optimizer.py:265] \tNew estimated perf: {'latency': 0.22569844, 'cost': 10.644, 'throughput': 213.0}\n",
      "[optimizer.py:270] \tDoing network calc\n",
      "[optimizer.py:282] \tResponse time: 0.305128265182, T_s=0.22569844, T_q=0.0794298251822\n",
      "[optimizer.py:307] \tSetting best action response time to 0.305128265182\n",
      "[optimizer.py:321] Upgrading bottleneck node inception to NodeConfig(inception, 1, v100, 24.0, 1, aws).\n",
      "Increased.\n",
      "New config: {'inception': NodeConfig(inception, 1, v100, 24.0, 1, aws), 'tf-kernel-svm': NodeConfig(tf-kernel-svm, 1, none, 2.0, 3, aws), 'tf-resnet-feats': NodeConfig(tf-resnet-feats, 1, v100, 8.0, 3, aws), 'tf-log-reg': NodeConfig(tf-log-reg, 1, none, 1, 1, aws)}\n",
      "[optimizer.py:328] Finished iteration 13\n",
      "[optimizer.py:253] \n",
      "\n",
      "Evaluating step gpu\n",
      "[optimizer.py:309] \tAction configuration returned as None\n",
      "[optimizer.py:253] \n",
      "\n",
      "Evaluating step replication_factor\n",
      "[optimizer.py:257] \tOld config: NodeConfig(inception, 1, v100, 24.0, 1, aws)\n",
      "New config: NodeConfig(inception, 1, v100, 24.0, 2, aws)\n",
      "[optimizer.py:265] \tNew estimated perf: {'latency': 0.22569844, 'cost': 13.2385, 'throughput': 228.29999999999998}\n",
      "[optimizer.py:268] Cost 13.2385 higher than constraint 10.644, skipping this action\n",
      "[optimizer.py:253] \n",
      "\n",
      "Evaluating step batch_size\n",
      "[optimizer.py:257] \tOld config: NodeConfig(inception, 1, v100, 24.0, 1, aws)\n",
      "New config: NodeConfig(inception, 1, v100, 25.4766666667, 1, aws)\n",
      "[optimizer.py:265] \tNew estimated perf: {'latency': 0.93355231, 'cost': 10.644, 'throughput': 228.29999999999998}\n",
      "[optimizer.py:270] \tDoing network calc\n",
      "[optimizer.py:282] \tResponse time: 1.00561865134, T_s=0.93355231, T_q=0.0720663413432\n",
      "[optimizer.py:313] No more steps can be taken\n"
     ]
    },
    {
     "data": {
      "text/plain": [
       "({'inception': NodeConfig(inception, 1, v100, 24.0, 1, aws),\n",
       "  'tf-kernel-svm': NodeConfig(tf-kernel-svm, 1, none, 2.0, 3, aws),\n",
       "  'tf-log-reg': NodeConfig(tf-log-reg, 1, none, 1, 1, aws),\n",
       "  'tf-resnet-feats': NodeConfig(tf-resnet-feats, 1, v100, 8.0, 3, aws)},\n",
       " {'cost': 10.644, 'latency': 0.22569844, 'throughput': 213.0},\n",
       " 0.3051282651822493)"
      ]
     },
     "execution_count": 18,
     "metadata": {},
     "output_type": "execute_result"
    }
   ],
   "source": [
    "%config Application.log_level=\"INFO\"\n",
    "from optimizer import GreedyOptimizer\n",
    "opt = GreedyOptimizer(dag, scale_factors, node_profs)\n",
    "cloud = \"aws\"\n",
    "initial_config = {\"tf-resnet-feats\": profiler.NodeConfig(name=\"tf-resnet-feats\",\n",
    "                                                          num_cpus=1,\n",
    "                                                          gpu_type=\"v100\",\n",
    "                                                          batch_size=1,\n",
    "                                                          num_replicas=1,\n",
    "                                                          cloud=cloud),\n",
    "                  \"inception\": profiler.NodeConfig(name=\"inception\",\n",
    "                                                      num_cpus=1,\n",
    "                                                      gpu_type=\"v100\",\n",
    "                                                      batch_size=1,\n",
    "                                                      num_replicas=1,\n",
    "                                                      cloud=cloud),\n",
    "                  \"tf-log-reg\": profiler.NodeConfig(name=\"tf-log-reg\",\n",
    "                                                      num_cpus=1,\n",
    "                                                      gpu_type=\"none\",\n",
    "                                                      batch_size=1,\n",
    "                                                      num_replicas=1,\n",
    "                                                      cloud=cloud),\n",
    "                  \"tf-kernel-svm\": profiler.NodeConfig(name=\"tf-kernel-svm\",\n",
    "                                                      num_cpus=1,\n",
    "                                                      gpu_type=\"none\",\n",
    "                                                      batch_size=1,\n",
    "                                                      num_replicas=1,\n",
    "                                                      cloud=cloud),\n",
    "                 }\n",
    "\n",
    "cost = utils.get_cpu_cost(cloud, 8) + utils.get_gpu_cost(cloud, \"v100\", num_gpus=4)\n",
    "# 24 ms mean inter-arrival time\n",
    "with open(\"../experiments/cached_arrival_processes/58_4.0.deltas\", 'r') as f:\n",
    "    deltas = np.array([float(l.strip()) for l in f]).flatten()\n",
    "arrival_cached = np.cumsum(deltas)\n",
    "cost = utils.get_cpu_cost(cloud, 8) + utils.get_gpu_cost(cloud, \"v100\", num_gpus=4)\n",
    "opt.select_optimal_config(cloud, 0.5, cost, initial_config, arrival_history=arrival_cached)"
   ]
  },
  {
   "cell_type": "code",
   "execution_count": 1,
   "metadata": {},
   "outputs": [
    {
     "name": "stderr",
     "output_type": "stream",
     "text": [
      "DEBUG:root:test\n"
     ]
    }
   ],
   "source": [
    "import logging\n",
    "logger = logging.getLogger()\n",
    "logger.setLevel(logging.DEBUG)\n",
    "logging.debug(\"test\")"
   ]
  },
  {
   "cell_type": "code",
   "execution_count": null,
   "metadata": {
    "collapsed": true
   },
   "outputs": [],
   "source": []
  },
  {
   "cell_type": "code",
   "execution_count": null,
   "metadata": {
    "collapsed": true
   },
   "outputs": [],
   "source": []
  }
 ],
 "metadata": {
  "kernelspec": {
   "display_name": "Python 3",
   "language": "python",
   "name": "python3"
  },
  "language_info": {
   "codemirror_mode": {
    "name": "ipython",
    "version": 2
   },
   "file_extension": ".py",
   "mimetype": "text/x-python",
   "name": "python",
   "nbconvert_exporter": "python",
   "pygments_lexer": "ipython2",
   "version": "2.7.12"
  }
 },
 "nbformat": 4,
 "nbformat_minor": 2
}
