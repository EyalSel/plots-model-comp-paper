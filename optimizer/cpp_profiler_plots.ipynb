{
 "cells": [
  {
   "cell_type": "code",
   "execution_count": 14,
   "metadata": {},
   "outputs": [
    {
     "name": "stdout",
     "output_type": "stream",
     "text": [
      "The autoreload extension is already loaded. To reload it, use:\n",
      "  %reload_ext autoreload\n"
     ]
    }
   ],
   "source": [
    "%load_ext autoreload\n",
    "%autoreload 2"
   ]
  },
  {
   "cell_type": "code",
   "execution_count": 15,
   "metadata": {},
   "outputs": [],
   "source": [
    "import os\n",
    "import sys\n",
    "import json\n",
    "import time\n",
    "from datetime import datetime\n",
    "import single_node_profiles_cpp as snp\n",
    "import profiler\n",
    "import numpy as np\n",
    "from optimizer import BruteForceOptimizer, GreedyOptimizer\n",
    "from IPython.display import display, Markdown\n",
    "import matplotlib.pyplot as plt\n",
    "%matplotlib inline\n"
   ]
  },
  {
   "cell_type": "code",
   "execution_count": 16,
   "metadata": {},
   "outputs": [],
   "source": [
    "profs = snp.load_single_node_profiles()"
   ]
  },
  {
   "cell_type": "code",
   "execution_count": 24,
   "metadata": {},
   "outputs": [],
   "source": [
    "node_profs = {name : profiler.NodeProfile(name, profs[name], \"latency_stage\") for name in profs.keys()}"
   ]
  },
  {
   "cell_type": "code",
   "execution_count": 25,
   "metadata": {},
   "outputs": [
    {
     "data": {
      "image/png": "[encoded data removed]",
      "text/plain": [
       "<matplotlib.figure.Figure at 0x152b468898>"
      ]
     },
     "metadata": {},
     "output_type": "display_data"
    }
   ],
   "source": [
    "node_profs[\"tf-resnet-feats\"].plot_profile()"
   ]
  },
  {
   "cell_type": "code",
   "execution_count": null,
   "metadata": {},
   "outputs": [],
   "source": [
    "node_profs[\"res50\"].plot_profile()"
   ]
  },
  {
   "cell_type": "code",
   "execution_count": null,
   "metadata": {},
   "outputs": [],
   "source": [
    "name = \"/Users/crankshaw/clipper-project/model-comp-project/plots-model-comp-paper/results_cpp_benchmarker/single_model_profs/pytorch-res50\"\n",
    "summaries = {}\n",
    "for f in os.listdir(name):\n",
    "    if \"p100\" in f:\n",
    "        with open(os.path.join(name, f), \"r\") as g:\n",
    "            summaries[f] = json.load(g)[\"summary_metrics\"]"
   ]
  },
  {
   "cell_type": "markdown",
   "metadata": {},
   "source": [
    "## Parse output log:"
   ]
  },
  {
   "cell_type": "code",
   "execution_count": null,
   "metadata": {},
   "outputs": [],
   "source": [
    "def filter(line):\n",
    "    if \"Setting delay to\" in line:\n",
    "            return True\n",
    "    elif \"Throughput:\" in line:\n",
    "        return True\n",
    "    elif \"queues:\" in line:\n",
    "        return True\n",
    "    elif \"Driver command:\" in line:\n",
    "        return True\n",
    "    else:\n",
    "        return False\n",
    "\n",
    "path = os.path.abspath(\"../results/profiler_debugging/output.log\")\n",
    "with open(path, \"r\") as f:\n",
    "    lines = f.readlines()\n",
    "lines = [l.strip() for l in lines if filter(l)]\n",
    "i = 0\n",
    "cur_run = None\n",
    "all_runs = []\n",
    "state = None\n",
    "STEADY = \"steady\"\n",
    "WARM = \"warm\"\n",
    "INIT = \"init\"\n",
    "while i < len(lines):\n",
    "    if \"Driver command\" in lines[i]:\n",
    "        if state == STEADY:\n",
    "            all_runs.append(cur_run)\n",
    "            cur_run = {WARM: [], INIT: [], STEADY: []}\n",
    "            state = WARM\n",
    "        elif state is None:\n",
    "            cur_run = {WARM: [], INIT: [], STEADY: []}\n",
    "            state = WARM\n",
    "        elif state == WARM:\n",
    "            state = INIT\n",
    "        elif state == INIT:\n",
    "            state = STEADY\n",
    "    elif \"Throughput:\" in lines[i]:\n",
    "        thru = lines[i]\n",
    "        i += 1\n",
    "        assert \"queues:\" in lines[i]\n",
    "        queue = lines[i]\n",
    "        if state == WARM:\n",
    "            cur_run[WARM].append((thru, queue))\n",
    "        elif state == INIT:\n",
    "            cur_run[INIT].append((thru, queue))\n",
    "        elif state == STEADY:\n",
    "            cur_run[STEADY].append((thru, queue))\n",
    "    elif \"Setting delay to\" in lines[i]:\n",
    "        cur_run[\"delay\"] = lines[i]\n",
    "    i += 1\n",
    "\n",
    "    \n",
    "def extract_thru(trial):\n",
    "    return float(trial[0].split(\",\")[0].split(\": \")[2].rstrip(\"}\"))\n",
    "\n",
    "def extract_p99(trial):\n",
    "    return float(trial[0].split(\",\")[1].split(\": \")[2].rstrip(\"}\")) / 1000.0\n",
    "\n",
    "def extract_queue(trial):\n",
    "    return float(trial[1].split(\",\")[0].split(\": \")[2].rstrip(\"}\"))\n",
    "\n",
    "def extract_batches(trial):\n",
    "    return float(trial[1].split(\",\")[1].split(\": \")[2].rstrip(\"}\"))\n",
    "\n",
    "stats = []\n",
    "\n",
    "for run in all_runs:\n",
    "    s = {}\n",
    "    delay = int(run[\"delay\"].split(\"Setting delay to\")[1].split()[0])\n",
    "    s[\"delay\"] = delay\n",
    "    s[\"delay_inverse\"] = 1000.0*1000.0/float(delay)\n",
    "    for stage in [INIT, STEADY]:\n",
    "        s[stage] = {}\n",
    "        thrus = [extract_thru(trial) for trial in run[stage]]\n",
    "        queues = [extract_queue(trial) for trial in run[stage]]\n",
    "        batches = [extract_batches(trial) for trial in run[stage]]\n",
    "        p99s = [extract_p99(trial) for trial in run[stage]]\n",
    "        s[stage][\"mean_thru\"] = np.mean(thrus)\n",
    "        s[stage][\"std_thru\"] = np.std(thrus)\n",
    "        s[stage][\"mean_queue\"] = np.mean(queues)\n",
    "        s[stage][\"std_queue\"] = np.std(queues)\n",
    "        s[stage][\"mean_batch\"] = np.mean(batches)\n",
    "        s[stage][\"mean_p99\"] = np.mean(p99s)\n",
    "        s[stage][\"std_p99\"] = np.std(p99s)\n",
    "    stats.append(s)\n",
    "        "
   ]
  },
  {
   "cell_type": "code",
   "execution_count": null,
   "metadata": {},
   "outputs": [],
   "source": [
    "# for s in stats:\n",
    "#     print(json.dumps(s, indent=2))\n",
    "\n",
    "init_thrus = [s[INIT][\"mean_thru\"] for s in stats]\n",
    "init_thrus_std = [s[INIT][\"std_thru\"] for s in stats]\n",
    "steady_thrus = [s[STEADY][\"mean_thru\"] for s in stats]\n",
    "steady_thrus_std = [s[STEADY][\"std_thru\"] for s in stats]\n",
    "init_queues = [s[INIT][\"mean_queue\"] for s in stats]\n",
    "init_batches = [s[INIT][\"mean_batch\"] for s in stats]\n",
    "steady_queues = [s[STEADY][\"mean_queue\"] for s in stats]\n",
    "steady_batches = [s[STEADY][\"mean_batch\"] for s in stats]\n",
    "steady_p99s = [s[STEADY][\"mean_p99\"] for s in stats]\n",
    "steady_p99s_std = [s[STEADY][\"std_p99\"] for s in stats]\n",
    "\n",
    "\n",
    "fig, (ax_thru, ax_queue, ax_lat) = plt.subplots(nrows=1, ncols=3, figsize=(18,6))\n",
    "ax_thru.errorbar(init_batches, init_thrus, yerr=init_thrus_std, color=\"r\", label=INIT, fmt=\"o\")\n",
    "# ax_queue.plot(init_batches, init_queues, color=\"r\", label=INIT)\n",
    "ax_thru.errorbar(steady_batches, steady_thrus, yerr=steady_thrus_std, color=\"b\", label=STEADY, fmt=\"o\")\n",
    "ax_queue.plot(steady_batches, steady_queues, color=\"b\", label=STEADY)\n",
    "ax_lat.errorbar(steady_batches, steady_p99s, yerr=steady_p99s_std, color=\"b\", label=STEADY, fmt=\"o\")\n",
    "\n",
    "ax_thru.set_ylabel(\"Mean throughput (qps)\")\n",
    "ax_thru.set_xlabel(\"batch size\")\n",
    "ax_thru.legend(loc=0)\n",
    "\n",
    "ax_queue.set_ylabel(\"Mean queue size\")\n",
    "ax_queue.set_xlabel(\"batch size\")\n",
    "ax_queue.legend(loc=0)\n",
    "\n",
    "ax_lat.set_ylabel(\"p99 latency (s)\")\n",
    "ax_lat.set_xlabel(\"batch size\")\n",
    "ax_lat.legend(loc=0)\n",
    "\n",
    "\n",
    "plt.show()"
   ]
  },
  {
   "cell_type": "code",
   "execution_count": null,
   "metadata": {},
   "outputs": [],
   "source": []
  }
 ],
 "metadata": {
  "kernelspec": {
   "display_name": "Python 3",
   "language": "python",
   "name": "python3"
  },
  "language_info": {
   "codemirror_mode": {
    "name": "ipython",
    "version": 3
   },
   "file_extension": ".py",
   "mimetype": "text/x-python",
   "name": "python",
   "nbconvert_exporter": "python",
   "pygments_lexer": "ipython3",
   "version": "3.6.4"
  }
 },
 "nbformat": 4,
 "nbformat_minor": 2
}
