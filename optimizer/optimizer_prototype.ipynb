{
 "cells": [
  {
   "cell_type": "code",
   "execution_count": 1,
   "metadata": {
    "collapsed": true
   },
   "outputs": [],
   "source": [
    "%load_ext autoreload\n",
    "%autoreload 2"
   ]
  },
  {
   "cell_type": "code",
   "execution_count": 2,
   "metadata": {},
   "outputs": [],
   "source": [
    "import os\n",
    "import sys\n",
    "import json\n",
    "import time\n",
    "from datetime import datetime\n",
    "import single_node_profiles as snp\n",
    "import profiler\n",
    "import end_to_end_profiles as e2e_profs\n",
    "import numpy as np\n",
    "from optimizer import BruteForceOptimizer\n",
    "from IPython.display import display\n",
    "import matplotlib.pyplot as plt\n",
    "%matplotlib inline\n"
   ]
  },
  {
   "cell_type": "code",
   "execution_count": 3,
   "metadata": {},
   "outputs": [],
   "source": [
    "profs = snp.load_single_node_profiles()"
   ]
  },
  {
   "cell_type": "code",
   "execution_count": 4,
   "metadata": {},
   "outputs": [
    {
     "data": {
      "text/plain": [
       "dict_keys(['alexnet', 'res152', 'res18', 'res50', 'inception', 'tf-kernel-svm', 'tf-lang-detect', 'tf-log-reg', 'tf-lstm', 'tf-nmt', 'tf-resnet-feats'])"
      ]
     },
     "execution_count": 4,
     "metadata": {},
     "output_type": "execute_result"
    }
   ],
   "source": [
    "profs.keys()"
   ]
  },
  {
   "cell_type": "code",
   "execution_count": 5,
   "metadata": {},
   "outputs": [],
   "source": [
    "dag = profiler.get_logical_pipeline(\"pipeline_three\")\n",
    "with open(os.path.abspath(\"../results/e2e_profs/systemx/resnet_cascade/slo_500ms/alex_1-r50_1-r152_2-171025_083730.json\")) as f:\n",
    "    sample_run = json.load(f)\n",
    "scale_factors = profiler.get_node_scale_factors(sample_run, dag.reference_node)\n",
    "node_configs = profiler.get_node_configs_from_experiment(sample_run)\n",
    "node_profs = {name : profiler.NodeProfile(name, profs[name]) for name, _ in node_configs.items()}"
   ]
  },
  {
   "cell_type": "code",
   "execution_count": 15,
   "metadata": {
    "collapsed": true
   },
   "outputs": [],
   "source": [
    "opt = BruteForceOptimizer(dag, scale_factors, node_profs)"
   ]
  },
  {
   "cell_type": "code",
   "execution_count": 17,
   "metadata": {
    "scrolled": false
   },
   "outputs": [
    {
     "name": "stdout",
     "output_type": "stream",
     "text": [
      "Processed 500\n",
      "Processed 1000\n",
      "Processed 1500\n",
      "Processed 2000\n",
      "Processed 2500\n",
      "Processed 3000\n",
      "Processed 3500\n",
      "Processed 4000\n",
      "Processed 4500\n",
      "Processed 5000\n",
      "Processed 5500\n",
      "Processed 6000\n",
      "Processed 6500\n",
      "Processed 7000\n",
      "Processed 7500\n",
      "Processed 8000\n",
      "Processed 8500\n",
      "Processed 9000\n",
      "Processed 9500\n",
      "Processed 10000\n",
      "Processed 10500\n",
      "Processed 11000\n",
      "Processed 11500\n",
      "Processed 12000\n",
      "Processed 12500\n",
      "Processed 13000\n",
      "Processed 13500\n",
      "Processed 14000\n",
      "Processed 14500\n",
      "Processed 15000\n",
      "Processed 15500\n",
      "Processed 16000\n",
      "Processed 16500\n",
      "Processed 17000\n",
      "Processed 17500\n",
      "Processed 18000\n",
      "Processed 18500\n",
      "Processed 19000\n",
      "Processed 19500\n",
      "Processed 20000\n",
      "Processed 20500\n",
      "Processed 21000\n",
      "Processed 21500\n",
      "Initializing config to {'alexnet': NodeConfig(alexnet, 1, k80, 1.0, 1, gcp), 'res50': NodeConfig(res50, 1, k80, 1.0, 1, gcp), 'res152': NodeConfig(res152, 1, k80, 1.0, 1, gcp)} ({'latency': 0.6904060599999999, 'throughput': 39.84377879696414, 'cost': 2.1240000000000001})\n",
      "Updating config to {'alexnet': NodeConfig(alexnet, 1, k80, 1.0, 1, gcp), 'res50': NodeConfig(res50, 1, k80, 1.0, 1, gcp), 'res152': NodeConfig(res152, 1, k80, 1.9618810573671501, 1, gcp)} ({'latency': 0.572195, 'throughput': 48.873024978731266, 'cost': 2.1240000000000001})\n",
      "Updating config to {'alexnet': NodeConfig(alexnet, 1, k80, 1.0, 1, gcp), 'res50': NodeConfig(res50, 1, k80, 2.0, 1, gcp), 'res152': NodeConfig(res152, 1, k80, 1.9618810573671501, 1, gcp)} ({'latency': 0.6063603499999999, 'throughput': 63.084938650990004, 'cost': 2.1240000000000001})\n",
      "Updating config to {'alexnet': NodeConfig(alexnet, 1, k80, 1.0, 1, gcp), 'res50': NodeConfig(res50, 1, k80, 2.0, 1, gcp), 'res152': NodeConfig(res152, 1, p100, 1.8144626622834903, 1, gcp)} ({'latency': 0.4713392599999999, 'throughput': 75.00371460764909, 'cost': 2.831})\n",
      "Updating config to {'alexnet': NodeConfig(alexnet, 1, k80, 1.0, 1, gcp), 'res50': NodeConfig(res50, 1, k80, 7.277435701215428, 1, gcp), 'res152': NodeConfig(res152, 1, p100, 1.8144626622834903, 1, gcp)} ({'latency': 0.5844748099999999, 'throughput': 84.48281726206574, 'cost': 2.831})\n",
      "Processed 22000\n",
      "Processed 22500\n",
      "Processed 23000\n",
      "Updating config to {'alexnet': NodeConfig(alexnet, 1, k80, 11.922794117647058, 1, gcp), 'res50': NodeConfig(res50, 1, k80, 3.9008338836552983, 1, gcp), 'res152': NodeConfig(res152, 1, p100, 1.8144626622834903, 1, gcp)} ({'latency': 0.6697001499999998, 'throughput': 97.24219172425401, 'cost': 2.831})\n",
      "Processed 23500\n",
      "Updating config to {'alexnet': NodeConfig(alexnet, 1, k80, 11.922794117647058, 1, gcp), 'res50': NodeConfig(res50, 1, p100, 3.8824323111121704, 1, gcp), 'res152': NodeConfig(res152, 1, p100, 1.8144626622834903, 1, gcp)} ({'latency': 0.5892053099999999, 'throughput': 120.98624554551466, 'cost': 4.2450000000000001})\n",
      "Updating config to {'alexnet': NodeConfig(alexnet, 1, k80, 11.922794117647058, 1, gcp), 'res50': NodeConfig(res50, 1, p100, 3.8824323111121704, 1, gcp), 'res152': NodeConfig(res152, 1, p100, 3.6219761022668036, 1, gcp)} ({'latency': 0.5997145499999998, 'throughput': 184.03948439972754, 'cost': 4.2450000000000001})\n",
      "Processed 24000\n",
      "Processed 24500\n",
      "Processed 25000\n",
      "Updating config to {'alexnet': NodeConfig(alexnet, 1, k80, 14.892043422733078, 1, gcp), 'res50': NodeConfig(res50, 1, p100, 3.8824323111121704, 1, gcp), 'res152': NodeConfig(res152, 1, p100, 3.6219761022668036, 1, gcp)} ({'latency': 0.6112578399999998, 'throughput': 187.97071470806748, 'cost': 4.2450000000000001})\n",
      "Processed 25500\n",
      "Processed 26000\n",
      "Processed 26500\n",
      "Processed 27000\n",
      "Processed 27500\n",
      "Processed 28000\n",
      "Processed 28500\n",
      "Processed 29000\n",
      "Processed 29500\n",
      "Processed 30000\n",
      "Processed 30500\n",
      "Processed 31000\n",
      "Processed 31500\n",
      "Processed 32000\n",
      "Processed 32500\n",
      "Processed 33000\n",
      "Processed 33500\n",
      "Processed 34000\n",
      "Processed 34500\n",
      "Processed 35000\n",
      "Processed 35500\n",
      "Processed 36000\n",
      "Processed 36500\n",
      "Processed 37000\n",
      "Processed 37500\n",
      "Processed 38000\n",
      "Processed 38500\n",
      "Processed 39000\n",
      "Processed 39500\n",
      "Processed 40000\n",
      "Processed 40500\n",
      "Processed 41000\n",
      "Processed 41500\n",
      "Processed 42000\n",
      "Updating config to {'alexnet': NodeConfig(alexnet, 1, p100, 10.856742810603105, 1, gcp), 'res50': NodeConfig(res50, 1, p100, 12.0, 1, gcp), 'res152': NodeConfig(res152, 1, p100, 3.6219761022668036, 1, gcp)} ({'latency': 0.6950786499999999, 'throughput': 204.27282078450483, 'cost': 6.3659999999999997})\n",
      "Updating config to {'alexnet': NodeConfig(alexnet, 1, p100, 10.856742810603105, 1, gcp), 'res50': NodeConfig(res50, 1, p100, 7.375662156686023, 1, gcp), 'res152': NodeConfig(res152, 1, p100, 10.72030162514243, 1, gcp)} ({'latency': 0.6959475599999999, 'throughput': 218.56719215580003, 'cost': 6.3659999999999997})\n",
      "Updating config to {'alexnet': NodeConfig(alexnet, 1, p100, 10.856742810603105, 1, gcp), 'res50': NodeConfig(res50, 1, p100, 9.732441752114623, 1, gcp), 'res152': NodeConfig(res152, 1, p100, 10.72030162514243, 1, gcp)} ({'latency': 0.67968518, 'throughput': 226.4823370720828, 'cost': 6.3659999999999997})\n",
      "Processed 42500\n",
      "Updating config to {'alexnet': NodeConfig(alexnet, 1, p100, 10.856742810603105, 1, gcp), 'res50': NodeConfig(res50, 1, p100, 11.174747827156555, 1, gcp), 'res152': NodeConfig(res152, 1, p100, 10.72030162514243, 1, gcp)} ({'latency': 0.67181903, 'throughput': 228.72770556062864, 'cost': 6.3659999999999997})\n",
      "Processed 43000\n",
      "Processed 43500\n",
      "Processed 44000\n",
      "Processed 44500\n",
      "Processed 45000\n",
      "Processed 45500\n",
      "Processed 46000\n",
      "Processed 46500\n",
      "Processed 47000\n",
      "Processed 47500\n",
      "Processed 48000\n",
      "Processed 48500\n",
      "Processed 49000\n",
      "Processed 49500\n",
      "Processed 50000\n",
      "Processed 50500\n",
      "Processed 51000\n",
      "Processed 51500\n",
      "Processed 52000\n",
      "Processed 52500\n"
     ]
    },
    {
     "data": {
      "text/plain": [
       "({'alexnet': NodeConfig(alexnet, 1, p100, 10.856742810603105, 1, gcp),\n",
       "  'res152': NodeConfig(res152, 1, p100, 10.72030162514243, 1, gcp),\n",
       "  'res50': NodeConfig(res50, 1, p100, 11.174747827156555, 1, gcp)},\n",
       " {'cost': 6.3659999999999997,\n",
       "  'latency': 0.67181903,\n",
       "  'throughput': 228.72770556062864})"
      ]
     },
     "execution_count": 17,
     "metadata": {},
     "output_type": "execute_result"
    }
   ],
   "source": [
    "opt.select_optimal_config(\"gcp\", 0.7, 10)"
   ]
  },
  {
   "cell_type": "code",
   "execution_count": null,
   "metadata": {
    "collapsed": true
   },
   "outputs": [],
   "source": []
  },
  {
   "cell_type": "code",
   "execution_count": null,
   "metadata": {
    "collapsed": true
   },
   "outputs": [],
   "source": []
  },
  {
   "cell_type": "code",
   "execution_count": null,
   "metadata": {
    "collapsed": true
   },
   "outputs": [],
   "source": []
  },
  {
   "cell_type": "code",
   "execution_count": null,
   "metadata": {
    "collapsed": true
   },
   "outputs": [],
   "source": []
  },
  {
   "cell_type": "code",
   "execution_count": null,
   "metadata": {
    "collapsed": true
   },
   "outputs": [],
   "source": []
  },
  {
   "cell_type": "code",
   "execution_count": null,
   "metadata": {
    "collapsed": true
   },
   "outputs": [],
   "source": []
  },
  {
   "cell_type": "code",
   "execution_count": null,
   "metadata": {
    "collapsed": true
   },
   "outputs": [],
   "source": []
  },
  {
   "cell_type": "code",
   "execution_count": null,
   "metadata": {},
   "outputs": [],
   "source": [
    "import itertools\n",
    "def brute_force_optimizer(dag, scale_factors, node_profs, cost_constraint, latency_constraint):\n",
    "    \"\"\"\n",
    "        This doesn't loo\n",
    "    \"\"\"\n",
    "    all_node_configs = [node_profs[node].enumerate_configs(max_replication_factor=3) for node in dag.nodes()]     \n",
    "    all_pipeline_configs = itertools.product(*all_node_configs)\n",
    "    num_valid_configs = 0\n",
    "    best_config = None\n",
    "    best_config_perf = None\n",
    "    cur_index = 0\n",
    "    for p_config in all_pipeline_configs:\n",
    "        cur_index += 1\n",
    "        if cur_index % 500 == 0:\n",
    "            print(\"Processed {}\".format(cur_index))\n",
    "        cur_node_configs = {n.name: n for n in p_config}\n",
    "        if not profiler.is_valid_pipeline_config(cur_node_configs):\n",
    "            continue\n",
    "        cur_config_perf = profiler.estimate_pipeline_performance_for_config(\n",
    "            dag, scale_factors, cur_node_configs, node_profs)\n",
    "        if cur_config_perf[\"latency\"] <= latency_constraint and cur_config_perf[\"cost\"] <= cost_constraint:\n",
    "            if best_config is None:\n",
    "                best_config = cur_node_configs\n",
    "                best_config_perf = cur_config_perf\n",
    "                print(\"Initializing config to {} ({})\".format(best_config, best_config_perf))\n",
    "            else:\n",
    "                if cur_config_perf[\"throughput\"] > best_config_perf[\"throughput\"]:\n",
    "                    best_config = cur_node_configs\n",
    "                    best_config_perf = cur_config_perf\n",
    "                    print(\"Updating config to {} ({})\".format(best_config, best_config_perf))\n",
    "        \n",
    "    return best_config, best_config_perf"
   ]
  },
  {
   "cell_type": "code",
   "execution_count": null,
   "metadata": {
    "scrolled": false
   },
   "outputs": [],
   "source": [
    "start = datetime.now()\n",
    "brute_force_optimizer(dag, scale_factors, node_profs, 7.0, 0.8)\n",
    "end = datetime.now()\n",
    "print(\"{}\".format((end-start).total_seconds()))"
   ]
  },
  {
   "cell_type": "code",
   "execution_count": null,
   "metadata": {},
   "outputs": [],
   "source": [
    "profiler.estimate_pipeline_performance_for_config(dag, scale_factors, node_configs, node_profs)"
   ]
  },
  {
   "cell_type": "code",
   "execution_count": null,
   "metadata": {},
   "outputs": [],
   "source": [
    "profs[\"alexnet\"].columns"
   ]
  },
  {
   "cell_type": "code",
   "execution_count": null,
   "metadata": {
    "collapsed": true
   },
   "outputs": [],
   "source": []
  }
 ],
 "metadata": {
  "kernelspec": {
   "display_name": "Python 3",
   "language": "python",
   "name": "python3"
  },
  "language_info": {
   "codemirror_mode": {
    "name": "ipython",
    "version": 3
   },
   "file_extension": ".py",
   "mimetype": "text/x-python",
   "name": "python",
   "nbconvert_exporter": "python",
   "pygments_lexer": "ipython3",
   "version": "3.6.3"
  }
 },
 "nbformat": 4,
 "nbformat_minor": 2
}
