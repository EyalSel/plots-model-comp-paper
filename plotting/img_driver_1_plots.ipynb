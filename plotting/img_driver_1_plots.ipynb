{
 "cells": [
  {
   "cell_type": "code",
   "execution_count": 1,
   "metadata": {
    "collapsed": true
   },
   "outputs": [],
   "source": [
    "import pandas as pd\n",
    "import numpy as np\n",
    "import sys\n",
    "import os\n",
    "import math"
   ]
  },
  {
   "cell_type": "markdown",
   "metadata": {},
   "source": [
    "## Load Single Model Profiles"
   ]
  },
  {
   "cell_type": "code",
   "execution_count": 2,
   "metadata": {
    "collapsed": true
   },
   "outputs": [],
   "source": [
    "from single_model_profiles import create_model_profile_df as create_df"
   ]
  },
  {
   "cell_type": "code",
   "execution_count": 3,
   "metadata": {
    "collapsed": true
   },
   "outputs": [],
   "source": [
    "resnet_relative_path = \"../results/single_model_profs/tf-resnet\"\n",
    "inception_relative_path = \"../results/single_model_profs/tf-inception\"\n",
    "ksvm_relative_path = \"../results/single_model_profs/tf-kernel-svm\"\n",
    "log_reg_relative_path = \"../results/single_model_profs/tf-log-reg\""
   ]
  },
  {
   "cell_type": "code",
   "execution_count": 4,
   "metadata": {
    "collapsed": true
   },
   "outputs": [],
   "source": [
    "def filter_smp(df):\n",
    "    df = df[(df.gpu_type == \"k80\")\n",
    "                             & (df.cloud == \"aws\")]\n",
    "    return df"
   ]
  },
  {
   "cell_type": "code",
   "execution_count": 5,
   "metadata": {},
   "outputs": [],
   "source": [
    "resnet_df = filter_smp(create_df(resnet_relative_path)[1])\n",
    "inception_df = filter_smp(create_df(inception_relative_path)[1])\n",
    "ksvm_df = create_df(ksvm_relative_path)[1]\n",
    "log_reg_df = create_df(log_reg_relative_path)[1]"
   ]
  },
  {
   "cell_type": "markdown",
   "metadata": {},
   "source": [
    "## Find Optimal Batch Sizes"
   ]
  },
  {
   "cell_type": "code",
   "execution_count": 6,
   "metadata": {
    "collapsed": true
   },
   "outputs": [],
   "source": [
    "def config_value(cost, throughput):\n",
    "    return float(throughput) / float(cost)"
   ]
  },
  {
   "cell_type": "code",
   "execution_count": 7,
   "metadata": {},
   "outputs": [
    {
     "data": {
      "text/plain": [
       "(63.939999999999998, 51.435861782134317, 4.0688784999999994)"
      ]
     },
     "execution_count": 7,
     "metadata": {},
     "output_type": "execute_result"
    }
   ],
   "source": [
    "def find_optimal_batch_config(df, slo=None):\n",
    "    slim_df = df[[\"mean_batch_size\", \"mean_throughput_qps\", \"cost\", \"p99_latency\"]]\n",
    "    best_config = None\n",
    "    best_value = 0\n",
    "    for idx, row in slim_df.iterrows():\n",
    "        batch_size = row[\"mean_batch_size\"]\n",
    "        throughput = row[\"mean_throughput_qps\"]\n",
    "        cost = row[\"cost\"]\n",
    "        latency = row[\"p99_latency\"]\n",
    "        value = config_value(cost, throughput)\n",
    "        if value > best_value and ((slo == None) or (latency <= slo)):\n",
    "            best_config = (batch_size, throughput, latency)\n",
    "            best_value = value\n",
    "        \n",
    "        \n",
    "    return best_config\n",
    "    \n",
    "find_optimal_batch_config(resnet_df, slo=None)"
   ]
  },
  {
   "cell_type": "code",
   "execution_count": 8,
   "metadata": {
    "collapsed": true
   },
   "outputs": [],
   "source": [
    "resnet_config = find_optimal_batch_config(resnet_df)\n",
    "inception_config = find_optimal_batch_config(inception_df)\n",
    "ksvm_config = find_optimal_batch_config(ksvm_df)\n",
    "log_reg_config = find_optimal_batch_config(log_reg_df)"
   ]
  },
  {
   "cell_type": "markdown",
   "metadata": {},
   "source": [
    "## Enumerate Pipeline Configurations"
   ]
  },
  {
   "cell_type": "code",
   "execution_count": 9,
   "metadata": {
    "collapsed": true
   },
   "outputs": [],
   "source": [
    "def get_configs(branches, slo=None):\n",
    "    all_configs = {}\n",
    "    for branch in branches:\n",
    "        branch_configs = branch_helper(branch, slo_budget=slo)\n",
    "        for config in branch_configs:\n",
    "            all_configs = all_configs.copy()\n",
    "            all_configs.update(config)\n",
    "        \n",
    "    return all_configs\n",
    "                    \n",
    "def branch_helper(branch, slo_budget):\n",
    "    branch = list(branch)\n",
    "    model_name, model_df = branch.pop(0)\n",
    "    if len(branch) == 0:\n",
    "        optimal_config = find_optimal_batch_config(model_df, slo=slo_budget)\n",
    "        if not optimal_config:\n",
    "            return None\n",
    "        else:\n",
    "            return [{model_name : optimal_config}]\n",
    "    else:\n",
    "        while True:\n",
    "            optimal_config = find_optimal_batch_config(model_df, slo=slo_budget)\n",
    "            batch_size, throughput, latency = optimal_config\n",
    "            if not optimal_config:\n",
    "                return None\n",
    "            else:\n",
    "                if slo_budget:\n",
    "                    new_budget = slo_budget - latency\n",
    "                else:\n",
    "                    new_budget = slo_budget\n",
    "                next_configs = branch_helper(branch, new_budget)\n",
    "                if next_configs:\n",
    "                    return [{model_name : optimal_config}] + next_configs\n",
    "                else:\n",
    "                    # Configuration was bad, try another\n",
    "                    model_df = model_df[model_df.mean_batch_size != batch_size]\n",
    "                    print(model_df)   \n",
    "                    \n",
    "def get_min_lat_configs(branches):\n",
    "    all_models = []\n",
    "    for branch in branches:\n",
    "        all_models = all_models + branch\n",
    "        \n",
    "    all_configs = {}\n",
    "    while len(all_models) > 0:\n",
    "        model_name, model_df = all_models.pop()\n",
    "        min_df = model_df[model_df.mean_batch_size == 1.0]\n",
    "        min_df = min_df[[\"mean_throughput_qps\", \"p99_latency\"]]\n",
    "        for idx, row in min_df.iterrows():\n",
    "            throughput = row[\"mean_throughput_qps\"]\n",
    "            latency = row[\"p99_latency\"]\n",
    "            all_configs[model_name] = (1.0, throughput, latency)\n",
    "            break\n",
    "        \n",
    "    return all_configs\n",
    "        "
   ]
  },
  {
   "cell_type": "code",
   "execution_count": 10,
   "metadata": {
    "collapsed": true
   },
   "outputs": [],
   "source": [
    "resnet_ksvm_branch = [(\"tf-resnet\", resnet_df), (\"tf-ksvm\", ksvm_df)]\n",
    "inception_log_reg_branch = [(\"tf-inception\", inception_df), (\"tf-log-reg\", log_reg_df)]\n",
    "branches = [resnet_ksvm_branch, inception_log_reg_branch]"
   ]
  },
  {
   "cell_type": "code",
   "execution_count": 11,
   "metadata": {},
   "outputs": [],
   "source": [
    "all_configs = get_configs(branches, slo=None)"
   ]
  },
  {
   "cell_type": "markdown",
   "metadata": {},
   "source": [
    "## Determine Replication Strategy"
   ]
  },
  {
   "cell_type": "code",
   "execution_count": 12,
   "metadata": {
    "collapsed": true
   },
   "outputs": [],
   "source": [
    "def get_replications(gpu_configs, cpu_configs, num_gpus=8):\n",
    "    \n",
    "    def get_bottleneck_model(reps, configs):\n",
    "        bottleneck_model_name = None\n",
    "        bottleneck_throughput = None\n",
    "        for model_name, config in configs.items():\n",
    "            _, model_throughput, _ = config\n",
    "            total_throughput = reps[model_name] * model_throughput\n",
    "            if not bottleneck_throughput or total_throughput < bottleneck_throughput:\n",
    "                bottleneck_model_name = model_name\n",
    "                bottleneck_throughput = total_throughput\n",
    "                \n",
    "        return bottleneck_model_name, bottleneck_throughput\n",
    "        \n",
    "    \n",
    "    all_configs = gpu_configs.copy()\n",
    "    all_configs.update(cpu_configs)\n",
    "    \n",
    "    curr_reps = {}\n",
    "    for model_name, _ in all_configs.items():\n",
    "        curr_reps[model_name] = 1\n",
    "        if model_name in gpu_configs:\n",
    "            num_gpus -= 1\n",
    "        \n",
    "    all_reps = []\n",
    "        \n",
    "    while True:\n",
    "        bottleneck_model_name, bottleneck_throughput = get_bottleneck_model(curr_reps, all_configs)\n",
    "        if bottleneck_model_name in gpu_configs:\n",
    "            if num_gpus == 0:\n",
    "                break\n",
    "            else:\n",
    "                num_gpus -= 1\n",
    "                \n",
    "        all_reps.append((curr_reps.copy(), bottleneck_throughput))\n",
    "        curr_reps[bottleneck_model_name] = curr_reps[bottleneck_model_name] + 1\n",
    "        \n",
    "    all_reps.append((curr_reps.copy(), bottleneck_throughput))\n",
    "    \n",
    "    return all_reps"
   ]
  },
  {
   "cell_type": "code",
   "execution_count": 13,
   "metadata": {},
   "outputs": [
    {
     "data": {
      "text/plain": [
       "{'tf-inception': (63.979999999999997, 73.198750383857913, 4.4407653399999996),\n",
       " 'tf-ksvm': (13.62454357236966, 748.53549814695339, 0.060052110000000006),\n",
       " 'tf-log-reg': (1.0033579795470664, 771.84295351497792, 0.0057492999999999997),\n",
       " 'tf-resnet': (63.939999999999998, 51.435861782134317, 4.0688784999999994)}"
      ]
     },
     "execution_count": 13,
     "metadata": {},
     "output_type": "execute_result"
    }
   ],
   "source": [
    "all_configs "
   ]
  },
  {
   "cell_type": "code",
   "execution_count": 14,
   "metadata": {
    "collapsed": true
   },
   "outputs": [],
   "source": [
    "gpu_configs = {k: all_configs[k] for k in ('tf-inception', 'tf-resnet')}\n",
    "cpu_configs = {k: all_configs[k] for k in ('tf-ksvm', 'tf-log-reg')}"
   ]
  },
  {
   "cell_type": "code",
   "execution_count": 15,
   "metadata": {},
   "outputs": [
    {
     "data": {
      "text/plain": [
       "[({'tf-inception': 1, 'tf-ksvm': 1, 'tf-log-reg': 1, 'tf-resnet': 1},\n",
       "  51.435861782134317),\n",
       " ({'tf-inception': 1, 'tf-ksvm': 1, 'tf-log-reg': 1, 'tf-resnet': 2},\n",
       "  73.198750383857913),\n",
       " ({'tf-inception': 2, 'tf-ksvm': 1, 'tf-log-reg': 1, 'tf-resnet': 2},\n",
       "  102.87172356426863),\n",
       " ({'tf-inception': 2, 'tf-ksvm': 1, 'tf-log-reg': 1, 'tf-resnet': 3},\n",
       "  146.39750076771583),\n",
       " ({'tf-inception': 3, 'tf-ksvm': 1, 'tf-log-reg': 1, 'tf-resnet': 3},\n",
       "  154.30758534640296),\n",
       " ({'tf-inception': 3, 'tf-ksvm': 1, 'tf-log-reg': 1, 'tf-resnet': 4},\n",
       "  205.74344712853727),\n",
       " ({'tf-inception': 3, 'tf-ksvm': 1, 'tf-log-reg': 1, 'tf-resnet': 5},\n",
       "  219.59625115157374)]"
      ]
     },
     "execution_count": 15,
     "metadata": {},
     "output_type": "execute_result"
    }
   ],
   "source": [
    "get_replications(gpu_configs=gpu_configs, cpu_configs=cpu_configs, num_gpus=8)"
   ]
  },
  {
   "cell_type": "markdown",
   "metadata": {},
   "source": [
    "## Replications and expected throughputs for varying SLOs"
   ]
  },
  {
   "cell_type": "markdown",
   "metadata": {},
   "source": [
    "### 500ms"
   ]
  },
  {
   "cell_type": "code",
   "execution_count": 16,
   "metadata": {},
   "outputs": [],
   "source": [
    "half_second_configs = get_configs(list(branches), slo=.5)\n",
    "half_second_gpu_configs = {k: half_second_configs[k] for k in ('tf-inception', 'tf-resnet')}\n",
    "half_second_cpu_configs = {k: half_second_configs[k] for k in ('tf-ksvm', 'tf-log-reg')}\n",
    "half_second_reps = get_replications(gpu_configs=half_second_gpu_configs, cpu_configs=half_second_cpu_configs, num_gpus=8)"
   ]
  },
  {
   "cell_type": "markdown",
   "metadata": {},
   "source": [
    "### 1000ms"
   ]
  },
  {
   "cell_type": "code",
   "execution_count": 17,
   "metadata": {
    "collapsed": true
   },
   "outputs": [],
   "source": [
    "one_second_configs = get_configs(list(branches), slo=1)\n",
    "one_second_gpu_configs = {k: one_second_configs[k] for k in ('tf-inception', 'tf-resnet')}\n",
    "one_second_cpu_configs = {k: one_second_configs[k] for k in ('tf-ksvm', 'tf-log-reg')}\n",
    "one_second_reps = get_replications(gpu_configs=one_second_gpu_configs, cpu_configs=one_second_cpu_configs, num_gpus=8)"
   ]
  },
  {
   "cell_type": "markdown",
   "metadata": {},
   "source": [
    "### Max Thru"
   ]
  },
  {
   "cell_type": "code",
   "execution_count": 18,
   "metadata": {
    "collapsed": true
   },
   "outputs": [],
   "source": [
    "max_thru_configs = get_configs(list(branches), slo=None)\n",
    "max_thru_gpu_configs = {k: max_thru_configs[k] for k in ('tf-inception', 'tf-resnet')}\n",
    "max_thru_cpu_configs = {k: max_thru_configs[k] for k in ('tf-ksvm', 'tf-log-reg')}\n",
    "max_thru_reps = get_replications(gpu_configs=max_thru_gpu_configs, cpu_configs=max_thru_cpu_configs, num_gpus=8)"
   ]
  },
  {
   "cell_type": "markdown",
   "metadata": {},
   "source": [
    "### Min Lat"
   ]
  },
  {
   "cell_type": "code",
   "execution_count": 19,
   "metadata": {
    "collapsed": true
   },
   "outputs": [],
   "source": [
    "min_lat_configs = get_min_lat_configs(list(branches))\n",
    "min_lat_gpu_configs = {k: min_lat_configs[k] for k in ('tf-inception', 'tf-resnet')}\n",
    "min_lat_cpu_configs = {k: min_lat_configs[k] for k in ('tf-ksvm', 'tf-log-reg')}\n",
    "min_lat_reps = get_replications(gpu_configs=min_lat_gpu_configs, cpu_configs=min_lat_cpu_configs, num_gpus=8)"
   ]
  },
  {
   "cell_type": "markdown",
   "metadata": {},
   "source": [
    "## Plots"
   ]
  },
  {
   "cell_type": "code",
   "execution_count": 20,
   "metadata": {
    "collapsed": true
   },
   "outputs": [],
   "source": [
    "from matplotlib import pyplot as plt\n",
    "from utils import COST_PER_GPU, COST_PER_CPU\n",
    "% matplotlib inline"
   ]
  },
  {
   "cell_type": "code",
   "execution_count": 21,
   "metadata": {
    "collapsed": true
   },
   "outputs": [],
   "source": [
    "def get_thrus_costs(gpu_configs, reps):\n",
    "    costs = []\n",
    "    thrus = []\n",
    "    for rep_config, throughput in reps:\n",
    "        total_cost = 0\n",
    "        for model_name, num_reps in rep_config.items():\n",
    "            cost = num_reps * COST_PER_CPU\n",
    "            if model_name in gpu_configs:\n",
    "                cost += num_reps * COST_PER_GPU\n",
    "            total_cost += cost\n",
    "\n",
    "        costs.append(total_cost)\n",
    "        thrus.append(throughput)\n",
    "\n",
    "    return thrus, costs"
   ]
  },
  {
   "cell_type": "code",
   "execution_count": 22,
   "metadata": {
    "collapsed": true
   },
   "outputs": [],
   "source": [
    "min_lat_thrus, min_lat_costs = get_thrus_costs(min_lat_gpu_configs, min_lat_reps)\n",
    "max_thru_thrus, max_thru_costs = get_thrus_costs(max_thru_gpu_configs, max_thru_reps)\n",
    "half_second_thrus, half_second_costs = get_thrus_costs(half_second_gpu_configs, half_second_reps)\n",
    "one_second_thrus, one_second_costs = get_thrus_costs(one_second_gpu_configs, one_second_reps)"
   ]
  },
  {
   "cell_type": "markdown",
   "metadata": {},
   "source": [
    "## Load E2E Results"
   ]
  },
  {
   "cell_type": "code",
   "execution_count": 23,
   "metadata": {
    "collapsed": true
   },
   "outputs": [],
   "source": [
    "from end_to_end_profiles import load_end_to_end_experiment as load_e2e"
   ]
  },
  {
   "cell_type": "code",
   "execution_count": 24,
   "metadata": {
    "collapsed": true
   },
   "outputs": [],
   "source": [
    "min_lat_relative_path = \"../results/e2e_profs/systemx/image_driver_1/min_latency\"\n",
    "max_thru_relative_path = \"../results/e2e_profs/systemx/image_driver_1/max_throughput\"\n",
    "half_second_relative_path = \"../results/e2e_profs/systemx/image_driver_1/500ms\"\n",
    "one_second_relative_path = \"../results/e2e_profs/systemx/image_driver_1/1000ms\""
   ]
  },
  {
   "cell_type": "code",
   "execution_count": 25,
   "metadata": {
    "collapsed": true
   },
   "outputs": [],
   "source": [
    "e2e_min_lat_df = load_e2e(\"min\", min_lat_relative_path)[0]\n",
    "e2e_max_thru_df = load_e2e(\"max\", max_thru_relative_path)[0]\n",
    "e2e_half_second_df = load_e2e(\"500ms\", half_second_relative_path)[0]\n",
    "e2e_one_second_df = load_e2e(\"1000ms\", one_second_relative_path)[0]"
   ]
  },
  {
   "cell_type": "markdown",
   "metadata": {},
   "source": [
    "## Plot Throughput vs Cost"
   ]
  },
  {
   "cell_type": "code",
   "execution_count": 26,
   "metadata": {
    "collapsed": true
   },
   "outputs": [],
   "source": [
    "def get_e2e_thrus_costs(e2e_df):\n",
    "    thrus = []\n",
    "    costs = []\n",
    "    slim_df = e2e_df[[\"mean_throughput\", \"cost\"]].sort_values(\"cost\")\n",
    "    for idx, row in slim_df.iterrows():\n",
    "        thru = row[\"mean_throughput\"]\n",
    "        cost = row[\"cost\"]\n",
    "        thrus.append(thru)\n",
    "        costs.append(cost)\n",
    "        \n",
    "    return thrus, costs"
   ]
  },
  {
   "cell_type": "code",
   "execution_count": 27,
   "metadata": {
    "collapsed": true
   },
   "outputs": [],
   "source": [
    "e2e_min_lat_thrus, e2e_min_lat_costs = get_e2e_thrus_costs(e2e_min_lat_df)\n",
    "e2e_max_thru_thrus, e2e_max_thru_costs = get_e2e_thrus_costs(e2e_max_thru_df)\n",
    "e2e_half_second_thrus, e2e_half_second_costs = get_e2e_thrus_costs(e2e_half_second_df)\n",
    "e2e_one_second_thrus, e2e_one_second_costs = get_e2e_thrus_costs(e2e_one_second_df)"
   ]
  },
  {
   "cell_type": "code",
   "execution_count": 28,
   "metadata": {},
   "outputs": [
    {
     "data": {
      "text/plain": [
       "[50.050565910952734,\n",
       " 73.396646845504563,\n",
       " 99.114521191691608,\n",
       " 142.15959827313648,\n",
       " 145.97820195491207,\n",
       " 208.51529198309944,\n",
       " 214.91107002405863]"
      ]
     },
     "execution_count": 28,
     "metadata": {},
     "output_type": "execute_result"
    }
   ],
   "source": [
    "e2e_max_thru_thrus"
   ]
  },
  {
   "cell_type": "code",
   "execution_count": 29,
   "metadata": {},
   "outputs": [
    {
     "data": {
      "text/plain": [
       "[51.435861782134317,\n",
       " 73.198750383857913,\n",
       " 102.87172356426863,\n",
       " 146.39750076771583,\n",
       " 154.30758534640296,\n",
       " 205.74344712853727,\n",
       " 219.59625115157374]"
      ]
     },
     "execution_count": 29,
     "metadata": {},
     "output_type": "execute_result"
    }
   ],
   "source": [
    "max_thru_thrus"
   ]
  },
  {
   "cell_type": "code",
   "execution_count": 30,
   "metadata": {},
   "outputs": [
    {
     "name": "stdout",
     "output_type": "stream",
     "text": [
      "Percentage differences (relative to expectation): [-0.02693249  0.00270355 -0.03652318 -0.02894792 -0.05397909  0.01347234\n",
      " -0.02133543]\n"
     ]
    },
    {
     "data": {
      "text/plain": [
       "<matplotlib.text.Text at 0x11087b208>"
      ]
     },
     "execution_count": 30,
     "metadata": {},
     "output_type": "execute_result"
    },
    {
     "data": {
      "image/png": "[encoded data removed]",
      "text/plain": [
       "<matplotlib.figure.Figure at 0x10eb02f28>"
      ]
     },
     "metadata": {},
     "output_type": "display_data"
    }
   ],
   "source": [
    "diffs = np.array(e2e_max_thru_thrus) - np.array(max_thru_thrus)\n",
    "print(\"Percentage differences (relative to expectation): {}\".format(diffs / max_thru_thrus))\n",
    "\n",
    "plt.plot(max_thru_costs, e2e_max_thru_thrus, label=\"measured\")\n",
    "plt.plot(max_thru_costs, max_thru_thrus, label=\"expected\")\n",
    "plt.legend()\n",
    "plt.ylim(bottom=0)\n",
    "plt.xlabel(\"Cost\")\n",
    "plt.ylabel(\"Throughput (qps)\")\n",
    "plt.title(\"Max Throughput Performance: Expected vs Measured\")"
   ]
  },
  {
   "cell_type": "code",
   "execution_count": 31,
   "metadata": {},
   "outputs": [
    {
     "name": "stdout",
     "output_type": "stream",
     "text": [
      "Percentage differences (relative to expectation): [-0.0293131  -0.02749768  0.01005153 -0.00724352 -0.06398227 -0.04093931\n",
      " -0.08556198]\n"
     ]
    },
    {
     "data": {
      "text/plain": [
       "<matplotlib.text.Text at 0x10eaf4358>"
      ]
     },
     "execution_count": 31,
     "metadata": {},
     "output_type": "execute_result"
    },
    {
     "data": {
      "image/png": "[encoded data removed]",
      "text/plain": [
       "<matplotlib.figure.Figure at 0x1108e3080>"
      ]
     },
     "metadata": {},
     "output_type": "display_data"
    }
   ],
   "source": [
    "diffs = np.array(e2e_min_lat_thrus) - np.array(min_lat_thrus)\n",
    "print(\"Percentage differences (relative to expectation): {}\".format(diffs / min_lat_thrus))\n",
    "\n",
    "plt.plot(e2e_min_lat_costs, e2e_min_lat_thrus, label=\"measured\")\n",
    "plt.plot(min_lat_costs, min_lat_thrus, label=\"expected\")\n",
    "plt.legend()\n",
    "plt.ylim(bottom=0)\n",
    "plt.xlabel(\"Cost\")\n",
    "plt.ylabel(\"Throughput (qps)\")\n",
    "plt.title(\"Min Latency Performance: Expected vs Measured\")"
   ]
  },
  {
   "cell_type": "code",
   "execution_count": 32,
   "metadata": {},
   "outputs": [
    {
     "name": "stdout",
     "output_type": "stream",
     "text": [
      "Percentage differences (relative to expectation): [-0.20795664 -0.05895673 -0.16582893 -0.08197567 -0.05455202 -0.06942495\n",
      " -0.08209259]\n"
     ]
    },
    {
     "data": {
      "text/plain": [
       "<matplotlib.text.Text at 0x110879400>"
      ]
     },
     "execution_count": 32,
     "metadata": {},
     "output_type": "execute_result"
    },
    {
     "data": {
      "image/png": "[encoded data removed]",
      "text/plain": [
       "<matplotlib.figure.Figure at 0x11095b4a8>"
      ]
     },
     "metadata": {},
     "output_type": "display_data"
    }
   ],
   "source": [
    "diffs = np.array(e2e_one_second_thrus) - np.array(one_second_thrus)\n",
    "print(\"Percentage differences (relative to expectation): {}\".format(diffs / one_second_thrus))\n",
    "\n",
    "plt.plot(e2e_one_second_costs, e2e_one_second_thrus, label=\"measured\")\n",
    "plt.plot(one_second_costs, one_second_thrus, label=\"expected\")\n",
    "plt.legend()\n",
    "plt.ylim(bottom=0)\n",
    "plt.xlabel(\"Cost\")\n",
    "plt.ylabel(\"Throughput (qps)\")\n",
    "plt.title(\"1000ms SLO Performance: Expected vs Measured\")"
   ]
  },
  {
   "cell_type": "code",
   "execution_count": 33,
   "metadata": {},
   "outputs": [
    {
     "data": {
      "text/plain": [
       "<matplotlib.text.Text at 0x10e99a518>"
      ]
     },
     "execution_count": 33,
     "metadata": {},
     "output_type": "execute_result"
    },
    {
     "data": {
      "image/png": "[encoded data removed]",
      "text/plain": [
       "<matplotlib.figure.Figure at 0x10eaeecc0>"
      ]
     },
     "metadata": {},
     "output_type": "display_data"
    }
   ],
   "source": [
    "#diffs = np.array(e2e_half_second_thrus) - np.array(half_second_thrus)\n",
    "#print(\"Percentage differences (relative to expectation): {}\".format(diffs / half_second_thrus))\n",
    "\n",
    "plt.plot(e2e_half_second_costs, e2e_half_second_thrus, label=\"measured\")\n",
    "plt.plot(half_second_costs, half_second_thrus, label=\"expected\")\n",
    "plt.legend()\n",
    "plt.ylim(bottom=0)\n",
    "plt.xlabel(\"Cost\")\n",
    "plt.ylabel(\"Throughput (qps)\")\n",
    "plt.title(\"500ms SLO Performance: Expected vs Measured\")"
   ]
  },
  {
   "cell_type": "markdown",
   "metadata": {
    "collapsed": true
   },
   "source": [
    "## Plot Latencies"
   ]
  },
  {
   "cell_type": "code",
   "execution_count": 34,
   "metadata": {
    "collapsed": true
   },
   "outputs": [],
   "source": [
    "def get_latency_stats(df):\n",
    "    all_lats = []\n",
    "    means = []\n",
    "    stds = []\n",
    "    p99s = []\n",
    "    costs = []\n",
    "    for idx, row in df.sort_values(\"cost\").iterrows():\n",
    "        lats = row[\"latency\"]\n",
    "        lats = lats.flatten()\n",
    "        all_lats.append(lats)\n",
    "        mean = np.mean(lats)\n",
    "        means.append(mean)\n",
    "        std = np.std(lats)\n",
    "        stds.append(std)\n",
    "        p99 = np.percentile(lats, 99)\n",
    "        p99s.append(p99)\n",
    "        cost = row[\"cost\"]\n",
    "        costs.append(cost)\n",
    "        \n",
    "    return costs, all_lats, means, stds, p99s"
   ]
  },
  {
   "cell_type": "code",
   "execution_count": 35,
   "metadata": {
    "collapsed": true
   },
   "outputs": [],
   "source": [
    "e2e_min_lat_costs, e2e_min_lat_lats, e2e_min_lat_means, e2e_min_lat_stds, e2e_min_lat_p99s = get_latency_stats(e2e_min_lat_df)\n",
    "e2e_max_thru_costs, e2e_max_thru_lats, e2e_max_thru_means, e2e_max_thru_stds, e2e_max_thru_p99s = get_latency_stats(e2e_max_thru_df)\n",
    "e2e_half_second_costs, e2e_half_second_lats, e2e_half_second_means, e2e_half_second_stds, e2e_half_second_p99s = get_latency_stats(e2e_half_second_df)\n",
    "e2e_one_second_costs, e2e_one_second_lats, e2e_one_second_means, e2e_one_second_stds, e2e_one_second_p99s = get_latency_stats(e2e_one_second_df)"
   ]
  },
  {
   "cell_type": "markdown",
   "metadata": {},
   "source": [
    "### Min Latency"
   ]
  },
  {
   "cell_type": "code",
   "execution_count": 36,
   "metadata": {},
   "outputs": [
    {
     "data": {
      "text/plain": [
       "<matplotlib.legend.Legend at 0x1100e1cc0>"
      ]
     },
     "execution_count": 36,
     "metadata": {},
     "output_type": "execute_result"
    },
    {
     "data": {
      "image/png": "[encoded data removed]",
      "text/plain": [
       "<matplotlib.figure.Figure at 0x1108c95c0>"
      ]
     },
     "metadata": {},
     "output_type": "display_data"
    }
   ],
   "source": [
    "plt.ylabel(\"Latency (seconds)\")\n",
    "plt.title(\"'Min Latency' Latency Distribution\")\n",
    "plt.boxplot(e2e_min_lat_lats)\n",
    "plt.plot(range(1, len(e2e_min_lat_costs) + 1), e2e_min_lat_p99s, \"rs\", label=\"p99\")\n",
    "plt.xticks(range(1, len(e2e_min_lat_costs) + 1), e2e_min_lat_costs)\n",
    "plt.legend()"
   ]
  },
  {
   "cell_type": "markdown",
   "metadata": {},
   "source": [
    "### Max Throughput"
   ]
  },
  {
   "cell_type": "code",
   "execution_count": 37,
   "metadata": {},
   "outputs": [
    {
     "data": {
      "text/plain": [
       "<matplotlib.legend.Legend at 0x10fa729e8>"
      ]
     },
     "execution_count": 37,
     "metadata": {},
     "output_type": "execute_result"
    },
    {
     "data": {
      "image/png": "[encoded data removed]",
      "text/plain": [
       "<matplotlib.figure.Figure at 0x1109a9be0>"
      ]
     },
     "metadata": {},
     "output_type": "display_data"
    }
   ],
   "source": [
    "plt.ylabel(\"Latency (seconds)\")\n",
    "plt.title(\"'Max Throughput' Latency Distribution\")\n",
    "plt.boxplot(e2e_max_thru_lats)\n",
    "plt.plot(range(1, len(e2e_max_thru_costs) + 1), e2e_max_thru_p99s, \"rs\", label=\"p99\")\n",
    "plt.xticks(range(1, len(e2e_max_thru_costs) + 1), e2e_max_thru_costs)\n",
    "plt.legend()"
   ]
  },
  {
   "cell_type": "markdown",
   "metadata": {},
   "source": [
    "### 1000ms"
   ]
  },
  {
   "cell_type": "code",
   "execution_count": 38,
   "metadata": {},
   "outputs": [
    {
     "data": {
      "text/plain": [
       "<matplotlib.legend.Legend at 0x110a42f98>"
      ]
     },
     "execution_count": 38,
     "metadata": {},
     "output_type": "execute_result"
    },
    {
     "data": {
      "image/png": "[encoded data removed]",
      "text/plain": [
       "<matplotlib.figure.Figure at 0x10fa6cf28>"
      ]
     },
     "metadata": {},
     "output_type": "display_data"
    }
   ],
   "source": [
    "plt.ylabel(\"Latency (seconds)\")\n",
    "plt.title(\"'1000ms SLO' Latency Distribution\")\n",
    "plt.boxplot(e2e_one_second_lats)\n",
    "plt.plot(range(1, len(e2e_one_second_costs) + 1), e2e_one_second_p99s, \"rs\", label=\"p99\")\n",
    "plt.xticks(range(1, len(e2e_one_second_costs) + 1), e2e_one_second_costs)\n",
    "plt.legend()"
   ]
  },
  {
   "cell_type": "markdown",
   "metadata": {},
   "source": [
    "### 500ms"
   ]
  },
  {
   "cell_type": "code",
   "execution_count": 39,
   "metadata": {},
   "outputs": [
    {
     "data": {
      "text/plain": [
       "<matplotlib.legend.Legend at 0x110c56128>"
      ]
     },
     "execution_count": 39,
     "metadata": {},
     "output_type": "execute_result"
    },
    {
     "data": {
      "image/png": "[encoded data removed]",
      "text/plain": [
       "<matplotlib.figure.Figure at 0x110a3ca58>"
      ]
     },
     "metadata": {},
     "output_type": "display_data"
    }
   ],
   "source": [
    "plt.ylabel(\"Latency (seconds)\")\n",
    "plt.title(\"'500ms SLO' Latency Distribution\")\n",
    "plt.boxplot(e2e_half_second_lats)\n",
    "plt.plot(range(1, len(e2e_half_second_costs) + 1), e2e_half_second_p99s, \"rs\", label=\"p99\")\n",
    "plt.xticks(range(1, len(e2e_half_second_costs) + 1), e2e_half_second_costs)\n",
    "plt.legend()"
   ]
  },
  {
   "cell_type": "code",
   "execution_count": 40,
   "metadata": {},
   "outputs": [
    {
     "data": {
      "text/plain": [
       "[({'tf-inception': 1, 'tf-ksvm': 1, 'tf-log-reg': 1, 'tf-resnet': 1},\n",
       "  25.644877367459266),\n",
       " ({'tf-inception': 1, 'tf-ksvm': 1, 'tf-log-reg': 1, 'tf-resnet': 2},\n",
       "  48.984991231030754),\n",
       " ({'tf-inception': 2, 'tf-ksvm': 1, 'tf-log-reg': 1, 'tf-resnet': 2},\n",
       "  51.289754734918532),\n",
       " ({'tf-inception': 2, 'tf-ksvm': 1, 'tf-log-reg': 1, 'tf-resnet': 3},\n",
       "  76.934632102377805),\n",
       " ({'tf-inception': 2, 'tf-ksvm': 1, 'tf-log-reg': 1, 'tf-resnet': 4},\n",
       "  88.086103833285023),\n",
       " ({'tf-inception': 2, 'tf-ksvm': 2, 'tf-log-reg': 1, 'tf-resnet': 4},\n",
       "  97.969982462061509),\n",
       " ({'tf-inception': 3, 'tf-ksvm': 2, 'tf-log-reg': 1, 'tf-resnet': 4},\n",
       "  102.57950946983706),\n",
       " ({'tf-inception': 3, 'tf-ksvm': 2, 'tf-log-reg': 1, 'tf-resnet': 5},\n",
       "  128.22438683729632)]"
      ]
     },
     "execution_count": 40,
     "metadata": {},
     "output_type": "execute_result"
    }
   ],
   "source": [
    "half_second_reps"
   ]
  },
  {
   "cell_type": "code",
   "execution_count": null,
   "metadata": {},
   "outputs": [],
   "source": [
    "print(min_lat_reps)"
   ]
  },
  {
   "cell_type": "code",
   "execution_count": null,
   "metadata": {},
   "outputs": [],
   "source": [
    "half_second_configs"
   ]
  },
  {
   "cell_type": "code",
   "execution_count": null,
   "metadata": {},
   "outputs": [],
   "source": [
    "max_thru_reps"
   ]
  },
  {
   "cell_type": "code",
   "execution_count": null,
   "metadata": {},
   "outputs": [],
   "source": [
    "e2e_half_second_costs"
   ]
  },
  {
   "cell_type": "code",
   "execution_count": null,
   "metadata": {},
   "outputs": [],
   "source": [
    "half_second_reps"
   ]
  },
  {
   "cell_type": "code",
   "execution_count": null,
   "metadata": {},
   "outputs": [],
   "source": [
    "e2e_half_second_thrus"
   ]
  },
  {
   "cell_type": "code",
   "execution_count": null,
   "metadata": {
    "collapsed": true
   },
   "outputs": [],
   "source": []
  }
 ],
 "metadata": {
  "kernelspec": {
   "display_name": "Python 3",
   "language": "python",
   "name": "python3"
  },
  "language_info": {
   "codemirror_mode": {
    "name": "ipython",
    "version": 3
   },
   "file_extension": ".py",
   "mimetype": "text/x-python",
   "name": "python",
   "nbconvert_exporter": "python",
   "pygments_lexer": "ipython3",
   "version": "3.6.2"
  }
 },
 "nbformat": 4,
 "nbformat_minor": 2
}
