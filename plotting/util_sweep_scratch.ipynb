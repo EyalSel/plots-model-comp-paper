{
 "cells": [
  {
   "cell_type": "code",
   "execution_count": 5,
   "metadata": {},
   "outputs": [
    {
     "name": "stdout",
     "output_type": "stream",
     "text": [
      "The autoreload extension is already loaded. To reload it, use:\n",
      "  %reload_ext autoreload\n"
     ]
    }
   ],
   "source": [
    "%load_ext autoreload\n",
    "%autoreload 2"
   ]
  },
  {
   "cell_type": "code",
   "execution_count": 6,
   "metadata": {},
   "outputs": [],
   "source": [
    "import sys\n",
    "import os\n",
    "import json\n",
    "import numpy as np\n",
    "import pandas as pd\n",
    "sys.path.insert(0, os.path.abspath(\"../optimizer/\"))\n",
    "sys.path.insert(0, os.path.abspath(\"../plotting/\"))\n",
    "from utilization_sweep_plot import load_all\n",
    "import utils\n",
    "import matplotlib.pyplot as plt"
   ]
  },
  {
   "cell_type": "code",
   "execution_count": 10,
   "metadata": {},
   "outputs": [],
   "source": [
    "high_load_df = load_all(1.0)"
   ]
  },
  {
   "cell_type": "code",
   "execution_count": 11,
   "metadata": {},
   "outputs": [
    {
     "data": {
      "text/html": [
       "<div>\n",
       "<style scoped>\n",
       "    .dataframe tbody tr th:only-of-type {\n",
       "        vertical-align: middle;\n",
       "    }\n",
       "\n",
       "    .dataframe tbody tr th {\n",
       "        vertical-align: top;\n",
       "    }\n",
       "\n",
       "    .dataframe thead th {\n",
       "        text-align: right;\n",
       "    }\n",
       "</style>\n",
       "<table border=\"1\" class=\"dataframe\">\n",
       "  <thead>\n",
       "    <tr style=\"text-align: right;\">\n",
       "      <th></th>\n",
       "      <th>lam</th>\n",
       "      <th>slo_miss_rate</th>\n",
       "      <th>utilization</th>\n",
       "    </tr>\n",
       "  </thead>\n",
       "  <tbody>\n",
       "    <tr>\n",
       "      <th>4</th>\n",
       "      <td>233</td>\n",
       "      <td>0.000000</td>\n",
       "      <td>0.50</td>\n",
       "    </tr>\n",
       "    <tr>\n",
       "      <th>6</th>\n",
       "      <td>283</td>\n",
       "      <td>0.002529</td>\n",
       "      <td>0.60</td>\n",
       "    </tr>\n",
       "    <tr>\n",
       "      <th>5</th>\n",
       "      <td>334</td>\n",
       "      <td>0.000000</td>\n",
       "      <td>0.70</td>\n",
       "    </tr>\n",
       "    <tr>\n",
       "      <th>0</th>\n",
       "      <td>357</td>\n",
       "      <td>0.000000</td>\n",
       "      <td>0.75</td>\n",
       "    </tr>\n",
       "    <tr>\n",
       "      <th>1</th>\n",
       "      <td>377</td>\n",
       "      <td>0.627129</td>\n",
       "      <td>0.80</td>\n",
       "    </tr>\n",
       "    <tr>\n",
       "      <th>2</th>\n",
       "      <td>405</td>\n",
       "      <td>1.000000</td>\n",
       "      <td>0.85</td>\n",
       "    </tr>\n",
       "    <tr>\n",
       "      <th>3</th>\n",
       "      <td>427</td>\n",
       "      <td>1.000000</td>\n",
       "      <td>0.90</td>\n",
       "    </tr>\n",
       "  </tbody>\n",
       "</table>\n",
       "</div>"
      ],
      "text/plain": [
       "   lam  slo_miss_rate  utilization\n",
       "4  233       0.000000         0.50\n",
       "6  283       0.002529         0.60\n",
       "5  334       0.000000         0.70\n",
       "0  357       0.000000         0.75\n",
       "1  377       0.627129         0.80\n",
       "2  405       1.000000         0.85\n",
       "3  427       1.000000         0.90"
      ]
     },
     "execution_count": 11,
     "metadata": {},
     "output_type": "execute_result"
    }
   ],
   "source": [
    "high_load_df"
   ]
  },
  {
   "cell_type": "code",
   "execution_count": null,
   "metadata": {},
   "outputs": [],
   "source": [
    "high_load_df, low_load_df = load_all(0.5)"
   ]
  },
  {
   "cell_type": "code",
   "execution_count": null,
   "metadata": {},
   "outputs": [],
   "source": [
    "low_load_df"
   ]
  },
  {
   "cell_type": "code",
   "execution_count": null,
   "metadata": {},
   "outputs": [],
   "source": [
    "high_load_df"
   ]
  },
  {
   "cell_type": "code",
   "execution_count": 21,
   "metadata": {},
   "outputs": [
    {
     "data": {
      "image/png": "[encoded data removed]",
      "text/plain": [
       "<matplotlib.figure.Figure at 0x1191f1ac8>"
      ]
     },
     "metadata": {},
     "output_type": "display_data"
    }
   ],
   "source": [
    "fig, (ax_slo, ax_lam) = plt.subplots(ncols=2, figsize=(8,3))\n",
    "ax_slo.plot(high_load_df.utilization, high_load_df.slo_miss_rate, \"o-\", label=\"High Contention\")\n",
    "ax_lam.plot(high_load_df.utilization, high_load_df.lam, \"o-\", label=\"High Contention\")\n",
    "\n",
    "# ax.plot(low_load_df.utilization, low_load_df.slo_miss_rate, label=\"Low Contention\")\n",
    "ax_slo.set_ylabel(\"SLO Miss Rate\")\n",
    "ax_lam.set_ylabel(\"Max $\\lambda$\")\n",
    "\n",
    "ax_slo.set_xlabel(\"Utilization\")\n",
    "ax_lam.set_xlabel(\"Utilization\")\n",
    "ax_lam.set_ylim(bottom=0)\n",
    "\n",
    "\n",
    "ax_slo.legend(loc=0)\n",
    "fig.tight_layout()\n",
    "plt.savefig(\"utilization_sensitivity.png\")\n",
    "plt.show()\n"
   ]
  },
  {
   "cell_type": "code",
   "execution_count": null,
   "metadata": {},
   "outputs": [],
   "source": [
    "def load_run(path):\n",
    "    with open(path, \"r\") as f:\n",
    "        results = json.load(f)\n",
    "        return results\n",
    "    \n",
    "def get_latencies_inferline_e2e(results_json):\n",
    "    trials = results_json[\"throughput_results\"][\"client_metrics\"][0][1:]\n",
    "    lats = []\n",
    "    for t in trials:\n",
    "        datalists = t[\"data_lists\"]\n",
    "        for d in datalists:\n",
    "            if list(d.keys())[0] == \"e2e:prediction_latencies\":\n",
    "                items = d[\"e2e:prediction_latencies\"][\"items\"]\n",
    "                for i in items:\n",
    "                    lats.append(float(list(i.values())[0]) / 1000.0 / 1000.0)\n",
    "    lats = np.array(lats)\n",
    "    return lats\n",
    "\n",
    "res = load_run(\"../results_cpp_benchmarker/e2e_results/image_driver_1/util_sweep/high_load/image_driver_one_slo_0.5_cv_1.0_util_0.5/aws_lambda_197_cost_10.6_inception-2_tf-kernel-svm-1_tf-resnet-feats-2_tf-log-reg-1-180419_211313.json\")"
   ]
  },
  {
   "cell_type": "code",
   "execution_count": null,
   "metadata": {},
   "outputs": [],
   "source": [
    "slo = res[\"loaded_config\"][\"slo\"]\n",
    "utilization = res[\"loaded_config\"][\"utilization\"]\n",
    "lats = get_latencies_inferline_e2e(res)"
   ]
  },
  {
   "cell_type": "code",
   "execution_count": null,
   "metadata": {},
   "outputs": [],
   "source": [
    "slo_miss_rate = np.sum(lats > slo) / len(lats)"
   ]
  },
  {
   "cell_type": "code",
   "execution_count": null,
   "metadata": {},
   "outputs": [],
   "source": [
    "slo_miss_rate"
   ]
  },
  {
   "cell_type": "code",
   "execution_count": null,
   "metadata": {},
   "outputs": [],
   "source": []
  }
 ],
 "metadata": {
  "kernelspec": {
   "display_name": "Python 3",
   "language": "python",
   "name": "python3"
  },
  "language_info": {
   "codemirror_mode": {
    "name": "ipython",
    "version": 3
   },
   "file_extension": ".py",
   "mimetype": "text/x-python",
   "name": "python",
   "nbconvert_exporter": "python",
   "pygments_lexer": "ipython3",
   "version": "3.6.4"
  }
 },
 "nbformat": 4,
 "nbformat_minor": 2
}
