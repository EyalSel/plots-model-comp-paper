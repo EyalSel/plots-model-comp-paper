{
 "cells": [
  {
   "cell_type": "code",
   "execution_count": 1,
   "metadata": {},
   "outputs": [],
   "source": [
    "import json\n",
    "import os\n",
    "import sys\n",
    "import pandas as pd\n",
    "\n",
    "import matplotlib.pyplot as plt\n",
    "import seaborn as sns\n",
    "import numpy as np\n",
    "%load_ext autoreload\n",
    "\n",
    "%autoreload 2\n"
   ]
  },
  {
   "cell_type": "code",
   "execution_count": 2,
   "metadata": {
    "collapsed": true
   },
   "outputs": [],
   "source": [
    "import end_to_end_profiles as e2e\n",
    "import profiler\n",
    "import single_model_profiles as sm_profs"
   ]
  },
  {
   "cell_type": "code",
   "execution_count": 3,
   "metadata": {},
   "outputs": [
    {
     "name": "stdout",
     "output_type": "stream",
     "text": [
      "No profile found for alexnet: 1 gpus, 1 cpus, batch size 30. Approximating with batch size 35.057500000000005\n",
      "No profile found for res50: 1 gpus, 1 cpus, batch size 30. Approximating with batch size 27.67075517075517\n",
      "No profile found for res152: 1 gpus, 1 cpus, batch size 30. Approximating with batch size 15.964786324786324\n",
      "No profile found for alexnet: 1 gpus, 1 cpus, batch size 30. Approximating with batch size 35.057500000000005\n",
      "No profile found for res50: 1 gpus, 1 cpus, batch size 30. Approximating with batch size 27.67075517075517\n",
      "No profile found for res152: 1 gpus, 1 cpus, batch size 30. Approximating with batch size 15.964786324786324\n",
      "No profile found for alexnet: 1 gpus, 1 cpus, batch size 30. Approximating with batch size 35.057500000000005\n",
      "No profile found for res50: 1 gpus, 1 cpus, batch size 30. Approximating with batch size 27.67075517075517\n",
      "No profile found for res152: 1 gpus, 1 cpus, batch size 30. Approximating with batch size 15.964786324786324\n",
      "No profile found for alexnet: 1 gpus, 1 cpus, batch size 30. Approximating with batch size 35.057500000000005\n",
      "No profile found for res50: 1 gpus, 1 cpus, batch size 30. Approximating with batch size 27.67075517075517\n",
      "No profile found for res152: 1 gpus, 1 cpus, batch size 30. Approximating with batch size 15.964786324786324\n",
      "No profile found for alexnet: 1 gpus, 1 cpus, batch size 30. Approximating with batch size 35.057500000000005\n",
      "No profile found for res50: 1 gpus, 1 cpus, batch size 30. Approximating with batch size 27.67075517075517\n",
      "No profile found for res152: 1 gpus, 1 cpus, batch size 30. Approximating with batch size 15.964786324786324\n",
      "No profile found for alexnet: 1 gpus, 1 cpus, batch size 30. Approximating with batch size 35.057500000000005\n",
      "No profile found for res50: 1 gpus, 1 cpus, batch size 30. Approximating with batch size 27.67075517075517\n",
      "No profile found for res152: 1 gpus, 1 cpus, batch size 30. Approximating with batch size 15.964786324786324\n",
      "No profile found for alexnet: 1 gpus, 1 cpus, batch size 30. Approximating with batch size 35.057500000000005\n",
      "No profile found for res50: 1 gpus, 1 cpus, batch size 30. Approximating with batch size 27.67075517075517\n",
      "No profile found for res152: 1 gpus, 1 cpus, batch size 30. Approximating with batch size 15.964786324786324\n",
      "No profile found for alexnet: 1 gpus, 1 cpus, batch size 8. Approximating with batch size 7.198520923520925\n",
      "No profile found for res50: 1 gpus, 1 cpus, batch size 8. Approximating with batch size 9.541231126596978\n",
      "No profile found for res152: 1 gpus, 1 cpus, batch size 6. Approximating with batch size 5.6557791191594005\n",
      "No profile found for alexnet: 1 gpus, 1 cpus, batch size 8. Approximating with batch size 7.198520923520925\n",
      "No profile found for res50: 1 gpus, 1 cpus, batch size 8. Approximating with batch size 9.541231126596978\n",
      "No profile found for res152: 1 gpus, 1 cpus, batch size 6. Approximating with batch size 5.6557791191594005\n",
      "No profile found for alexnet: 1 gpus, 1 cpus, batch size 8. Approximating with batch size 7.198520923520925\n",
      "No profile found for res50: 1 gpus, 1 cpus, batch size 8. Approximating with batch size 9.541231126596978\n",
      "No profile found for res152: 1 gpus, 1 cpus, batch size 6. Approximating with batch size 5.6557791191594005\n",
      "No profile found for alexnet: 1 gpus, 1 cpus, batch size 8. Approximating with batch size 7.198520923520925\n",
      "No profile found for res50: 1 gpus, 1 cpus, batch size 8. Approximating with batch size 9.541231126596978\n",
      "No profile found for res152: 1 gpus, 1 cpus, batch size 6. Approximating with batch size 5.6557791191594005\n",
      "No profile found for alexnet: 1 gpus, 1 cpus, batch size 8. Approximating with batch size 7.198520923520925\n",
      "No profile found for res50: 1 gpus, 1 cpus, batch size 8. Approximating with batch size 9.541231126596978\n",
      "No profile found for res152: 1 gpus, 1 cpus, batch size 6. Approximating with batch size 5.6557791191594005\n",
      "No profile found for alexnet: 1 gpus, 1 cpus, batch size 8. Approximating with batch size 7.198520923520925\n",
      "No profile found for res50: 1 gpus, 1 cpus, batch size 8. Approximating with batch size 9.541231126596978\n",
      "No profile found for res152: 1 gpus, 1 cpus, batch size 6. Approximating with batch size 5.6557791191594005\n",
      "No profile found for alexnet: 1 gpus, 1 cpus, batch size 8. Approximating with batch size 7.198520923520925\n",
      "No profile found for res50: 1 gpus, 1 cpus, batch size 8. Approximating with batch size 9.541231126596978\n",
      "No profile found for res152: 1 gpus, 1 cpus, batch size 6. Approximating with batch size 5.6557791191594005\n"
     ]
    }
   ],
   "source": [
    "pipeline_three_df = profiler.load_pipeline_three_systemx()"
   ]
  },
  {
   "cell_type": "code",
   "execution_count": null,
   "metadata": {
    "collapsed": true
   },
   "outputs": [],
   "source": [
    "pipeline_one_df = profiler.load_pipeline_one_systemx()"
   ]
  },
  {
   "cell_type": "code",
   "execution_count": 4,
   "metadata": {
    "collapsed": true
   },
   "outputs": [],
   "source": [
    "def plot_pipeline_exp(pipeline):\n",
    "    plt.clf()\n",
    "    fig, (ax_thru, ax_lat) = plt.subplots(ncols=2, nrows=1)\n",
    "    fig.set_size_inches(12,8)\n",
    "    colors = sns.color_palette(n_colors=8)\n",
    "    i = 0\n",
    "    for title, group in pipeline.groupby(\"name\"):\n",
    "        box = ax_lat.boxplot(x=group[\"latency\"], labels=group[\"cost\"], patch_artist=True)\n",
    "        for patch in box[\"boxes\"]:\n",
    "            patch.set_facecolor(colors[i])\n",
    "        lat = group[\"estimated_latency\"].iloc[0]\n",
    "        cost_xs = np.arange(0.0, max(pipeline[\"cost\"]) + 0.8, 0.1)\n",
    "        lat_ys = lat * np.ones(len(cost_xs))\n",
    "        ax_lat.plot(cost_xs, lat_ys, '--', linewidth=2, color=colors[i])\n",
    "        ax_thru.scatter(x=group[\"cost\"], y=group[\"mean_throughput\"], c=colors[i], marker=\"o\", label=title)\n",
    "        ax_thru.scatter(x=group[\"cost\"], y=group[\"estimated_thru\"], c=colors[i], marker=\"^\", label=\"\")\n",
    "\n",
    "        i += 1\n",
    "    ax_lat.set_ylabel(\"Latency (s)\")\n",
    "    ax_lat.set_xlim((0,max(pipeline[\"cost\"]) + 0.8))\n",
    "    ax_thru.set_xlim((0,max(pipeline[\"cost\"]) + 0.8))\n",
    "\n",
    "    ax_lat.set_xlabel(\"Cost ($/hr)\")\n",
    "    ax_thru.set_ylabel(\"Throughput (queries/s)\")\n",
    "    ax_thru.set_xlabel(\"Cost ($/hr)\")\n",
    "    ax_thru.legend(loc=2)\n",
    "\n",
    "\n",
    "    plt.show()"
   ]
  },
  {
   "cell_type": "code",
   "execution_count": 5,
   "metadata": {},
   "outputs": [
    {
     "data": {
      "text/plain": [
       "<matplotlib.figure.Figure at 0x113923198>"
      ]
     },
     "metadata": {},
     "output_type": "display_data"
    },
    {
     "data": {
      "image/png": "[encoded data removed]",
      "text/plain": [
       "<matplotlib.figure.Figure at 0x1138fec88>"
      ]
     },
     "metadata": {},
     "output_type": "display_data"
    }
   ],
   "source": [
    "plot_pipeline_exp(pipeline_three_df)"
   ]
  },
  {
   "cell_type": "code",
   "execution_count": null,
   "metadata": {
    "collapsed": true
   },
   "outputs": [],
   "source": [
    "pipeline_one_df"
   ]
  },
  {
   "cell_type": "code",
   "execution_count": null,
   "metadata": {},
   "outputs": [],
   "source": [
    "pipeline_three_df"
   ]
  },
  {
   "cell_type": "code",
   "execution_count": 6,
   "metadata": {
    "collapsed": true
   },
   "outputs": [],
   "source": [
    "single_model_profs = sm_profs.load_single_model_profiles()"
   ]
  },
  {
   "cell_type": "code",
   "execution_count": 10,
   "metadata": {},
   "outputs": [
    {
     "data": {
      "text/html": [
       "<div>\n",
       "<style>\n",
       "    .dataframe thead tr:only-child th {\n",
       "        text-align: right;\n",
       "    }\n",
       "\n",
       "    .dataframe thead th {\n",
       "        text-align: left;\n",
       "    }\n",
       "\n",
       "    .dataframe tbody tr th {\n",
       "        vertical-align: top;\n",
       "    }\n",
       "</style>\n",
       "<table border=\"1\" class=\"dataframe\">\n",
       "  <thead>\n",
       "    <tr style=\"text-align: right;\">\n",
       "      <th></th>\n",
       "      <th>num_gpus_per_replica</th>\n",
       "      <th>num_cpus_per_replica</th>\n",
       "      <th>mean_throughput_qps</th>\n",
       "      <th>std_throughput_qps</th>\n",
       "      <th>p99_latency_ms</th>\n",
       "      <th>mean_batch_size</th>\n",
       "      <th>inst_type</th>\n",
       "      <th>cost</th>\n",
       "    </tr>\n",
       "  </thead>\n",
       "  <tbody>\n",
       "    <tr>\n",
       "      <th>0</th>\n",
       "      <td>1</td>\n",
       "      <td>1</td>\n",
       "      <td>48.736332</td>\n",
       "      <td>0.007177</td>\n",
       "      <td>0.023672</td>\n",
       "      <td>1.000000</td>\n",
       "      <td>p2.8xlarge</td>\n",
       "      <td>0.7475</td>\n",
       "    </tr>\n",
       "    <tr>\n",
       "      <th>1</th>\n",
       "      <td>1</td>\n",
       "      <td>1</td>\n",
       "      <td>63.906978</td>\n",
       "      <td>0.072859</td>\n",
       "      <td>0.054513</td>\n",
       "      <td>1.942890</td>\n",
       "      <td>p2.8xlarge</td>\n",
       "      <td>0.7475</td>\n",
       "    </tr>\n",
       "    <tr>\n",
       "      <th>2</th>\n",
       "      <td>1</td>\n",
       "      <td>1</td>\n",
       "      <td>76.285877</td>\n",
       "      <td>0.253129</td>\n",
       "      <td>0.094527</td>\n",
       "      <td>3.456438</td>\n",
       "      <td>p2.8xlarge</td>\n",
       "      <td>0.7475</td>\n",
       "    </tr>\n",
       "    <tr>\n",
       "      <th>3</th>\n",
       "      <td>1</td>\n",
       "      <td>1</td>\n",
       "      <td>83.097698</td>\n",
       "      <td>0.463909</td>\n",
       "      <td>0.134817</td>\n",
       "      <td>5.392449</td>\n",
       "      <td>p2.8xlarge</td>\n",
       "      <td>0.7475</td>\n",
       "    </tr>\n",
       "    <tr>\n",
       "      <th>4</th>\n",
       "      <td>1</td>\n",
       "      <td>1</td>\n",
       "      <td>84.531604</td>\n",
       "      <td>0.249402</td>\n",
       "      <td>0.134376</td>\n",
       "      <td>5.694769</td>\n",
       "      <td>p2.8xlarge</td>\n",
       "      <td>0.7475</td>\n",
       "    </tr>\n",
       "    <tr>\n",
       "      <th>5</th>\n",
       "      <td>1</td>\n",
       "      <td>1</td>\n",
       "      <td>88.120840</td>\n",
       "      <td>0.561545</td>\n",
       "      <td>0.219117</td>\n",
       "      <td>9.541231</td>\n",
       "      <td>p2.8xlarge</td>\n",
       "      <td>0.7475</td>\n",
       "    </tr>\n",
       "    <tr>\n",
       "      <th>6</th>\n",
       "      <td>1</td>\n",
       "      <td>1</td>\n",
       "      <td>90.513584</td>\n",
       "      <td>0.839520</td>\n",
       "      <td>0.237580</td>\n",
       "      <td>10.748134</td>\n",
       "      <td>p2.8xlarge</td>\n",
       "      <td>0.7475</td>\n",
       "    </tr>\n",
       "    <tr>\n",
       "      <th>8</th>\n",
       "      <td>1</td>\n",
       "      <td>1</td>\n",
       "      <td>92.258160</td>\n",
       "      <td>0.475947</td>\n",
       "      <td>0.415486</td>\n",
       "      <td>19.100529</td>\n",
       "      <td>p2.8xlarge</td>\n",
       "      <td>0.7475</td>\n",
       "    </tr>\n",
       "    <tr>\n",
       "      <th>7</th>\n",
       "      <td>1</td>\n",
       "      <td>1</td>\n",
       "      <td>94.114751</td>\n",
       "      <td>1.538247</td>\n",
       "      <td>0.328836</td>\n",
       "      <td>15.173631</td>\n",
       "      <td>p2.8xlarge</td>\n",
       "      <td>0.7475</td>\n",
       "    </tr>\n",
       "    <tr>\n",
       "      <th>9</th>\n",
       "      <td>1</td>\n",
       "      <td>1</td>\n",
       "      <td>96.304349</td>\n",
       "      <td>1.666865</td>\n",
       "      <td>0.577564</td>\n",
       "      <td>27.670755</td>\n",
       "      <td>p2.8xlarge</td>\n",
       "      <td>0.7475</td>\n",
       "    </tr>\n",
       "    <tr>\n",
       "      <th>10</th>\n",
       "      <td>1</td>\n",
       "      <td>1</td>\n",
       "      <td>98.526484</td>\n",
       "      <td>1.413312</td>\n",
       "      <td>0.918114</td>\n",
       "      <td>44.372775</td>\n",
       "      <td>p2.8xlarge</td>\n",
       "      <td>0.7475</td>\n",
       "    </tr>\n",
       "  </tbody>\n",
       "</table>\n",
       "</div>"
      ],
      "text/plain": [
       "    num_gpus_per_replica  num_cpus_per_replica  mean_throughput_qps  \\\n",
       "0                      1                     1            48.736332   \n",
       "1                      1                     1            63.906978   \n",
       "2                      1                     1            76.285877   \n",
       "3                      1                     1            83.097698   \n",
       "4                      1                     1            84.531604   \n",
       "5                      1                     1            88.120840   \n",
       "6                      1                     1            90.513584   \n",
       "8                      1                     1            92.258160   \n",
       "7                      1                     1            94.114751   \n",
       "9                      1                     1            96.304349   \n",
       "10                     1                     1            98.526484   \n",
       "\n",
       "    std_throughput_qps  p99_latency_ms  mean_batch_size   inst_type    cost  \n",
       "0             0.007177        0.023672         1.000000  p2.8xlarge  0.7475  \n",
       "1             0.072859        0.054513         1.942890  p2.8xlarge  0.7475  \n",
       "2             0.253129        0.094527         3.456438  p2.8xlarge  0.7475  \n",
       "3             0.463909        0.134817         5.392449  p2.8xlarge  0.7475  \n",
       "4             0.249402        0.134376         5.694769  p2.8xlarge  0.7475  \n",
       "5             0.561545        0.219117         9.541231  p2.8xlarge  0.7475  \n",
       "6             0.839520        0.237580        10.748134  p2.8xlarge  0.7475  \n",
       "8             0.475947        0.415486        19.100529  p2.8xlarge  0.7475  \n",
       "7             1.538247        0.328836        15.173631  p2.8xlarge  0.7475  \n",
       "9             1.666865        0.577564        27.670755  p2.8xlarge  0.7475  \n",
       "10            1.413312        0.918114        44.372775  p2.8xlarge  0.7475  "
      ]
     },
     "execution_count": 10,
     "metadata": {},
     "output_type": "execute_result"
    }
   ],
   "source": [
    "\n",
    "single_model_profs[\"res50\"].sort_values(\"mean_throughput_qps\")"
   ]
  },
  {
   "cell_type": "code",
   "execution_count": null,
   "metadata": {
    "collapsed": true
   },
   "outputs": [],
   "source": [
    "pipeline_three_df"
   ]
  },
  {
   "cell_type": "code",
   "execution_count": null,
   "metadata": {
    "collapsed": true
   },
   "outputs": [],
   "source": [
    "pipeline_three_df[\"cost\"].iloc[0]"
   ]
  },
  {
   "cell_type": "code",
   "execution_count": null,
   "metadata": {
    "collapsed": true
   },
   "outputs": [],
   "source": [
    "max(pipeline_three_df[\"cost\"])"
   ]
  },
  {
   "cell_type": "code",
   "execution_count": null,
   "metadata": {
    "collapsed": true
   },
   "outputs": [],
   "source": [
    "np.linspace(0.0, 5.4, 50)"
   ]
  },
  {
   "cell_type": "code",
   "execution_count": null,
   "metadata": {
    "collapsed": true
   },
   "outputs": [],
   "source": []
  }
 ],
 "metadata": {
  "kernelspec": {
   "display_name": "Python 3",
   "language": "python",
   "name": "python3"
  },
  "language_info": {
   "codemirror_mode": {
    "name": "ipython",
    "version": 3
   },
   "file_extension": ".py",
   "mimetype": "text/x-python",
   "name": "python",
   "nbconvert_exporter": "python",
   "pygments_lexer": "ipython3",
   "version": "3.6.2"
  }
 },
 "nbformat": 4,
 "nbformat_minor": 2
}
