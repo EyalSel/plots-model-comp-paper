{
 "cells": [
  {
   "cell_type": "code",
   "execution_count": 1,
   "metadata": {
    "collapsed": true
   },
   "outputs": [],
   "source": [
    "import json\n",
    "import os\n",
    "import sys\n",
    "import pandas as pd\n",
    "\n",
    "import matplotlib.pyplot as plt\n",
    "import seaborn as sns\n",
    "import numpy as np\n",
    "%load_ext autoreload\n",
    "\n",
    "%autoreload 2\n"
   ]
  },
  {
   "cell_type": "code",
   "execution_count": 22,
   "metadata": {
    "collapsed": true
   },
   "outputs": [],
   "source": [
    "import end_to_end_profiles as e2e\n",
    "import profiler\n",
    "import single_model_profiles as sm_profs"
   ]
  },
  {
   "cell_type": "code",
   "execution_count": null,
   "metadata": {},
   "outputs": [],
   "source": [
    "pipeline_three_df = profiler.load_pipeline_three_systemx()"
   ]
  },
  {
   "cell_type": "code",
   "execution_count": null,
   "metadata": {
    "collapsed": true
   },
   "outputs": [],
   "source": [
    "pipeline_one_df = profiler.load_pipeline_one_systemx()"
   ]
  },
  {
   "cell_type": "code",
   "execution_count": null,
   "metadata": {
    "collapsed": true
   },
   "outputs": [],
   "source": [
    "def plot_pipeline_exp(pipeline):\n",
    "    plt.clf()\n",
    "    fig, (ax_thru, ax_lat) = plt.subplots(ncols=2, nrows=1)\n",
    "    fig.set_size_inches(12,8)\n",
    "    colors = sns.color_palette(n_colors=8)\n",
    "    i = 0\n",
    "    for title, group in pipeline.groupby(\"name\"):\n",
    "        box = ax_lat.boxplot(x=group[\"latency\"], labels=group[\"cost\"], patch_artist=True)\n",
    "        for patch in box[\"boxes\"]:\n",
    "            patch.set_facecolor(colors[i])\n",
    "        lat = group[\"estimated_latency\"].iloc[0]\n",
    "        cost_xs = np.arange(0.0, max(pipeline[\"cost\"]) + 0.8, 0.1)\n",
    "        lat_ys = lat * np.ones(len(cost_xs))\n",
    "        ax_lat.plot(cost_xs, lat_ys, '--', linewidth=2, color=colors[i])\n",
    "        ax_thru.scatter(x=group[\"cost\"], y=group[\"mean_throughput\"], c=colors[i], marker=\"o\", label=title)\n",
    "        ax_thru.scatter(x=group[\"cost\"], y=group[\"estimated_thru\"], c=colors[i], marker=\"^\", label=\"\")\n",
    "\n",
    "        i += 1\n",
    "    ax_lat.set_ylabel(\"Latency (s)\")\n",
    "    ax_lat.set_xlim((0,max(pipeline[\"cost\"]) + 0.8))\n",
    "    ax_thru.set_xlim((0,max(pipeline[\"cost\"]) + 0.8))\n",
    "\n",
    "    ax_lat.set_xlabel(\"Cost ($/hr)\")\n",
    "    ax_thru.set_ylabel(\"Throughput (queries/s)\")\n",
    "    ax_thru.set_xlabel(\"Cost ($/hr)\")\n",
    "    ax_thru.legend(loc=2)\n",
    "\n",
    "\n",
    "    plt.show()"
   ]
  },
  {
   "cell_type": "code",
   "execution_count": null,
   "metadata": {},
   "outputs": [],
   "source": [
    "plot_pipeline_exp(pipeline_three_df)"
   ]
  },
  {
   "cell_type": "code",
   "execution_count": null,
   "metadata": {
    "collapsed": true
   },
   "outputs": [],
   "source": [
    "pipeline_one_df"
   ]
  },
  {
   "cell_type": "code",
   "execution_count": null,
   "metadata": {
    "collapsed": true
   },
   "outputs": [],
   "source": [
    "pipeline_three_df"
   ]
  },
  {
   "cell_type": "code",
   "execution_count": 23,
   "metadata": {},
   "outputs": [
    {
     "name": "stdout",
     "output_type": "stream",
     "text": [
      "MODEL: /Users/crankshaw/Dropbox/berkeley/riselab/model-comp-project/plots-model-comp-paper/results/single_model_profs/pytorch-alexnet\n",
      "loading results-171024_094621.json\n",
      "23 31\n",
      "loading results-171024_095030.json\n",
      "17 25\n",
      "loading results-171024_095412.json\n",
      "17 25\n",
      "loading results-171024_095800.json\n",
      "23 31\n",
      "loading results-171024_100125.json\n",
      "17 25\n",
      "loading results-171024_100505.json\n",
      "23 31\n",
      "loading results-171024_100841.json\n",
      "23 31\n",
      "loading results-171024_101227.json\n",
      "29 37\n",
      "loading results-171024_101626.json\n",
      "35 43\n",
      "loading results-171024_102054.json\n",
      "29 37\n",
      "loading results-171024_102549.json\n",
      "17 25\n",
      "MODEL: /Users/crankshaw/Dropbox/berkeley/riselab/model-comp-project/plots-model-comp-paper/results/single_model_profs/pytorch-res152\n",
      "loading results-171024_155824.json\n",
      "17 25\n",
      "loading results-171024_160959.json\n",
      "29 37\n",
      "loading results-171024_161905.json\n",
      "17 25\n",
      "loading results-171024_162232.json\n",
      "0 7\n",
      "loading results-171024_173212.json\n",
      "34 42\n",
      "loading results-171024_174201.json\n",
      "22 30\n",
      "loading results-171024_185243.json\n",
      "18 26\n",
      "loading results-171024_190152.json\n",
      "23 31\n",
      "loading results-171024_191223.json\n",
      "8 16\n",
      "loading results-171024_191820.json\n",
      "0 6\n",
      "loading results-171024_193707.json\n",
      "0 6\n",
      "MODEL: /Users/crankshaw/Dropbox/berkeley/riselab/model-comp-project/plots-model-comp-paper/results/single_model_profs/pytorch-res18\n",
      "loading results-171024_194435.json\n",
      "13 21\n",
      "loading results-171024_195151.json\n",
      "23 31\n",
      "loading results-171024_195632.json\n",
      "23 31\n",
      "loading results-171024_200050.json\n",
      "18 26\n",
      "loading results-171024_200510.json\n",
      "23 31\n",
      "loading results-171024_201041.json\n",
      "43 51\n",
      "loading results-171024_201442.json\n",
      "18 26\n",
      "loading results-171024_201827.json\n",
      "18 26\n",
      "loading results-171024_202259.json\n",
      "28 36\n",
      "loading results-171024_202738.json\n",
      "18 26\n",
      "loading results-171024_203249.json\n",
      "13 21\n",
      "MODEL: /Users/crankshaw/Dropbox/berkeley/riselab/model-comp-project/plots-model-comp-paper/results/single_model_profs/pytorch-res50\n",
      "loading results-171024_103354.json\n",
      "23 31\n",
      "loading results-171024_104943.json\n",
      "125 133\n",
      "loading results-171024_105504.json\n",
      "17 25\n",
      "loading results-171024_110037.json\n",
      "23 31\n",
      "loading results-171024_110635.json\n",
      "29 37\n",
      "loading results-171024_111224.json\n",
      "29 37\n",
      "loading results-171024_111807.json\n",
      "29 37\n",
      "loading results-171024_112315.json\n",
      "23 31\n",
      "loading results-171024_112827.json\n",
      "23 31\n",
      "loading results-171024_113540.json\n",
      "29 37\n",
      "loading results-171024_114652.json\n",
      "35 43\n"
     ]
    }
   ],
   "source": [
    "single_model_profs = sm_profs.load_single_model_profiles()"
   ]
  },
  {
   "cell_type": "code",
   "execution_count": 24,
   "metadata": {},
   "outputs": [
    {
     "data": {
      "text/html": [
       "<div>\n",
       "<style>\n",
       "    .dataframe thead tr:only-child th {\n",
       "        text-align: right;\n",
       "    }\n",
       "\n",
       "    .dataframe thead th {\n",
       "        text-align: left;\n",
       "    }\n",
       "\n",
       "    .dataframe tbody tr th {\n",
       "        vertical-align: top;\n",
       "    }\n",
       "</style>\n",
       "<table border=\"1\" class=\"dataframe\">\n",
       "  <thead>\n",
       "    <tr style=\"text-align: right;\">\n",
       "      <th></th>\n",
       "      <th>num_gpus_per_replica</th>\n",
       "      <th>num_cpus_per_replica</th>\n",
       "      <th>mean_throughput_qps</th>\n",
       "      <th>std_throughput_qps</th>\n",
       "      <th>p99_latency_ms</th>\n",
       "      <th>mean_batch_size</th>\n",
       "      <th>inst_type</th>\n",
       "      <th>cost</th>\n",
       "    </tr>\n",
       "  </thead>\n",
       "  <tbody>\n",
       "    <tr>\n",
       "      <th>0</th>\n",
       "      <td>1</td>\n",
       "      <td>1</td>\n",
       "      <td>20.342156</td>\n",
       "      <td>0.003170</td>\n",
       "      <td>0.051865</td>\n",
       "      <td>1.000000</td>\n",
       "      <td>p2.8xlarge</td>\n",
       "      <td>0.7475</td>\n",
       "    </tr>\n",
       "    <tr>\n",
       "      <th>1</th>\n",
       "      <td>1</td>\n",
       "      <td>1</td>\n",
       "      <td>27.984378</td>\n",
       "      <td>0.047836</td>\n",
       "      <td>0.122652</td>\n",
       "      <td>1.967218</td>\n",
       "      <td>p2.8xlarge</td>\n",
       "      <td>0.7475</td>\n",
       "    </tr>\n",
       "    <tr>\n",
       "      <th>2</th>\n",
       "      <td>1</td>\n",
       "      <td>1</td>\n",
       "      <td>36.303631</td>\n",
       "      <td>0.143828</td>\n",
       "      <td>0.201982</td>\n",
       "      <td>3.847240</td>\n",
       "      <td>p2.8xlarge</td>\n",
       "      <td>0.7475</td>\n",
       "    </tr>\n",
       "    <tr>\n",
       "      <th>4</th>\n",
       "      <td>1</td>\n",
       "      <td>1</td>\n",
       "      <td>39.673504</td>\n",
       "      <td>0.172610</td>\n",
       "      <td>0.284024</td>\n",
       "      <td>5.655779</td>\n",
       "      <td>p2.8xlarge</td>\n",
       "      <td>0.7475</td>\n",
       "    </tr>\n",
       "    <tr>\n",
       "      <th>3</th>\n",
       "      <td>1</td>\n",
       "      <td>1</td>\n",
       "      <td>40.610957</td>\n",
       "      <td>1.377961</td>\n",
       "      <td>1.175923</td>\n",
       "      <td>5.990809</td>\n",
       "      <td>p2.8xlarge</td>\n",
       "      <td>0.7475</td>\n",
       "    </tr>\n",
       "    <tr>\n",
       "      <th>5</th>\n",
       "      <td>1</td>\n",
       "      <td>1</td>\n",
       "      <td>41.526501</td>\n",
       "      <td>0.473662</td>\n",
       "      <td>0.469850</td>\n",
       "      <td>9.939431</td>\n",
       "      <td>p2.8xlarge</td>\n",
       "      <td>0.7475</td>\n",
       "    </tr>\n",
       "    <tr>\n",
       "      <th>8</th>\n",
       "      <td>1</td>\n",
       "      <td>1</td>\n",
       "      <td>42.354878</td>\n",
       "      <td>0.534814</td>\n",
       "      <td>0.678285</td>\n",
       "      <td>14.197318</td>\n",
       "      <td>p2.8xlarge</td>\n",
       "      <td>0.7475</td>\n",
       "    </tr>\n",
       "    <tr>\n",
       "      <th>6</th>\n",
       "      <td>1</td>\n",
       "      <td>1</td>\n",
       "      <td>42.595823</td>\n",
       "      <td>0.575396</td>\n",
       "      <td>0.546514</td>\n",
       "      <td>11.590570</td>\n",
       "      <td>p2.8xlarge</td>\n",
       "      <td>0.7475</td>\n",
       "    </tr>\n",
       "    <tr>\n",
       "      <th>7</th>\n",
       "      <td>1</td>\n",
       "      <td>1</td>\n",
       "      <td>45.235534</td>\n",
       "      <td>0.517260</td>\n",
       "      <td>0.755783</td>\n",
       "      <td>15.964786</td>\n",
       "      <td>p2.8xlarge</td>\n",
       "      <td>0.7475</td>\n",
       "    </tr>\n",
       "    <tr>\n",
       "      <th>10</th>\n",
       "      <td>1</td>\n",
       "      <td>1</td>\n",
       "      <td>46.121003</td>\n",
       "      <td>1.293530</td>\n",
       "      <td>1.560356</td>\n",
       "      <td>28.670035</td>\n",
       "      <td>p2.8xlarge</td>\n",
       "      <td>0.7475</td>\n",
       "    </tr>\n",
       "    <tr>\n",
       "      <th>9</th>\n",
       "      <td>1</td>\n",
       "      <td>1</td>\n",
       "      <td>47.286795</td>\n",
       "      <td>1.236546</td>\n",
       "      <td>1.534596</td>\n",
       "      <td>29.035714</td>\n",
       "      <td>p2.8xlarge</td>\n",
       "      <td>0.7475</td>\n",
       "    </tr>\n",
       "  </tbody>\n",
       "</table>\n",
       "</div>"
      ],
      "text/plain": [
       "    num_gpus_per_replica  num_cpus_per_replica  mean_throughput_qps  \\\n",
       "0                      1                     1            20.342156   \n",
       "1                      1                     1            27.984378   \n",
       "2                      1                     1            36.303631   \n",
       "4                      1                     1            39.673504   \n",
       "3                      1                     1            40.610957   \n",
       "5                      1                     1            41.526501   \n",
       "8                      1                     1            42.354878   \n",
       "6                      1                     1            42.595823   \n",
       "7                      1                     1            45.235534   \n",
       "10                     1                     1            46.121003   \n",
       "9                      1                     1            47.286795   \n",
       "\n",
       "    std_throughput_qps  p99_latency_ms  mean_batch_size   inst_type    cost  \n",
       "0             0.003170        0.051865         1.000000  p2.8xlarge  0.7475  \n",
       "1             0.047836        0.122652         1.967218  p2.8xlarge  0.7475  \n",
       "2             0.143828        0.201982         3.847240  p2.8xlarge  0.7475  \n",
       "4             0.172610        0.284024         5.655779  p2.8xlarge  0.7475  \n",
       "3             1.377961        1.175923         5.990809  p2.8xlarge  0.7475  \n",
       "5             0.473662        0.469850         9.939431  p2.8xlarge  0.7475  \n",
       "8             0.534814        0.678285        14.197318  p2.8xlarge  0.7475  \n",
       "6             0.575396        0.546514        11.590570  p2.8xlarge  0.7475  \n",
       "7             0.517260        0.755783        15.964786  p2.8xlarge  0.7475  \n",
       "10            1.293530        1.560356        28.670035  p2.8xlarge  0.7475  \n",
       "9             1.236546        1.534596        29.035714  p2.8xlarge  0.7475  "
      ]
     },
     "execution_count": 24,
     "metadata": {},
     "output_type": "execute_result"
    }
   ],
   "source": [
    "\n",
    "single_model_profs[\"res152\"].sort_values(\"mean_throughput_qps\")"
   ]
  },
  {
   "cell_type": "code",
   "execution_count": 7,
   "metadata": {},
   "outputs": [
    {
     "data": {
      "text/plain": [
       "dict_keys(['alexnet', 'res152', 'res18', 'res50'])"
      ]
     },
     "execution_count": 7,
     "metadata": {},
     "output_type": "execute_result"
    }
   ],
   "source": [
    "single_model_profs.keys()"
   ]
  },
  {
   "cell_type": "code",
   "execution_count": null,
   "metadata": {
    "collapsed": true
   },
   "outputs": [],
   "source": [
    "pipeline_three_df"
   ]
  },
  {
   "cell_type": "code",
   "execution_count": null,
   "metadata": {
    "collapsed": true
   },
   "outputs": [],
   "source": [
    "pipeline_three_df[\"cost\"].iloc[0]"
   ]
  },
  {
   "cell_type": "code",
   "execution_count": null,
   "metadata": {
    "collapsed": true
   },
   "outputs": [],
   "source": [
    "max(pipeline_three_df[\"cost\"])"
   ]
  },
  {
   "cell_type": "code",
   "execution_count": null,
   "metadata": {
    "collapsed": true
   },
   "outputs": [],
   "source": [
    "np.linspace(0.0, 5.4, 50)"
   ]
  },
  {
   "cell_type": "code",
   "execution_count": null,
   "metadata": {
    "collapsed": true
   },
   "outputs": [],
   "source": []
  }
 ],
 "metadata": {
  "kernelspec": {
   "display_name": "Python 3",
   "language": "python",
   "name": "python3"
  },
  "language_info": {
   "codemirror_mode": {
    "name": "ipython",
    "version": 3
   },
   "file_extension": ".py",
   "mimetype": "text/x-python",
   "name": "python",
   "nbconvert_exporter": "python",
   "pygments_lexer": "ipython3",
   "version": "3.6.2"
  }
 },
 "nbformat": 4,
 "nbformat_minor": 2
}
