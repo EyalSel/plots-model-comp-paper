{
 "cells": [
  {
   "cell_type": "code",
   "execution_count": 1,
   "metadata": {},
   "outputs": [],
   "source": [
    "import json\n",
    "import os\n",
    "import sys\n",
    "import pandas as pd\n",
    "\n",
    "import matplotlib.pyplot as plt\n",
    "import seaborn as sns\n",
    "%load_ext autoreload\n",
    "\n",
    "%autoreload 2\n"
   ]
  },
  {
   "cell_type": "code",
   "execution_count": 2,
   "metadata": {},
   "outputs": [],
   "source": [
    "import end_to_end_profiles as e2e\n",
    "import profiler\n",
    "import single_model_profiles as sm_profs"
   ]
  },
  {
   "cell_type": "code",
   "execution_count": 4,
   "metadata": {},
   "outputs": [
    {
     "name": "stdout",
     "output_type": "stream",
     "text": [
      "No profile found for alexnet: 1 gpus, 1 cpus, batch size 30. Approximating with batch size 32.0\n",
      "No profile found for res50: 1 gpus, 1 cpus, batch size 30. Approximating with batch size 32.0\n",
      "No profile found for alexnet: 1 gpus, 1 cpus, batch size 30. Approximating with batch size 32.0\n",
      "No profile found for res50: 1 gpus, 1 cpus, batch size 30. Approximating with batch size 32.0\n",
      "No profile found for alexnet: 1 gpus, 1 cpus, batch size 30. Approximating with batch size 32.0\n",
      "No profile found for res50: 1 gpus, 1 cpus, batch size 30. Approximating with batch size 32.0\n",
      "No profile found for alexnet: 1 gpus, 1 cpus, batch size 30. Approximating with batch size 32.0\n",
      "No profile found for res50: 1 gpus, 1 cpus, batch size 30. Approximating with batch size 32.0\n",
      "No profile found for alexnet: 1 gpus, 1 cpus, batch size 30. Approximating with batch size 32.0\n",
      "No profile found for res50: 1 gpus, 1 cpus, batch size 30. Approximating with batch size 32.0\n",
      "No profile found for alexnet: 1 gpus, 1 cpus, batch size 30. Approximating with batch size 32.0\n",
      "No profile found for res50: 1 gpus, 1 cpus, batch size 30. Approximating with batch size 32.0\n",
      "No profile found for alexnet: 1 gpus, 1 cpus, batch size 30. Approximating with batch size 32.0\n",
      "No profile found for res50: 1 gpus, 1 cpus, batch size 30. Approximating with batch size 32.0\n"
     ]
    }
   ],
   "source": [
    "pipeline_three_df = profiler.load_pipeline_three_systemx()"
   ]
  },
  {
   "cell_type": "code",
   "execution_count": 5,
   "metadata": {},
   "outputs": [
    {
     "name": "stdout",
     "output_type": "stream",
     "text": [
      "No profile found for tf-resnet-feats: 1 gpus, 1 cpus, batch size 64. Approximating with batch size 62.38461538461539\n",
      "No profile found for tf-resnet-feats: 1 gpus, 1 cpus, batch size 64. Approximating with batch size 62.38461538461539\n",
      "No profile found for tf-resnet-feats: 1 gpus, 1 cpus, batch size 64. Approximating with batch size 62.38461538461539\n",
      "No profile found for tf-resnet-feats: 1 gpus, 1 cpus, batch size 64. Approximating with batch size 62.38461538461539\n",
      "No profile found for tf-resnet-feats: 1 gpus, 1 cpus, batch size 64. Approximating with batch size 62.38461538461539\n",
      "No profile found for tf-resnet-feats: 1 gpus, 1 cpus, batch size 64. Approximating with batch size 62.38461538461539\n",
      "No profile found for tf-resnet-feats: 1 gpus, 1 cpus, batch size 64. Approximating with batch size 62.38461538461539\n",
      "No profile found for tf-resnet-feats: 1 gpus, 1 cpus, batch size 64. Approximating with batch size 62.38461538461539\n",
      "No profile found for tf-resnet-feats: 1 gpus, 1 cpus, batch size 1. Approximating with batch size 1.9967532467532467\n",
      "No profile found for tf-kernel-svm: 0 gpus, 1 cpus, batch size 1. Approximating with batch size 1.999755859375\n",
      "No profile found for tf-resnet-feats: 1 gpus, 1 cpus, batch size 1. Approximating with batch size 1.9967532467532467\n",
      "No profile found for tf-kernel-svm: 0 gpus, 1 cpus, batch size 1. Approximating with batch size 1.999755859375\n",
      "No profile found for tf-resnet-feats: 1 gpus, 1 cpus, batch size 1. Approximating with batch size 1.9967532467532467\n",
      "No profile found for tf-kernel-svm: 0 gpus, 1 cpus, batch size 1. Approximating with batch size 1.999755859375\n",
      "No profile found for tf-resnet-feats: 1 gpus, 1 cpus, batch size 1. Approximating with batch size 1.9967532467532467\n",
      "No profile found for tf-kernel-svm: 0 gpus, 1 cpus, batch size 1. Approximating with batch size 1.999755859375\n",
      "No profile found for tf-resnet-feats: 1 gpus, 1 cpus, batch size 1. Approximating with batch size 1.9967532467532467\n",
      "No profile found for tf-kernel-svm: 0 gpus, 1 cpus, batch size 1. Approximating with batch size 1.999755859375\n",
      "No profile found for tf-resnet-feats: 1 gpus, 1 cpus, batch size 1. Approximating with batch size 1.9967532467532467\n",
      "No profile found for tf-kernel-svm: 0 gpus, 1 cpus, batch size 1. Approximating with batch size 1.999755859375\n",
      "No profile found for tf-resnet-feats: 1 gpus, 1 cpus, batch size 1. Approximating with batch size 1.9967532467532467\n",
      "No profile found for tf-kernel-svm: 0 gpus, 1 cpus, batch size 1. Approximating with batch size 1.999755859375\n",
      "No profile found for tf-resnet-feats: 1 gpus, 1 cpus, batch size 1. Approximating with batch size 1.9967532467532467\n",
      "No profile found for tf-kernel-svm: 0 gpus, 1 cpus, batch size 1. Approximating with batch size 1.999755859375\n"
     ]
    }
   ],
   "source": [
    "pipeline_one_df = profiler.load_pipeline_one_systemx()"
   ]
  },
  {
   "cell_type": "code",
   "execution_count": null,
   "metadata": {},
   "outputs": [],
   "source": [
    "# for df in dfs:\n",
    "ax = sns.boxplot(x=\"cost\", y=\"latency\", hue=\"name\", orient=\"v\",\n",
    "                 data=pipeline_one_df)"
   ]
  },
  {
   "cell_type": "code",
   "execution_count": null,
   "metadata": {},
   "outputs": [],
   "source": [
    "plt.show()"
   ]
  },
  {
   "cell_type": "code",
   "execution_count": null,
   "metadata": {},
   "outputs": [],
   "source": [
    "ax.legend(loc=1)"
   ]
  },
  {
   "cell_type": "code",
   "execution_count": null,
   "metadata": {
    "collapsed": true
   },
   "outputs": [],
   "source": [
    "ax2 = sns.pointplot(x=\"cost\", y=\"mean_throughput\", hue=\"name\", data=pipeline_one_df)"
   ]
  },
  {
   "cell_type": "code",
   "execution_count": null,
   "metadata": {},
   "outputs": [],
   "source": [
    "\n",
    "plt.show()"
   ]
  },
  {
   "cell_type": "code",
   "execution_count": null,
   "metadata": {},
   "outputs": [],
   "source": []
  },
  {
   "cell_type": "code",
   "execution_count": null,
   "metadata": {},
   "outputs": [],
   "source": []
  },
  {
   "cell_type": "code",
   "execution_count": 6,
   "metadata": {},
   "outputs": [
    {
     "data": {
      "text/plain": [
       "<matplotlib.figure.Figure at 0x1132f87f0>"
      ]
     },
     "metadata": {},
     "output_type": "display_data"
    },
    {
     "data": {
      "image/png": "[encoded data removed]",
      "text/plain": [
       "<matplotlib.figure.Figure at 0x1132f8780>"
      ]
     },
     "metadata": {},
     "output_type": "display_data"
    }
   ],
   "source": [
    "plt.clf()\n",
    "fig, (ax_lat, ax_thru) = plt.subplots(ncols=2, nrows=1)\n",
    "fig.set_size_inches(12,8)\n",
    "colors = sns.color_palette(n_colors=8)\n",
    "i = 0\n",
    "for title, group in pipeline_one_df.groupby(\"name\"):\n",
    "    box = ax_lat.boxplot(x=group[\"latency\"], labels=group[\"cost\"], patch_artist=True)\n",
    "    for patch in box[\"boxes\"]:\n",
    "        patch.set_facecolor(colors[i])\n",
    "    ax_lat.plot(x=group[\"cost\"], y=group[\"estimated_latency\"], linestyle=\"dashed\", color=colors[i])\n",
    "    ax_thru.scatter(x=group[\"cost\"], y=group[\"mean_throughput\"], c=colors[i], marker=\"o\", label=title)\n",
    "    ax_thru.scatter(x=group[\"cost\"], y=group[\"estimated_thru\"], c=colors[i], marker=\"*\")\n",
    "\n",
    "    i += 1\n",
    "plt.show()"
   ]
  },
  {
   "cell_type": "code",
   "execution_count": null,
   "metadata": {},
   "outputs": [],
   "source": [
    "pipeline_one_df.columns"
   ]
  },
  {
   "cell_type": "code",
   "execution_count": null,
   "metadata": {},
   "outputs": [],
   "source": [
    "pipeline_one_df"
   ]
  },
  {
   "cell_type": "code",
   "execution_count": null,
   "metadata": {},
   "outputs": [],
   "source": [
    "pipeline_three_df"
   ]
  },
  {
   "cell_type": "code",
   "execution_count": null,
   "metadata": {
    "collapsed": true
   },
   "outputs": [],
   "source": []
  }
 ],
 "metadata": {
  "kernelspec": {
   "display_name": "Python 3",
   "language": "python",
   "name": "python3"
  },
  "language_info": {
   "codemirror_mode": {
    "name": "ipython",
    "version": 3
   },
   "file_extension": ".py",
   "mimetype": "text/x-python",
   "name": "python",
   "nbconvert_exporter": "python",
   "pygments_lexer": "ipython3",
   "version": "3.6.2"
  }
 },
 "nbformat": 4,
 "nbformat_minor": 2
}
