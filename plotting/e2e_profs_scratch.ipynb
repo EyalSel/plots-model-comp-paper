{
 "cells": [
  {
   "cell_type": "code",
   "execution_count": 1,
   "metadata": {},
   "outputs": [],
   "source": [
    "import json\n",
    "import os\n",
    "import sys\n",
    "import pandas as pd\n",
    "\n",
    "import matplotlib.pyplot as plt\n",
    "import seaborn as sns\n",
    "import numpy as np\n",
    "%load_ext autoreload\n",
    "\n",
    "%autoreload 2\n"
   ]
  },
  {
   "cell_type": "code",
   "execution_count": 2,
   "metadata": {
    "collapsed": true
   },
   "outputs": [],
   "source": [
    "import end_to_end_profiles as e2e\n",
    "import profiler\n",
    "import single_model_profiles as sm_profs"
   ]
  },
  {
   "cell_type": "code",
   "execution_count": 3,
   "metadata": {},
   "outputs": [
    {
     "name": "stdout",
     "output_type": "stream",
     "text": [
      "No profile found for alexnet: 1 gpus, 1 cpus, batch size 35. Approximating with batch size 35.057500000000005\n",
      "No profile found for res50: 1 gpus, 1 cpus, batch size 27. Approximating with batch size 27.67075517075517\n",
      "No profile found for res152: 1 gpus, 1 cpus, batch size 14. Approximating with batch size 14.197318007662835\n",
      "No profile found for alexnet: 1 gpus, 1 cpus, batch size 35. Approximating with batch size 35.057500000000005\n",
      "No profile found for res50: 1 gpus, 1 cpus, batch size 27. Approximating with batch size 27.67075517075517\n",
      "No profile found for res152: 1 gpus, 1 cpus, batch size 14. Approximating with batch size 14.197318007662835\n",
      "No profile found for alexnet: 1 gpus, 1 cpus, batch size 35. Approximating with batch size 35.057500000000005\n",
      "No profile found for res50: 1 gpus, 1 cpus, batch size 27. Approximating with batch size 27.67075517075517\n",
      "No profile found for res152: 1 gpus, 1 cpus, batch size 14. Approximating with batch size 14.197318007662835\n",
      "No profile found for alexnet: 1 gpus, 1 cpus, batch size 35. Approximating with batch size 35.057500000000005\n",
      "No profile found for res50: 1 gpus, 1 cpus, batch size 27. Approximating with batch size 27.67075517075517\n",
      "No profile found for res152: 1 gpus, 1 cpus, batch size 14. Approximating with batch size 14.197318007662835\n",
      "No profile found for alexnet: 1 gpus, 1 cpus, batch size 35. Approximating with batch size 35.057500000000005\n",
      "No profile found for res50: 1 gpus, 1 cpus, batch size 27. Approximating with batch size 27.67075517075517\n",
      "No profile found for res152: 1 gpus, 1 cpus, batch size 14. Approximating with batch size 14.197318007662835\n",
      "No profile found for alexnet: 1 gpus, 1 cpus, batch size 35. Approximating with batch size 35.057500000000005\n",
      "No profile found for res50: 1 gpus, 1 cpus, batch size 27. Approximating with batch size 27.67075517075517\n",
      "No profile found for res152: 1 gpus, 1 cpus, batch size 14. Approximating with batch size 14.197318007662835\n",
      "No profile found for alexnet: 1 gpus, 1 cpus, batch size 35. Approximating with batch size 35.057500000000005\n",
      "No profile found for res50: 1 gpus, 1 cpus, batch size 27. Approximating with batch size 27.67075517075517\n",
      "No profile found for res152: 1 gpus, 1 cpus, batch size 14. Approximating with batch size 14.197318007662835\n",
      "No profile found for alexnet: 1 gpus, 1 cpus, batch size 8. Approximating with batch size 7.198520923520925\n",
      "No profile found for res50: 1 gpus, 1 cpus, batch size 8. Approximating with batch size 9.541231126596978\n",
      "No profile found for alexnet: 1 gpus, 1 cpus, batch size 8. Approximating with batch size 7.198520923520925\n",
      "No profile found for res50: 1 gpus, 1 cpus, batch size 8. Approximating with batch size 9.541231126596978\n",
      "No profile found for alexnet: 1 gpus, 1 cpus, batch size 8. Approximating with batch size 7.198520923520925\n",
      "No profile found for res50: 1 gpus, 1 cpus, batch size 8. Approximating with batch size 9.541231126596978\n",
      "No profile found for alexnet: 1 gpus, 1 cpus, batch size 8. Approximating with batch size 7.198520923520925\n",
      "No profile found for res50: 1 gpus, 1 cpus, batch size 8. Approximating with batch size 9.541231126596978\n",
      "No profile found for alexnet: 1 gpus, 1 cpus, batch size 8. Approximating with batch size 7.198520923520925\n",
      "No profile found for res50: 1 gpus, 1 cpus, batch size 8. Approximating with batch size 9.541231126596978\n",
      "No profile found for alexnet: 1 gpus, 1 cpus, batch size 8. Approximating with batch size 7.198520923520925\n",
      "No profile found for res50: 1 gpus, 1 cpus, batch size 8. Approximating with batch size 9.541231126596978\n",
      "No profile found for alexnet: 1 gpus, 1 cpus, batch size 8. Approximating with batch size 7.198520923520925\n",
      "No profile found for res50: 1 gpus, 1 cpus, batch size 8. Approximating with batch size 9.541231126596978\n"
     ]
    }
   ],
   "source": [
    "pipeline_three_df = profiler.load_pipeline_three_systemx()"
   ]
  },
  {
   "cell_type": "code",
   "execution_count": null,
   "metadata": {
    "collapsed": true
   },
   "outputs": [],
   "source": [
    "pipeline_one_df = profiler.load_pipeline_one_systemx()"
   ]
  },
  {
   "cell_type": "code",
   "execution_count": 4,
   "metadata": {
    "collapsed": true
   },
   "outputs": [],
   "source": [
    "def plot_pipeline_exp(pipeline):\n",
    "    plt.clf()\n",
    "    fig, (ax_thru, ax_lat) = plt.subplots(ncols=2, nrows=1)\n",
    "    fig.set_size_inches(12,8)\n",
    "    colors = sns.color_palette(n_colors=8)\n",
    "    i = 0\n",
    "    for title, group in pipeline.groupby(\"name\"):\n",
    "        box = ax_lat.boxplot(x=group[\"latency\"], labels=group[\"cost\"], patch_artist=True)\n",
    "        for patch in box[\"boxes\"]:\n",
    "            patch.set_facecolor(colors[i])\n",
    "        lat = group[\"estimated_latency\"].iloc[0]\n",
    "        cost_xs = np.arange(0.0, max(pipeline[\"cost\"]) + 0.8, 0.1)\n",
    "        lat_ys = lat * np.ones(len(cost_xs))\n",
    "        ax_lat.plot(cost_xs, lat_ys, '--', linewidth=2, color=colors[i])\n",
    "        ax_thru.scatter(x=group[\"cost\"], y=group[\"mean_throughput\"], c=colors[i], marker=\"o\", label=title)\n",
    "        ax_thru.scatter(x=group[\"cost\"], y=group[\"estimated_thru\"], c=colors[i], marker=\"^\", label=\"\")\n",
    "\n",
    "        i += 1\n",
    "    ax_lat.set_ylabel(\"Latency (s)\")\n",
    "    ax_lat.set_xlim((0,max(pipeline[\"cost\"]) + 0.8))\n",
    "    ax_thru.set_xlim((0,max(pipeline[\"cost\"]) + 0.8))\n",
    "\n",
    "    ax_lat.set_xlabel(\"Cost ($/hr)\")\n",
    "    ax_thru.set_ylabel(\"Throughput (queries/s)\")\n",
    "    ax_thru.set_xlabel(\"Cost ($/hr)\")\n",
    "    ax_thru.legend(loc=2)\n",
    "\n",
    "\n",
    "    plt.show()"
   ]
  },
  {
   "cell_type": "code",
   "execution_count": 5,
   "metadata": {},
   "outputs": [
    {
     "data": {
      "text/plain": [
       "<matplotlib.figure.Figure at 0x1128632e8>"
      ]
     },
     "metadata": {},
     "output_type": "display_data"
    },
    {
     "data": {
      "image/png": "[encoded data removed]",
      "text/plain": [
       "<matplotlib.figure.Figure at 0x116fcdc50>"
      ]
     },
     "metadata": {},
     "output_type": "display_data"
    }
   ],
   "source": [
    "plot_pipeline_exp(pipeline_three_df)"
   ]
  },
  {
   "cell_type": "code",
   "execution_count": null,
   "metadata": {
    "collapsed": true
   },
   "outputs": [],
   "source": [
    "pipeline_one_df"
   ]
  },
  {
   "cell_type": "code",
   "execution_count": null,
   "metadata": {
    "collapsed": true
   },
   "outputs": [],
   "source": [
    "pipeline_three_df"
   ]
  },
  {
   "cell_type": "code",
   "execution_count": 7,
   "metadata": {
    "collapsed": true
   },
   "outputs": [],
   "source": [
    "single_model_profs = sm_profs.load_single_model_profiles()"
   ]
  },
  {
   "cell_type": "code",
   "execution_count": 10,
   "metadata": {},
   "outputs": [
    {
     "data": {
      "text/html": [
       "<div>\n",
       "<style>\n",
       "    .dataframe thead tr:only-child th {\n",
       "        text-align: right;\n",
       "    }\n",
       "\n",
       "    .dataframe thead th {\n",
       "        text-align: left;\n",
       "    }\n",
       "\n",
       "    .dataframe tbody tr th {\n",
       "        vertical-align: top;\n",
       "    }\n",
       "</style>\n",
       "<table border=\"1\" class=\"dataframe\">\n",
       "  <thead>\n",
       "    <tr style=\"text-align: right;\">\n",
       "      <th></th>\n",
       "      <th>num_gpus_per_replica</th>\n",
       "      <th>num_cpus_per_replica</th>\n",
       "      <th>mean_throughput_qps</th>\n",
       "      <th>std_throughput_qps</th>\n",
       "      <th>p99_latency_ms</th>\n",
       "      <th>mean_batch_size</th>\n",
       "      <th>inst_type</th>\n",
       "      <th>cost</th>\n",
       "    </tr>\n",
       "  </thead>\n",
       "  <tbody>\n",
       "    <tr>\n",
       "      <th>0</th>\n",
       "      <td>1</td>\n",
       "      <td>1</td>\n",
       "      <td>83.878489</td>\n",
       "      <td>0.038358</td>\n",
       "      <td>0.015101</td>\n",
       "      <td>1.000000</td>\n",
       "      <td>p2.8xlarge</td>\n",
       "      <td>0.7475</td>\n",
       "    </tr>\n",
       "    <tr>\n",
       "      <th>1</th>\n",
       "      <td>1</td>\n",
       "      <td>1</td>\n",
       "      <td>116.748684</td>\n",
       "      <td>0.239319</td>\n",
       "      <td>0.030743</td>\n",
       "      <td>1.762531</td>\n",
       "      <td>p2.8xlarge</td>\n",
       "      <td>0.7475</td>\n",
       "    </tr>\n",
       "    <tr>\n",
       "      <th>2</th>\n",
       "      <td>1</td>\n",
       "      <td>1</td>\n",
       "      <td>147.635760</td>\n",
       "      <td>0.375504</td>\n",
       "      <td>0.049795</td>\n",
       "      <td>3.345835</td>\n",
       "      <td>p2.8xlarge</td>\n",
       "      <td>0.7475</td>\n",
       "    </tr>\n",
       "    <tr>\n",
       "      <th>3</th>\n",
       "      <td>1</td>\n",
       "      <td>1</td>\n",
       "      <td>162.259959</td>\n",
       "      <td>0.631628</td>\n",
       "      <td>0.065084</td>\n",
       "      <td>5.042519</td>\n",
       "      <td>p2.8xlarge</td>\n",
       "      <td>0.7475</td>\n",
       "    </tr>\n",
       "    <tr>\n",
       "      <th>5</th>\n",
       "      <td>1</td>\n",
       "      <td>1</td>\n",
       "      <td>174.538539</td>\n",
       "      <td>0.880917</td>\n",
       "      <td>0.077491</td>\n",
       "      <td>6.451842</td>\n",
       "      <td>p2.8xlarge</td>\n",
       "      <td>0.7475</td>\n",
       "    </tr>\n",
       "    <tr>\n",
       "      <th>4</th>\n",
       "      <td>1</td>\n",
       "      <td>1</td>\n",
       "      <td>175.500178</td>\n",
       "      <td>0.873927</td>\n",
       "      <td>0.077975</td>\n",
       "      <td>6.614454</td>\n",
       "      <td>p2.8xlarge</td>\n",
       "      <td>0.7475</td>\n",
       "    </tr>\n",
       "    <tr>\n",
       "      <th>6</th>\n",
       "      <td>1</td>\n",
       "      <td>1</td>\n",
       "      <td>181.054837</td>\n",
       "      <td>0.997950</td>\n",
       "      <td>0.085482</td>\n",
       "      <td>7.198521</td>\n",
       "      <td>p2.8xlarge</td>\n",
       "      <td>0.7475</td>\n",
       "    </tr>\n",
       "    <tr>\n",
       "      <th>7</th>\n",
       "      <td>1</td>\n",
       "      <td>1</td>\n",
       "      <td>185.824708</td>\n",
       "      <td>2.145355</td>\n",
       "      <td>0.127311</td>\n",
       "      <td>11.414000</td>\n",
       "      <td>p2.8xlarge</td>\n",
       "      <td>0.7475</td>\n",
       "    </tr>\n",
       "    <tr>\n",
       "      <th>8</th>\n",
       "      <td>1</td>\n",
       "      <td>1</td>\n",
       "      <td>186.851308</td>\n",
       "      <td>1.559642</td>\n",
       "      <td>0.127728</td>\n",
       "      <td>11.452920</td>\n",
       "      <td>p2.8xlarge</td>\n",
       "      <td>0.7475</td>\n",
       "    </tr>\n",
       "    <tr>\n",
       "      <th>9</th>\n",
       "      <td>1</td>\n",
       "      <td>1</td>\n",
       "      <td>200.897287</td>\n",
       "      <td>2.794113</td>\n",
       "      <td>0.251107</td>\n",
       "      <td>24.822222</td>\n",
       "      <td>p2.8xlarge</td>\n",
       "      <td>0.7475</td>\n",
       "    </tr>\n",
       "    <tr>\n",
       "      <th>10</th>\n",
       "      <td>1</td>\n",
       "      <td>1</td>\n",
       "      <td>208.380967</td>\n",
       "      <td>4.285026</td>\n",
       "      <td>0.376638</td>\n",
       "      <td>35.057500</td>\n",
       "      <td>p2.8xlarge</td>\n",
       "      <td>0.7475</td>\n",
       "    </tr>\n",
       "  </tbody>\n",
       "</table>\n",
       "</div>"
      ],
      "text/plain": [
       "    num_gpus_per_replica  num_cpus_per_replica  mean_throughput_qps  \\\n",
       "0                      1                     1            83.878489   \n",
       "1                      1                     1           116.748684   \n",
       "2                      1                     1           147.635760   \n",
       "3                      1                     1           162.259959   \n",
       "5                      1                     1           174.538539   \n",
       "4                      1                     1           175.500178   \n",
       "6                      1                     1           181.054837   \n",
       "7                      1                     1           185.824708   \n",
       "8                      1                     1           186.851308   \n",
       "9                      1                     1           200.897287   \n",
       "10                     1                     1           208.380967   \n",
       "\n",
       "    std_throughput_qps  p99_latency_ms  mean_batch_size   inst_type    cost  \n",
       "0             0.038358        0.015101         1.000000  p2.8xlarge  0.7475  \n",
       "1             0.239319        0.030743         1.762531  p2.8xlarge  0.7475  \n",
       "2             0.375504        0.049795         3.345835  p2.8xlarge  0.7475  \n",
       "3             0.631628        0.065084         5.042519  p2.8xlarge  0.7475  \n",
       "5             0.880917        0.077491         6.451842  p2.8xlarge  0.7475  \n",
       "4             0.873927        0.077975         6.614454  p2.8xlarge  0.7475  \n",
       "6             0.997950        0.085482         7.198521  p2.8xlarge  0.7475  \n",
       "7             2.145355        0.127311        11.414000  p2.8xlarge  0.7475  \n",
       "8             1.559642        0.127728        11.452920  p2.8xlarge  0.7475  \n",
       "9             2.794113        0.251107        24.822222  p2.8xlarge  0.7475  \n",
       "10            4.285026        0.376638        35.057500  p2.8xlarge  0.7475  "
      ]
     },
     "execution_count": 10,
     "metadata": {},
     "output_type": "execute_result"
    }
   ],
   "source": [
    "\n",
    "single_model_profs[\"alexnet\"].sort_values(\"mean_throughput_qps\")"
   ]
  },
  {
   "cell_type": "code",
   "execution_count": null,
   "metadata": {},
   "outputs": [],
   "source": [
    "single_model_profs.keys()"
   ]
  },
  {
   "cell_type": "code",
   "execution_count": null,
   "metadata": {
    "collapsed": true
   },
   "outputs": [],
   "source": [
    "pipeline_three_df"
   ]
  },
  {
   "cell_type": "code",
   "execution_count": null,
   "metadata": {
    "collapsed": true
   },
   "outputs": [],
   "source": [
    "pipeline_three_df[\"cost\"].iloc[0]"
   ]
  },
  {
   "cell_type": "code",
   "execution_count": null,
   "metadata": {
    "collapsed": true
   },
   "outputs": [],
   "source": [
    "max(pipeline_three_df[\"cost\"])"
   ]
  },
  {
   "cell_type": "code",
   "execution_count": null,
   "metadata": {
    "collapsed": true
   },
   "outputs": [],
   "source": [
    "np.linspace(0.0, 5.4, 50)"
   ]
  },
  {
   "cell_type": "code",
   "execution_count": null,
   "metadata": {
    "collapsed": true
   },
   "outputs": [],
   "source": []
  }
 ],
 "metadata": {
  "kernelspec": {
   "display_name": "Python 3",
   "language": "python",
   "name": "python3"
  },
  "language_info": {
   "codemirror_mode": {
    "name": "ipython",
    "version": 3
   },
   "file_extension": ".py",
   "mimetype": "text/x-python",
   "name": "python",
   "nbconvert_exporter": "python",
   "pygments_lexer": "ipython3",
   "version": "3.6.2"
  }
 },
 "nbformat": 4,
 "nbformat_minor": 2
}
