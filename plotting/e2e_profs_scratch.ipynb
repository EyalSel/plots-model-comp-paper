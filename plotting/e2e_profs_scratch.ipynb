{
 "cells": [
  {
   "cell_type": "code",
   "execution_count": 1,
   "metadata": {},
   "outputs": [],
   "source": [
    "import json\n",
    "import os\n",
    "import sys\n",
    "import pandas as pd\n",
    "\n",
    "import matplotlib.pyplot as plt\n",
    "import seaborn as sns\n",
    "import numpy as np\n",
    "%load_ext autoreload\n",
    "\n",
    "%autoreload 2\n"
   ]
  },
  {
   "cell_type": "code",
   "execution_count": 2,
   "metadata": {
    "collapsed": true
   },
   "outputs": [],
   "source": [
    "import end_to_end_profiles as e2e\n",
    "import profiler\n",
    "import single_model_profiles as sm_profs"
   ]
  },
  {
   "cell_type": "code",
   "execution_count": 3,
   "metadata": {
    "scrolled": false
   },
   "outputs": [
    {
     "name": "stderr",
     "output_type": "stream",
     "text": [
      "/Users/crankshaw/miniconda2/envs/plots/lib/python3.6/site-packages/numpy/core/fromnumeric.py:2909: RuntimeWarning: Mean of empty slice.\n",
      "  out=out, **kwargs)\n",
      "/Users/crankshaw/miniconda2/envs/plots/lib/python3.6/site-packages/numpy/core/_methods.py:80: RuntimeWarning: invalid value encountered in double_scalars\n",
      "  ret = ret.dtype.type(ret / rcount)\n"
     ]
    },
    {
     "name": "stdout",
     "output_type": "stream",
     "text": [
      "Skipping max_thru_hand_tuned\n"
     ]
    }
   ],
   "source": [
    "pipeline_three_df = profiler.load_pipeline_three_systemx()"
   ]
  },
  {
   "cell_type": "code",
   "execution_count": null,
   "metadata": {
    "collapsed": true
   },
   "outputs": [],
   "source": [
    "pipeline_three_df"
   ]
  },
  {
   "cell_type": "code",
   "execution_count": null,
   "metadata": {
    "collapsed": true
   },
   "outputs": [],
   "source": [
    "pipeline_one_df = profiler.load_pipeline_one_systemx()"
   ]
  },
  {
   "cell_type": "code",
   "execution_count": null,
   "metadata": {
    "collapsed": true
   },
   "outputs": [],
   "source": [
    "def plot_pipeline_exp(pipeline):\n",
    "    plt.clf()\n",
    "    fig, (ax_thru, ax_lat) = plt.subplots(ncols=2, nrows=1, sharey=True)\n",
    "    fig.set_size_inches(12,5)\n",
    "    colors = sns.color_palette(\"deep\", n_colors=5)\n",
    "    i = 0\n",
    "    width = 0.1\n",
    "    delta = 0.03\n",
    "    for title, group in pipeline.groupby(\"name\"):\n",
    "        print(title)\n",
    "        if \"max\" not in title:\n",
    "            continue\n",
    "        if \"alexnet\" in title:\n",
    "            group = group.iloc[idxs_to_keep]\n",
    "        box = ax_lat.boxplot(x=group[\"latency\"], positions=group[\"cost\"] + i*(width + delta), widths=width, patch_artist=True,\n",
    "                            vert=False)\n",
    "        for patch in box[\"boxes\"]:\n",
    "            patch.set_facecolor(colors[i])\n",
    "        lat = group[\"estimated_latency\"].iloc[0]\n",
    "        cost_xs = np.arange(0.0, max(pipeline[\"cost\"]) + 0.8, 0.1)\n",
    "        lat_ys = lat * np.ones(len(cost_xs))\n",
    "        ax_lat.plot(lat_ys, cost_xs, '--', linewidth=2, color=colors[i])\n",
    "#         ax_thru.scatter(x=group[\"cost\"], y=group[\"mean_throughput\"], c=colors[i], marker=\"o\", label=title)\n",
    "#         ax_thru.scatter(x=group[\"cost\"], y=group[\"estimated_thru\"], c=colors[i], marker=\"^\", label=\"\")\n",
    "        g_sorted = group.sort_values(\"cost\")\n",
    "        ax_thru.plot(g_sorted[\"mean_throughput\"], g_sorted[\"cost\"], color=colors[i], linestyle=\"solid\", marker=\"o\", label=title)\n",
    "        ax_thru.plot(g_sorted[\"estimated_thru\"], g_sorted[\"cost\"], color=colors[i], linestyle=\"dashed\", label=\"\")\n",
    "\n",
    "        i += 1\n",
    "    ax_lat.set_xlabel(\"Latency (s)\")\n",
    "    ax_lat.set_ylim((1,max(pipeline[\"cost\"]) + 0.8))\n",
    "#     ax_thru.set_xlim((0,max(pipeline[\"cost\"]) + 0.8))\n",
    "\n",
    "    ax_lat.set_ylabel(\"Cost ($/hr)\")\n",
    "    ax_thru.set_xlabel(\"Throughput (queries/s)\")\n",
    "    ax_thru.set_ylabel(\"Cost ($/hr)\")\n",
    "    ax_thru.legend(loc=2)\n",
    "#     ax_lat.legend(loc=2)\n",
    "\n",
    "\n",
    "    plt.show()"
   ]
  },
  {
   "cell_type": "code",
   "execution_count": null,
   "metadata": {},
   "outputs": [],
   "source": [
    "plot_pipeline_exp(pipeline_three_df)"
   ]
  },
  {
   "cell_type": "code",
   "execution_count": null,
   "metadata": {
    "collapsed": true
   },
   "outputs": [],
   "source": [
    "pipeline_one_df"
   ]
  },
  {
   "cell_type": "code",
   "execution_count": null,
   "metadata": {
    "collapsed": true
   },
   "outputs": [],
   "source": [
    "pipeline_three_df"
   ]
  },
  {
   "cell_type": "code",
   "execution_count": null,
   "metadata": {},
   "outputs": [],
   "source": [
    "single_model_profs = sm_profs.load_single_model_profiles()"
   ]
  },
  {
   "cell_type": "code",
   "execution_count": null,
   "metadata": {
    "collapsed": true
   },
   "outputs": [],
   "source": [
    "\n",
    "single_model_profs[\"alexnet\"].sort_values(\"mean_throughput_qps\")"
   ]
  },
  {
   "cell_type": "code",
   "execution_count": null,
   "metadata": {
    "collapsed": true,
    "scrolled": true
   },
   "outputs": [],
   "source": [
    "single_model_profs[\"res50\"].sort_values(\"mean_throughput_qps\")"
   ]
  },
  {
   "cell_type": "code",
   "execution_count": null,
   "metadata": {},
   "outputs": [],
   "source": [
    "single_model_profs[\"res152\"].sort_values(\"mean_throughput_qps\")"
   ]
  },
  {
   "cell_type": "code",
   "execution_count": null,
   "metadata": {
    "collapsed": true
   },
   "outputs": [],
   "source": [
    "probs = {'alexnet': 1.0, 'res50': 0.8077178975382568, 'res152': 0.4318030605455755}"
   ]
  },
  {
   "cell_type": "code",
   "execution_count": null,
   "metadata": {
    "collapsed": true
   },
   "outputs": [],
   "source": [
    ".12+.13+.12"
   ]
  },
  {
   "cell_type": "code",
   "execution_count": null,
   "metadata": {
    "collapsed": true
   },
   "outputs": [],
   "source": [
    "best_thruput = 0\n",
    "bt_lat = 1000\n",
    "bt_idxs = {\"alex\": -1, \"res50\": -1, \"res152\": -1}\n",
    "bt_batches = {\"alex\": -1, \"res50\": -1, \"res152\": -1}\n",
    "\n",
    "slo = 0.5\n",
    "\n",
    "for ai, arow in single_model_profs[\"alexnet\"].iterrows():\n",
    "    for r50i, r50row in single_model_profs[\"res50\"].iterrows():\n",
    "        for r152i, r152row in single_model_profs[\"res152\"].iterrows():\n",
    "            total_latency = arow[\"p99_latency_ms\"] + r50row[\"p99_latency_ms\"] + r152row[\"p99_latency_ms\"]\n",
    "            thru = min(arow[\"mean_throughput_qps\"], r50row[\"mean_throughput_qps\"] / probs[\"res50\"], r152row[\"mean_throughput_qps\"] / probs[\"res152\"])\n",
    "            if thru > best_thruput and total_latency < slo:\n",
    "                best_thruput = thru\n",
    "                bt_lat = total_latency\n",
    "                bt_idxs = {\"alex\": ai, \"res50\": r50i, \"res152\": r152i}\n",
    "                bt_batches = {\"alex\": arow[\"mean_batch_size\"], \"res50\": r50row[\"mean_batch_size\"], \"res152\": r152row[\"mean_batch_size\"]}\n",
    "\n"
   ]
  },
  {
   "cell_type": "code",
   "execution_count": null,
   "metadata": {
    "collapsed": true,
    "scrolled": true
   },
   "outputs": [],
   "source": [
    "best_thruput"
   ]
  },
  {
   "cell_type": "code",
   "execution_count": null,
   "metadata": {
    "collapsed": true
   },
   "outputs": [],
   "source": [
    "bt_batches"
   ]
  },
  {
   "cell_type": "code",
   "execution_count": null,
   "metadata": {
    "collapsed": true
   },
   "outputs": [],
   "source": [
    "bt_lat"
   ]
  },
  {
   "cell_type": "code",
   "execution_count": null,
   "metadata": {},
   "outputs": [],
   "source": [
    "single_model_profs[\"res50\"].sort_values(\"mean_throughput_qps\")"
   ]
  },
  {
   "cell_type": "code",
   "execution_count": null,
   "metadata": {
    "collapsed": true
   },
   "outputs": [],
   "source": [
    "single_model_profs[\"tf-log-reg\"].sort_values(\"mean_throughput_qps\")"
   ]
  },
  {
   "cell_type": "code",
   "execution_count": null,
   "metadata": {},
   "outputs": [],
   "source": [
    "pipeline_three_df[pipeline_three_df[\"name\"] == \"alexnet_cpu_max_thru\"].sort_values(\"cost\").iloc[idxs_to_keep]"
   ]
  },
  {
   "cell_type": "code",
   "execution_count": null,
   "metadata": {
    "collapsed": true
   },
   "outputs": [],
   "source": [
    "idxs_to_keep = [7, 10, 13, 0, 1]"
   ]
  },
  {
   "cell_type": "code",
   "execution_count": 15,
   "metadata": {},
   "outputs": [],
   "source": [
    "import end_to_end_profiles as e2e\n",
    "\n",
    "pipeline_one_single_proc = e2e.load_pipeline_one_single_proc()\n"
   ]
  },
  {
   "cell_type": "code",
   "execution_count": 17,
   "metadata": {},
   "outputs": [
    {
     "data": {
      "text/html": [
       "<div>\n",
       "<style>\n",
       "    .dataframe thead tr:only-child th {\n",
       "        text-align: right;\n",
       "    }\n",
       "\n",
       "    .dataframe thead th {\n",
       "        text-align: left;\n",
       "    }\n",
       "\n",
       "    .dataframe tbody tr th {\n",
       "        vertical-align: top;\n",
       "    }\n",
       "</style>\n",
       "<table border=\"1\" class=\"dataframe\">\n",
       "  <thead>\n",
       "    <tr style=\"text-align: right;\">\n",
       "      <th></th>\n",
       "      <th>cost</th>\n",
       "      <th>mean_latency</th>\n",
       "      <th>mean_throughput</th>\n",
       "      <th>name</th>\n",
       "      <th>num_replicas</th>\n",
       "      <th>p99_latency</th>\n",
       "    </tr>\n",
       "  </thead>\n",
       "  <tbody>\n",
       "    <tr>\n",
       "      <th>0</th>\n",
       "      <td>1.59</td>\n",
       "      <td>1.234579</td>\n",
       "      <td>51.836714</td>\n",
       "      <td>max_thru</td>\n",
       "      <td>1</td>\n",
       "      <td>1.310346</td>\n",
       "    </tr>\n",
       "    <tr>\n",
       "      <th>1</th>\n",
       "      <td>3.18</td>\n",
       "      <td>1.245383</td>\n",
       "      <td>102.786399</td>\n",
       "      <td>max_thru</td>\n",
       "      <td>2</td>\n",
       "      <td>1.354510</td>\n",
       "    </tr>\n",
       "    <tr>\n",
       "      <th>2</th>\n",
       "      <td>4.77</td>\n",
       "      <td>1.237378</td>\n",
       "      <td>155.221108</td>\n",
       "      <td>max_thru</td>\n",
       "      <td>3</td>\n",
       "      <td>1.345724</td>\n",
       "    </tr>\n",
       "    <tr>\n",
       "      <th>3</th>\n",
       "      <td>6.36</td>\n",
       "      <td>1.249625</td>\n",
       "      <td>204.898440</td>\n",
       "      <td>max_thru</td>\n",
       "      <td>4</td>\n",
       "      <td>1.367540</td>\n",
       "    </tr>\n",
       "    <tr>\n",
       "      <th>0</th>\n",
       "      <td>1.59</td>\n",
       "      <td>0.090452</td>\n",
       "      <td>11.048699</td>\n",
       "      <td>min_lat</td>\n",
       "      <td>1</td>\n",
       "      <td>0.100457</td>\n",
       "    </tr>\n",
       "    <tr>\n",
       "      <th>1</th>\n",
       "      <td>3.18</td>\n",
       "      <td>0.096901</td>\n",
       "      <td>20.635533</td>\n",
       "      <td>min_lat</td>\n",
       "      <td>2</td>\n",
       "      <td>0.107596</td>\n",
       "    </tr>\n",
       "    <tr>\n",
       "      <th>2</th>\n",
       "      <td>4.77</td>\n",
       "      <td>0.096239</td>\n",
       "      <td>31.158461</td>\n",
       "      <td>min_lat</td>\n",
       "      <td>3</td>\n",
       "      <td>0.108436</td>\n",
       "    </tr>\n",
       "    <tr>\n",
       "      <th>3</th>\n",
       "      <td>6.36</td>\n",
       "      <td>0.099542</td>\n",
       "      <td>40.162823</td>\n",
       "      <td>min_lat</td>\n",
       "      <td>4</td>\n",
       "      <td>0.113352</td>\n",
       "    </tr>\n",
       "  </tbody>\n",
       "</table>\n",
       "</div>"
      ],
      "text/plain": [
       "   cost  mean_latency  mean_throughput      name  num_replicas  p99_latency\n",
       "0  1.59      1.234579        51.836714  max_thru             1     1.310346\n",
       "1  3.18      1.245383       102.786399  max_thru             2     1.354510\n",
       "2  4.77      1.237378       155.221108  max_thru             3     1.345724\n",
       "3  6.36      1.249625       204.898440  max_thru             4     1.367540\n",
       "0  1.59      0.090452        11.048699   min_lat             1     0.100457\n",
       "1  3.18      0.096901        20.635533   min_lat             2     0.107596\n",
       "2  4.77      0.096239        31.158461   min_lat             3     0.108436\n",
       "3  6.36      0.099542        40.162823   min_lat             4     0.113352"
      ]
     },
     "execution_count": 17,
     "metadata": {},
     "output_type": "execute_result"
    }
   ],
   "source": [
    "pipeline_one_single_proc"
   ]
  },
  {
   "cell_type": "code",
   "execution_count": null,
   "metadata": {
    "collapsed": true
   },
   "outputs": [],
   "source": []
  }
 ],
 "metadata": {
  "kernelspec": {
   "display_name": "Python 3",
   "language": "python",
   "name": "python3"
  },
  "language_info": {
   "codemirror_mode": {
    "name": "ipython",
    "version": 3
   },
   "file_extension": ".py",
   "mimetype": "text/x-python",
   "name": "python",
   "nbconvert_exporter": "python",
   "pygments_lexer": "ipython3",
   "version": "3.6.2"
  }
 },
 "nbformat": 4,
 "nbformat_minor": 2
}
