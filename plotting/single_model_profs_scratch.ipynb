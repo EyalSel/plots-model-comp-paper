{
 "cells": [
  {
   "cell_type": "code",
   "execution_count": 5,
   "metadata": {},
   "outputs": [
    {
     "name": "stdout",
     "output_type": "stream",
     "text": [
      "The autoreload extension is already loaded. To reload it, use:\n",
      "  %reload_ext autoreload\n"
     ]
    }
   ],
   "source": [
    "import json\n",
    "import os\n",
    "import sys\n",
    "\n",
    "import matplotlib.pyplot as plt\n",
    "import seaborn as sns\n",
    "%load_ext autoreload\n",
    "\n",
    "%autoreload 2\n"
   ]
  },
  {
   "cell_type": "code",
   "execution_count": 10,
   "metadata": {},
   "outputs": [],
   "source": [
    "import profiler"
   ]
  },
  {
   "cell_type": "code",
   "execution_count": 11,
   "metadata": {},
   "outputs": [
    {
     "name": "stdout",
     "output_type": "stream",
     "text": [
      ".DS_Store\n",
      "kernel-svm-var-size\n",
      "pytorch-alexnet\n",
      "pytorch-res152\n",
      "pytorch-res50\n",
      "tf_inception\n",
      "tf_kernel_svm\n",
      "tf_log_reg\n",
      "tf_nmt\n",
      "tf_res152\n"
     ]
    }
   ],
   "source": [
    "# def load_profs(single_model_profs_dir=os.path.abspath(\"../results/single_model_profs/\")):\n",
    "#     profs = {}\n",
    "#     for m in os.listdir(single_model_profs_dir):\n",
    "#         print(m)\n",
    "#         fname = os.path.join(single_model_profs_dir, m)\n",
    "#         if os.path.isdir(fname):\n",
    "#             profs[m] = profiler.load_profs(fname)\n",
    "#     return profs\n",
    "    \n",
    "        \n",
    "p = profiler.load_profs()"
   ]
  },
  {
   "cell_type": "code",
   "execution_count": 12,
   "metadata": {},
   "outputs": [
    {
     "data": {
      "text/plain": [
       "dict_keys(['kernel-svm-var-size', 'pytorch-alexnet', 'pytorch-res152', 'pytorch-res50', 'tf_inception', 'tf_kernel_svm', 'tf_log_reg', 'tf_nmt', 'tf_res152'])"
      ]
     },
     "execution_count": 12,
     "metadata": {},
     "output_type": "execute_result"
    }
   ],
   "source": [
    "p.keys()"
   ]
  },
  {
   "cell_type": "code",
   "execution_count": 17,
   "metadata": {},
   "outputs": [
    {
     "data": {
      "text/plain": [
       "Index(['num_gpus_per_replica', 'num_cpus_per_replica', 'mean_throughput_qps',\n",
       "       'std_throughput_qps', 'p99_latency_ms', 'mean_batch_size', 'inst_type',\n",
       "       'cost'],\n",
       "      dtype='object')"
      ]
     },
     "execution_count": 17,
     "metadata": {},
     "output_type": "execute_result"
    }
   ],
   "source": [
    "test_df = p[\"pytorch-res152\"]\n",
    "test_df.keys()"
   ]
  },
  {
   "cell_type": "code",
   "execution_count": 18,
   "metadata": {},
   "outputs": [
    {
     "data": {
      "text/html": [
       "<div>\n",
       "<style>\n",
       "    .dataframe thead tr:only-child th {\n",
       "        text-align: right;\n",
       "    }\n",
       "\n",
       "    .dataframe thead th {\n",
       "        text-align: left;\n",
       "    }\n",
       "\n",
       "    .dataframe tbody tr th {\n",
       "        vertical-align: top;\n",
       "    }\n",
       "</style>\n",
       "<table border=\"1\" class=\"dataframe\">\n",
       "  <thead>\n",
       "    <tr style=\"text-align: right;\">\n",
       "      <th></th>\n",
       "      <th>num_gpus_per_replica</th>\n",
       "      <th>num_cpus_per_replica</th>\n",
       "      <th>mean_throughput_qps</th>\n",
       "      <th>std_throughput_qps</th>\n",
       "      <th>p99_latency_ms</th>\n",
       "      <th>mean_batch_size</th>\n",
       "      <th>inst_type</th>\n",
       "      <th>cost</th>\n",
       "    </tr>\n",
       "  </thead>\n",
       "  <tbody>\n",
       "    <tr>\n",
       "      <th>0</th>\n",
       "      <td>1</td>\n",
       "      <td>1</td>\n",
       "      <td>22.001710</td>\n",
       "      <td>6.141672</td>\n",
       "      <td>50.495267</td>\n",
       "      <td>1.0</td>\n",
       "      <td>p2.8xlarge</td>\n",
       "      <td>0.7475</td>\n",
       "    </tr>\n",
       "    <tr>\n",
       "      <th>1</th>\n",
       "      <td>1</td>\n",
       "      <td>1</td>\n",
       "      <td>27.669048</td>\n",
       "      <td>0.117231</td>\n",
       "      <td>73.503357</td>\n",
       "      <td>2.0</td>\n",
       "      <td>p2.8xlarge</td>\n",
       "      <td>0.7475</td>\n",
       "    </tr>\n",
       "    <tr>\n",
       "      <th>2</th>\n",
       "      <td>1</td>\n",
       "      <td>1</td>\n",
       "      <td>37.065535</td>\n",
       "      <td>2.137875</td>\n",
       "      <td>110.884357</td>\n",
       "      <td>4.0</td>\n",
       "      <td>p2.8xlarge</td>\n",
       "      <td>0.7475</td>\n",
       "    </tr>\n",
       "    <tr>\n",
       "      <th>3</th>\n",
       "      <td>1</td>\n",
       "      <td>1</td>\n",
       "      <td>41.035178</td>\n",
       "      <td>1.106393</td>\n",
       "      <td>148.985786</td>\n",
       "      <td>6.0</td>\n",
       "      <td>p2.8xlarge</td>\n",
       "      <td>0.7475</td>\n",
       "    </tr>\n",
       "    <tr>\n",
       "      <th>4</th>\n",
       "      <td>1</td>\n",
       "      <td>1</td>\n",
       "      <td>40.155064</td>\n",
       "      <td>0.120938</td>\n",
       "      <td>201.626929</td>\n",
       "      <td>8.0</td>\n",
       "      <td>p2.8xlarge</td>\n",
       "      <td>0.7475</td>\n",
       "    </tr>\n",
       "    <tr>\n",
       "      <th>5</th>\n",
       "      <td>1</td>\n",
       "      <td>1</td>\n",
       "      <td>41.725808</td>\n",
       "      <td>0.237829</td>\n",
       "      <td>243.186929</td>\n",
       "      <td>10.0</td>\n",
       "      <td>p2.8xlarge</td>\n",
       "      <td>0.7475</td>\n",
       "    </tr>\n",
       "    <tr>\n",
       "      <th>6</th>\n",
       "      <td>1</td>\n",
       "      <td>1</td>\n",
       "      <td>42.883726</td>\n",
       "      <td>0.234555</td>\n",
       "      <td>284.257571</td>\n",
       "      <td>12.0</td>\n",
       "      <td>p2.8xlarge</td>\n",
       "      <td>0.7475</td>\n",
       "    </tr>\n",
       "    <tr>\n",
       "      <th>7</th>\n",
       "      <td>1</td>\n",
       "      <td>1</td>\n",
       "      <td>45.481300</td>\n",
       "      <td>0.161658</td>\n",
       "      <td>361.416429</td>\n",
       "      <td>16.0</td>\n",
       "      <td>p2.8xlarge</td>\n",
       "      <td>0.7475</td>\n",
       "    </tr>\n",
       "    <tr>\n",
       "      <th>8</th>\n",
       "      <td>1</td>\n",
       "      <td>1</td>\n",
       "      <td>43.103286</td>\n",
       "      <td>0.094911</td>\n",
       "      <td>470.806857</td>\n",
       "      <td>20.0</td>\n",
       "      <td>p2.8xlarge</td>\n",
       "      <td>0.7475</td>\n",
       "    </tr>\n",
       "    <tr>\n",
       "      <th>9</th>\n",
       "      <td>1</td>\n",
       "      <td>1</td>\n",
       "      <td>43.881553</td>\n",
       "      <td>0.145773</td>\n",
       "      <td>554.848929</td>\n",
       "      <td>24.0</td>\n",
       "      <td>p2.8xlarge</td>\n",
       "      <td>0.7475</td>\n",
       "    </tr>\n",
       "    <tr>\n",
       "      <th>10</th>\n",
       "      <td>1</td>\n",
       "      <td>1</td>\n",
       "      <td>47.539694</td>\n",
       "      <td>0.179784</td>\n",
       "      <td>638.346643</td>\n",
       "      <td>30.0</td>\n",
       "      <td>p2.8xlarge</td>\n",
       "      <td>0.7475</td>\n",
       "    </tr>\n",
       "    <tr>\n",
       "      <th>11</th>\n",
       "      <td>1</td>\n",
       "      <td>1</td>\n",
       "      <td>49.833346</td>\n",
       "      <td>0.167700</td>\n",
       "      <td>970.535000</td>\n",
       "      <td>48.0</td>\n",
       "      <td>p2.8xlarge</td>\n",
       "      <td>0.7475</td>\n",
       "    </tr>\n",
       "  </tbody>\n",
       "</table>\n",
       "</div>"
      ],
      "text/plain": [
       "    num_gpus_per_replica  num_cpus_per_replica  mean_throughput_qps  \\\n",
       "0                      1                     1            22.001710   \n",
       "1                      1                     1            27.669048   \n",
       "2                      1                     1            37.065535   \n",
       "3                      1                     1            41.035178   \n",
       "4                      1                     1            40.155064   \n",
       "5                      1                     1            41.725808   \n",
       "6                      1                     1            42.883726   \n",
       "7                      1                     1            45.481300   \n",
       "8                      1                     1            43.103286   \n",
       "9                      1                     1            43.881553   \n",
       "10                     1                     1            47.539694   \n",
       "11                     1                     1            49.833346   \n",
       "\n",
       "    std_throughput_qps  p99_latency_ms  mean_batch_size   inst_type    cost  \n",
       "0             6.141672       50.495267              1.0  p2.8xlarge  0.7475  \n",
       "1             0.117231       73.503357              2.0  p2.8xlarge  0.7475  \n",
       "2             2.137875      110.884357              4.0  p2.8xlarge  0.7475  \n",
       "3             1.106393      148.985786              6.0  p2.8xlarge  0.7475  \n",
       "4             0.120938      201.626929              8.0  p2.8xlarge  0.7475  \n",
       "5             0.237829      243.186929             10.0  p2.8xlarge  0.7475  \n",
       "6             0.234555      284.257571             12.0  p2.8xlarge  0.7475  \n",
       "7             0.161658      361.416429             16.0  p2.8xlarge  0.7475  \n",
       "8             0.094911      470.806857             20.0  p2.8xlarge  0.7475  \n",
       "9             0.145773      554.848929             24.0  p2.8xlarge  0.7475  \n",
       "10            0.179784      638.346643             30.0  p2.8xlarge  0.7475  \n",
       "11            0.167700      970.535000             48.0  p2.8xlarge  0.7475  "
      ]
     },
     "execution_count": 18,
     "metadata": {},
     "output_type": "execute_result"
    }
   ],
   "source": [
    "test_df"
   ]
  },
  {
   "cell_type": "code",
   "execution_count": 21,
   "metadata": {},
   "outputs": [],
   "source": [
    "gpus = 1\n",
    "cpus = 1\n",
    "batch_size = 24.0\n",
    "result = test_df[(test_df.num_gpus_per_replica == gpus) \n",
    "        & (test_df.num_cpus_per_replica == cpus)\n",
    "        & (test_df.mean_batch_size < (batch_size + 0.5))\n",
    "        & (test_df.mean_batch_size > (batch_size - 0.5))\n",
    "       ]"
   ]
  },
  {
   "cell_type": "code",
   "execution_count": 52,
   "metadata": {},
   "outputs": [
    {
     "data": {
      "text/html": [
       "<div>\n",
       "<style>\n",
       "    .dataframe thead tr:only-child th {\n",
       "        text-align: right;\n",
       "    }\n",
       "\n",
       "    .dataframe thead th {\n",
       "        text-align: left;\n",
       "    }\n",
       "\n",
       "    .dataframe tbody tr th {\n",
       "        vertical-align: top;\n",
       "    }\n",
       "</style>\n",
       "<table border=\"1\" class=\"dataframe\">\n",
       "  <thead>\n",
       "    <tr style=\"text-align: right;\">\n",
       "      <th></th>\n",
       "      <th>num_gpus_per_replica</th>\n",
       "      <th>num_cpus_per_replica</th>\n",
       "      <th>mean_throughput_qps</th>\n",
       "      <th>std_throughput_qps</th>\n",
       "      <th>p99_latency_ms</th>\n",
       "      <th>mean_batch_size</th>\n",
       "      <th>inst_type</th>\n",
       "      <th>cost</th>\n",
       "    </tr>\n",
       "  </thead>\n",
       "  <tbody>\n",
       "    <tr>\n",
       "      <th>9</th>\n",
       "      <td>1</td>\n",
       "      <td>1</td>\n",
       "      <td>43.881553</td>\n",
       "      <td>0.145773</td>\n",
       "      <td>554.848929</td>\n",
       "      <td>24.0</td>\n",
       "      <td>p2.8xlarge</td>\n",
       "      <td>0.7475</td>\n",
       "    </tr>\n",
       "  </tbody>\n",
       "</table>\n",
       "</div>"
      ],
      "text/plain": [
       "   num_gpus_per_replica  num_cpus_per_replica  mean_throughput_qps  \\\n",
       "9                     1                     1            43.881553   \n",
       "\n",
       "   std_throughput_qps  p99_latency_ms  mean_batch_size   inst_type    cost  \n",
       "9            0.145773      554.848929             24.0  p2.8xlarge  0.7475  "
      ]
     },
     "execution_count": 52,
     "metadata": {},
     "output_type": "execute_result"
    }
   ],
   "source": [
    "result"
   ]
  },
  {
   "cell_type": "code",
   "execution_count": null,
   "metadata": {},
   "outputs": [],
   "source": [
    "for r in test_df:\n",
    "    print(r)"
   ]
  },
  {
   "cell_type": "code",
   "execution_count": null,
   "metadata": {
    "collapsed": true
   },
   "outputs": [],
   "source": []
  }
 ],
 "metadata": {
  "kernelspec": {
   "display_name": "Python 3",
   "language": "python",
   "name": "python3"
  },
  "language_info": {
   "codemirror_mode": {
    "name": "ipython",
    "version": 3
   },
   "file_extension": ".py",
   "mimetype": "text/x-python",
   "name": "python",
   "nbconvert_exporter": "python",
   "pygments_lexer": "ipython3",
   "version": "3.6.2"
  }
 },
 "nbformat": 4,
 "nbformat_minor": 2
}
