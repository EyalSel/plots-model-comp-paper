{
 "cells": [
  {
   "cell_type": "markdown",
   "metadata": {},
   "source": [
    "## Load Single Model Profiles"
   ]
  },
  {
   "cell_type": "code",
   "execution_count": 1,
   "metadata": {
    "collapsed": true
   },
   "outputs": [],
   "source": [
    "from single_model_profiles import create_model_profile_df as create_df"
   ]
  },
  {
   "cell_type": "code",
   "execution_count": 2,
   "metadata": {
    "collapsed": true
   },
   "outputs": [],
   "source": [
    "nmt_relative_path = \"../results/single_model_profs/tf-nmt\"\n",
    "lstm_relative_path = \"../results/single_model_profs/tf-lstm\"\n",
    "lang_detect_relative_path = \"../results/single_model_profs/tf-lang-detect\""
   ]
  },
  {
   "cell_type": "code",
   "execution_count": 3,
   "metadata": {
    "collapsed": true
   },
   "outputs": [],
   "source": [
    "nmt_df = create_df(nmt_relative_path)[1]\n",
    "lstm_df = create_df(lstm_relative_path)[1]\n",
    "lang_detect_df = create_df(lang_detect_relative_path)[1]"
   ]
  },
  {
   "cell_type": "code",
   "execution_count": 4,
   "metadata": {
    "collapsed": true
   },
   "outputs": [],
   "source": [
    "import pandas as pd\n",
    "import numpy as np\n",
    "import sys\n",
    "import os\n",
    "import math"
   ]
  },
  {
   "cell_type": "markdown",
   "metadata": {},
   "source": [
    "## Find Optimal Batch Sizes"
   ]
  },
  {
   "cell_type": "code",
   "execution_count": 5,
   "metadata": {
    "collapsed": true
   },
   "outputs": [],
   "source": [
    "def config_value(cost, throughput):\n",
    "    return float(throughput) / float(cost)"
   ]
  },
  {
   "cell_type": "code",
   "execution_count": 6,
   "metadata": {},
   "outputs": [
    {
     "data": {
      "text/plain": [
       "(30.865079365079364, 83.101411326813789, 1.13408453)"
      ]
     },
     "execution_count": 6,
     "metadata": {},
     "output_type": "execute_result"
    }
   ],
   "source": [
    "def find_optimal_batch_config(df, slo=None, rf=1):\n",
    "    slim_df = df[[\"mean_batch_size\", \"mean_throughput_qps\", \"cost\", \"p99_latency\"]]\n",
    "    best_config = None\n",
    "    best_value = 0\n",
    "    for idx, row in slim_df.iterrows():\n",
    "        batch_size = row[\"mean_batch_size\"]\n",
    "        throughput = row[\"mean_throughput_qps\"]\n",
    "        adjusted_throughput = throughput / float(rf)\n",
    "        cost = row[\"cost\"]\n",
    "        latency = row[\"p99_latency\"]\n",
    "        value = config_value(cost, adjusted_throughput)\n",
    "        if value > best_value and ((slo == None) or (latency <= slo)):\n",
    "            best_config = (batch_size, adjusted_throughput, latency)\n",
    "            best_value = value\n",
    "        \n",
    "    return best_config\n",
    "    \n",
    "find_optimal_batch_config(lang_detect_df, slo=None)"
   ]
  },
  {
   "cell_type": "code",
   "execution_count": 7,
   "metadata": {
    "collapsed": true
   },
   "outputs": [],
   "source": [
    "nmt_config = find_optimal_batch_config(nmt_df)\n",
    "lstm_config = find_optimal_batch_config(lstm_df)\n",
    "lang_detect_config = find_optimal_batch_config(lang_detect_df)"
   ]
  },
  {
   "cell_type": "markdown",
   "metadata": {},
   "source": [
    "## Enumerate Pipeline Configurations"
   ]
  },
  {
   "cell_type": "code",
   "execution_count": 8,
   "metadata": {
    "collapsed": true
   },
   "outputs": [],
   "source": [
    "def get_configs(branches, slo=None):\n",
    "    all_configs = {}\n",
    "    for branch in branches:\n",
    "        branch_configs = branch_helper(branch, slo_budget=slo)\n",
    "        if not branch_configs:\n",
    "            break\n",
    "        for config in branch_configs:\n",
    "            all_configs = all_configs.copy()\n",
    "            all_configs.update(config)\n",
    "        \n",
    "    return all_configs\n",
    "                    \n",
    "def branch_helper(branch, slo_budget):\n",
    "    branch = list(branch)\n",
    "    model_name, model_df, model_rf = branch.pop(0)\n",
    "    if len(branch) == 0:\n",
    "        optimal_config = find_optimal_batch_config(model_df, slo=slo_budget, rf=model_rf)\n",
    "        if not optimal_config:\n",
    "            return None\n",
    "        else:\n",
    "            return [{model_name : optimal_config}]\n",
    "    else:\n",
    "        while True:\n",
    "            optimal_config = find_optimal_batch_config(model_df, slo=slo_budget, rf=model_rf)\n",
    "            if not optimal_config:\n",
    "                return None\n",
    "            else:\n",
    "                batch_size, throughput, latency = optimal_config\n",
    "                if slo_budget:\n",
    "                    new_budget = slo_budget - latency\n",
    "                else:\n",
    "                    new_budget = slo_budget\n",
    "                next_configs = branch_helper(branch, new_budget)\n",
    "                if next_configs:\n",
    "                    return [{model_name : optimal_config}] + next_configs\n",
    "                else:\n",
    "                    # Configuration was bad, try another\n",
    "                    model_df = model_df[model_df.mean_batch_size != batch_size]  \n",
    "                    \n",
    "def get_min_lat_configs(branches):\n",
    "    all_models = []\n",
    "    for branch in branches:\n",
    "        all_models = all_models + branch\n",
    "        \n",
    "    all_configs = {}\n",
    "    while len(all_models) > 0:\n",
    "        model_name, model_df, model_rf = all_models.pop()\n",
    "        min_df = model_df[model_df.mean_batch_size == 1.0]\n",
    "        min_df = min_df[[\"mean_throughput_qps\", \"p99_latency\"]]\n",
    "        for idx, row in min_df.iterrows():\n",
    "            throughput = row[\"mean_throughput_qps\"]\n",
    "            adjusted_throughput = float(throughput) / model_rf\n",
    "            latency = row[\"p99_latency\"]\n",
    "            all_configs[model_name] = (1.0, adjusted_throughput, latency)\n",
    "            break\n",
    "        \n",
    "    return all_configs\n",
    "        "
   ]
  },
  {
   "cell_type": "code",
   "execution_count": 9,
   "metadata": {
    "collapsed": true
   },
   "outputs": [],
   "source": [
    "branch = [(\"tf-lang-detect\", lang_detect_df, 1.0), (\"tf-nmt\", nmt_df, .16), (\"tf-lstm\", lstm_df, .47)]\n",
    "branches = [branch]"
   ]
  },
  {
   "cell_type": "code",
   "execution_count": 10,
   "metadata": {
    "collapsed": true
   },
   "outputs": [],
   "source": [
    "all_configs = get_configs(branches, slo=None)"
   ]
  },
  {
   "cell_type": "markdown",
   "metadata": {},
   "source": [
    "## Determine Replication Strategy"
   ]
  },
  {
   "cell_type": "code",
   "execution_count": 11,
   "metadata": {
    "collapsed": true
   },
   "outputs": [],
   "source": [
    "def get_replications(gpu_configs, cpu_configs, num_gpus=8):\n",
    "    \n",
    "    def get_bottleneck_model(reps, configs):\n",
    "        bottleneck_model_name = None\n",
    "        bottleneck_throughput = None\n",
    "        for model_name, config in configs.iteritems():\n",
    "            _, model_throughput, _ = config\n",
    "            total_throughput = reps[model_name] * model_throughput\n",
    "            if not bottleneck_throughput or total_throughput < bottleneck_throughput:\n",
    "                bottleneck_model_name = model_name\n",
    "                bottleneck_throughput = total_throughput\n",
    "                \n",
    "        return bottleneck_model_name, bottleneck_throughput\n",
    "        \n",
    "    \n",
    "    all_configs = gpu_configs.copy()\n",
    "    all_configs.update(cpu_configs)\n",
    "    \n",
    "    curr_reps = {}\n",
    "    for model_name, _ in all_configs.iteritems():\n",
    "        curr_reps[model_name] = 1\n",
    "        if model_name in gpu_configs:\n",
    "            num_gpus -= 1\n",
    "        \n",
    "    all_reps = []\n",
    "        \n",
    "    while True:\n",
    "        bottleneck_model_name, bottleneck_throughput = get_bottleneck_model(curr_reps, all_configs)\n",
    "        if bottleneck_model_name in gpu_configs:\n",
    "            if num_gpus == 0:\n",
    "                break\n",
    "            else:\n",
    "                num_gpus -= 1\n",
    "                \n",
    "        all_reps.append((curr_reps.copy(), bottleneck_throughput))\n",
    "        curr_reps[bottleneck_model_name] = curr_reps[bottleneck_model_name] + 1\n",
    "        \n",
    "    all_reps.append((curr_reps.copy(), bottleneck_throughput))\n",
    "    \n",
    "    return all_reps"
   ]
  },
  {
   "cell_type": "code",
   "execution_count": 12,
   "metadata": {},
   "outputs": [
    {
     "data": {
      "text/plain": [
       "{'tf-lang-detect': (30.865079365079364, 83.101411326813789, 1.13408453),\n",
       " 'tf-lstm': (20.891666666666666, 2401.5572094085601, 0.086221379999999986),\n",
       " 'tf-nmt': (63.277777777777779, 111.38132710082968, 10.8846778)}"
      ]
     },
     "execution_count": 12,
     "metadata": {},
     "output_type": "execute_result"
    }
   ],
   "source": [
    "all_configs "
   ]
  },
  {
   "cell_type": "code",
   "execution_count": 13,
   "metadata": {
    "collapsed": true
   },
   "outputs": [],
   "source": [
    "gpu_configs = {k: all_configs[k] for k in ('tf-nmt',)}\n",
    "cpu_configs = {k: all_configs[k] for k in ('tf-lstm', 'tf-lang-detect')}"
   ]
  },
  {
   "cell_type": "code",
   "execution_count": 14,
   "metadata": {
    "scrolled": true
   },
   "outputs": [
    {
     "data": {
      "text/plain": [
       "[({'tf-lang-detect': 1, 'tf-lstm': 1, 'tf-nmt': 1}, 83.101411326813789),\n",
       " ({'tf-lang-detect': 2, 'tf-lstm': 1, 'tf-nmt': 1}, 111.38132710082968),\n",
       " ({'tf-lang-detect': 2, 'tf-lstm': 1, 'tf-nmt': 2}, 166.20282265362758),\n",
       " ({'tf-lang-detect': 3, 'tf-lstm': 1, 'tf-nmt': 2}, 222.76265420165936),\n",
       " ({'tf-lang-detect': 3, 'tf-lstm': 1, 'tf-nmt': 3}, 249.30423398044138),\n",
       " ({'tf-lang-detect': 4, 'tf-lstm': 1, 'tf-nmt': 3}, 332.40564530725516),\n",
       " ({'tf-lang-detect': 5, 'tf-lstm': 1, 'tf-nmt': 3}, 334.14398130248901),\n",
       " ({'tf-lang-detect': 5, 'tf-lstm': 1, 'tf-nmt': 4}, 415.50705663406893),\n",
       " ({'tf-lang-detect': 6, 'tf-lstm': 1, 'tf-nmt': 4}, 445.52530840331872),\n",
       " ({'tf-lang-detect': 6, 'tf-lstm': 1, 'tf-nmt': 5}, 498.60846796088276),\n",
       " ({'tf-lang-detect': 7, 'tf-lstm': 1, 'tf-nmt': 5}, 556.90663550414843),\n",
       " ({'tf-lang-detect': 7, 'tf-lstm': 1, 'tf-nmt': 6}, 581.70987928769648),\n",
       " ({'tf-lang-detect': 8, 'tf-lstm': 1, 'tf-nmt': 6}, 664.81129061451031),\n",
       " ({'tf-lang-detect': 9, 'tf-lstm': 1, 'tf-nmt': 6}, 668.28796260497802),\n",
       " ({'tf-lang-detect': 9, 'tf-lstm': 1, 'tf-nmt': 7}, 747.91270194132414),\n",
       " ({'tf-lang-detect': 10, 'tf-lstm': 1, 'tf-nmt': 7}, 779.66928970580773),\n",
       " ({'tf-lang-detect': 10, 'tf-lstm': 1, 'tf-nmt': 8}, 831.01411326813786),\n",
       " ({'tf-lang-detect': 11, 'tf-lstm': 1, 'tf-nmt': 8}, 891.05061680663744)]"
      ]
     },
     "execution_count": 14,
     "metadata": {},
     "output_type": "execute_result"
    }
   ],
   "source": [
    "get_replications(gpu_configs=gpu_configs, cpu_configs=cpu_configs, num_gpus=8)"
   ]
  },
  {
   "cell_type": "markdown",
   "metadata": {},
   "source": [
    "## Replications and expected throughputs for varying SLOs"
   ]
  },
  {
   "cell_type": "markdown",
   "metadata": {},
   "source": [
    "### 3000ms"
   ]
  },
  {
   "cell_type": "code",
   "execution_count": 15,
   "metadata": {
    "collapsed": true
   },
   "outputs": [],
   "source": [
    "three_second_configs = get_configs(list(branches), slo=3.0)\n",
    "three_second_gpu_configs = {k: three_second_configs[k] for k in ('tf-nmt',)}\n",
    "three_second_cpu_configs = {k: three_second_configs[k] for k in ('tf-lstm', 'tf-lang-detect')}\n",
    "three_second_reps = get_replications(gpu_configs=three_second_gpu_configs, cpu_configs=three_second_cpu_configs, num_gpus=8)"
   ]
  },
  {
   "cell_type": "code",
   "execution_count": 16,
   "metadata": {},
   "outputs": [
    {
     "data": {
      "text/plain": [
       "[({'tf-lang-detect': 1, 'tf-lstm': 1, 'tf-nmt': 1}, 58.771198056514137),\n",
       " ({'tf-lang-detect': 1, 'tf-lstm': 1, 'tf-nmt': 2}, 81.88608307158475),\n",
       " ({'tf-lang-detect': 2, 'tf-lstm': 1, 'tf-nmt': 2}, 117.54239611302827),\n",
       " ({'tf-lang-detect': 2, 'tf-lstm': 1, 'tf-nmt': 3}, 163.7721661431695),\n",
       " ({'tf-lang-detect': 3, 'tf-lstm': 1, 'tf-nmt': 3}, 176.3135941695424),\n",
       " ({'tf-lang-detect': 3, 'tf-lstm': 1, 'tf-nmt': 4}, 235.08479222605655),\n",
       " ({'tf-lang-detect': 3, 'tf-lstm': 1, 'tf-nmt': 5}, 245.65824921475425),\n",
       " ({'tf-lang-detect': 4, 'tf-lstm': 1, 'tf-nmt': 5}, 293.8559902825707),\n",
       " ({'tf-lang-detect': 4, 'tf-lstm': 1, 'tf-nmt': 6}, 327.544332286339),\n",
       " ({'tf-lang-detect': 5, 'tf-lstm': 1, 'tf-nmt': 6}, 352.6271883390848),\n",
       " ({'tf-lang-detect': 5, 'tf-lstm': 1, 'tf-nmt': 7}, 409.43041535792372),\n",
       " ({'tf-lang-detect': 6, 'tf-lstm': 1, 'tf-nmt': 7}, 411.39838639559895),\n",
       " ({'tf-lang-detect': 6, 'tf-lstm': 1, 'tf-nmt': 8}, 470.1695844521131)]"
      ]
     },
     "execution_count": 16,
     "metadata": {},
     "output_type": "execute_result"
    }
   ],
   "source": [
    "three_second_reps"
   ]
  },
  {
   "cell_type": "markdown",
   "metadata": {},
   "source": [
    "### 5000ms"
   ]
  },
  {
   "cell_type": "code",
   "execution_count": 85,
   "metadata": {
    "collapsed": true
   },
   "outputs": [],
   "source": [
    "five_second_configs = get_configs(list(branches), slo=5.0)\n",
    "five_second_gpu_configs = {k: five_second_configs[k] for k in ('tf-nmt',)}\n",
    "five_second_cpu_configs = {k: five_second_configs[k] for k in ('tf-lstm', 'tf-lang-detect')}\n",
    "five_second_reps = get_replications(gpu_configs=five_second_gpu_configs, cpu_configs=five_second_cpu_configs, num_gpus=8)"
   ]
  },
  {
   "cell_type": "code",
   "execution_count": 86,
   "metadata": {},
   "outputs": [
    {
     "data": {
      "text/plain": [
       "[({'tf-lang-detect': 1, 'tf-lstm': 1, 'tf-nmt': 1}, 77.806702553642637),\n",
       " ({'tf-lang-detect': 1, 'tf-lstm': 1, 'tf-nmt': 2}, 83.101411326813789),\n",
       " ({'tf-lang-detect': 2, 'tf-lstm': 1, 'tf-nmt': 2}, 155.61340510728527),\n",
       " ({'tf-lang-detect': 2, 'tf-lstm': 1, 'tf-nmt': 3}, 166.20282265362758),\n",
       " ({'tf-lang-detect': 3, 'tf-lstm': 1, 'tf-nmt': 3}, 233.4201076609279),\n",
       " ({'tf-lang-detect': 3, 'tf-lstm': 1, 'tf-nmt': 4}, 249.30423398044138),\n",
       " ({'tf-lang-detect': 4, 'tf-lstm': 1, 'tf-nmt': 4}, 311.22681021457055),\n",
       " ({'tf-lang-detect': 4, 'tf-lstm': 1, 'tf-nmt': 5}, 332.40564530725516),\n",
       " ({'tf-lang-detect': 5, 'tf-lstm': 1, 'tf-nmt': 5}, 389.0335127682132),\n",
       " ({'tf-lang-detect': 5, 'tf-lstm': 1, 'tf-nmt': 6}, 415.50705663406893),\n",
       " ({'tf-lang-detect': 6, 'tf-lstm': 1, 'tf-nmt': 6}, 466.84021532185579),\n",
       " ({'tf-lang-detect': 6, 'tf-lstm': 1, 'tf-nmt': 7}, 498.60846796088276),\n",
       " ({'tf-lang-detect': 7, 'tf-lstm': 1, 'tf-nmt': 7}, 544.6469178754985),\n",
       " ({'tf-lang-detect': 7, 'tf-lstm': 1, 'tf-nmt': 8}, 581.70987928769648),\n",
       " ({'tf-lang-detect': 8, 'tf-lstm': 1, 'tf-nmt': 8}, 622.4536204291411)]"
      ]
     },
     "execution_count": 86,
     "metadata": {},
     "output_type": "execute_result"
    }
   ],
   "source": [
    "five_second_reps"
   ]
  },
  {
   "cell_type": "markdown",
   "metadata": {},
   "source": [
    "### Max Thru"
   ]
  },
  {
   "cell_type": "code",
   "execution_count": 87,
   "metadata": {
    "collapsed": true
   },
   "outputs": [],
   "source": [
    "max_thru_configs = get_configs(list(branches), slo=None)\n",
    "max_thru_gpu_configs = {k: max_thru_configs[k] for k in ('tf-nmt',)}\n",
    "max_thru_cpu_configs = {k: max_thru_configs[k] for k in ('tf-lstm', 'tf-lang-detect')}\n",
    "max_thru_reps = get_replications(gpu_configs=max_thru_gpu_configs, cpu_configs=max_thru_cpu_configs, num_gpus=8)"
   ]
  },
  {
   "cell_type": "code",
   "execution_count": 88,
   "metadata": {},
   "outputs": [
    {
     "data": {
      "text/plain": [
       "[({'tf-lang-detect': 1, 'tf-lstm': 1, 'tf-nmt': 1}, 83.101411326813789),\n",
       " ({'tf-lang-detect': 2, 'tf-lstm': 1, 'tf-nmt': 1}, 111.38132710082968),\n",
       " ({'tf-lang-detect': 2, 'tf-lstm': 1, 'tf-nmt': 2}, 166.20282265362758),\n",
       " ({'tf-lang-detect': 3, 'tf-lstm': 1, 'tf-nmt': 2}, 222.76265420165936),\n",
       " ({'tf-lang-detect': 3, 'tf-lstm': 1, 'tf-nmt': 3}, 249.30423398044138),\n",
       " ({'tf-lang-detect': 4, 'tf-lstm': 1, 'tf-nmt': 3}, 332.40564530725516),\n",
       " ({'tf-lang-detect': 5, 'tf-lstm': 1, 'tf-nmt': 3}, 334.14398130248901),\n",
       " ({'tf-lang-detect': 5, 'tf-lstm': 1, 'tf-nmt': 4}, 415.50705663406893),\n",
       " ({'tf-lang-detect': 6, 'tf-lstm': 1, 'tf-nmt': 4}, 445.52530840331872),\n",
       " ({'tf-lang-detect': 6, 'tf-lstm': 1, 'tf-nmt': 5}, 498.60846796088276),\n",
       " ({'tf-lang-detect': 7, 'tf-lstm': 1, 'tf-nmt': 5}, 556.90663550414843),\n",
       " ({'tf-lang-detect': 7, 'tf-lstm': 1, 'tf-nmt': 6}, 581.70987928769648),\n",
       " ({'tf-lang-detect': 8, 'tf-lstm': 1, 'tf-nmt': 6}, 664.81129061451031),\n",
       " ({'tf-lang-detect': 9, 'tf-lstm': 1, 'tf-nmt': 6}, 668.28796260497802),\n",
       " ({'tf-lang-detect': 9, 'tf-lstm': 1, 'tf-nmt': 7}, 747.91270194132414),\n",
       " ({'tf-lang-detect': 10, 'tf-lstm': 1, 'tf-nmt': 7}, 779.66928970580773),\n",
       " ({'tf-lang-detect': 10, 'tf-lstm': 1, 'tf-nmt': 8}, 831.01411326813786),\n",
       " ({'tf-lang-detect': 11, 'tf-lstm': 1, 'tf-nmt': 8}, 891.05061680663744)]"
      ]
     },
     "execution_count": 88,
     "metadata": {},
     "output_type": "execute_result"
    }
   ],
   "source": [
    "max_thru_reps"
   ]
  },
  {
   "cell_type": "markdown",
   "metadata": {},
   "source": [
    "### Min Lat"
   ]
  },
  {
   "cell_type": "code",
   "execution_count": 89,
   "metadata": {
    "collapsed": true
   },
   "outputs": [],
   "source": [
    "min_lat_configs = get_min_lat_configs(list(branches))\n",
    "min_lat_gpu_configs = {k: min_lat_configs[k] for k in ('tf-nmt',)}\n",
    "min_lat_cpu_configs = {k: min_lat_configs[k] for k in ('tf-lstm', 'tf-lang-detect')}\n",
    "min_lat_reps = get_replications(gpu_configs=min_lat_gpu_configs, cpu_configs=min_lat_cpu_configs, num_gpus=8)"
   ]
  },
  {
   "cell_type": "code",
   "execution_count": 90,
   "metadata": {},
   "outputs": [
    {
     "data": {
      "text/plain": [
       "[({'tf-lang-detect': 1, 'tf-lstm': 1, 'tf-nmt': 1}, 15.655824241934365),\n",
       " ({'tf-lang-detect': 1, 'tf-lstm': 1, 'tf-nmt': 2}, 31.31164848386873),\n",
       " ({'tf-lang-detect': 1, 'tf-lstm': 1, 'tf-nmt': 3}, 46.96747272580309),\n",
       " ({'tf-lang-detect': 1, 'tf-lstm': 1, 'tf-nmt': 4}, 62.62329696773746),\n",
       " ({'tf-lang-detect': 1, 'tf-lstm': 1, 'tf-nmt': 5}, 75.44628779686538),\n",
       " ({'tf-lang-detect': 2, 'tf-lstm': 1, 'tf-nmt': 5}, 78.27912120967183),\n",
       " ({'tf-lang-detect': 2, 'tf-lstm': 1, 'tf-nmt': 6}, 93.93494545160618),\n",
       " ({'tf-lang-detect': 2, 'tf-lstm': 1, 'tf-nmt': 7}, 103.85934123498701),\n",
       " ({'tf-lang-detect': 2, 'tf-lstm': 2, 'tf-nmt': 7}, 109.59076969354055),\n",
       " ({'tf-lang-detect': 2, 'tf-lstm': 2, 'tf-nmt': 8}, 125.24659393547492)]"
      ]
     },
     "execution_count": 90,
     "metadata": {},
     "output_type": "execute_result"
    }
   ],
   "source": [
    "min_lat_reps"
   ]
  },
  {
   "cell_type": "code",
   "execution_count": 91,
   "metadata": {},
   "outputs": [
    {
     "data": {
      "text/plain": [
       "{'tf-lang-detect': (1.0, 75.44628779686538, 0.026418050000000002),\n",
       " 'tf-lstm': (1.0, 103.85934123498701, 0.023262100000000001),\n",
       " 'tf-nmt': (1.0, 15.655824241934365, 3.0595581599999995)}"
      ]
     },
     "execution_count": 91,
     "metadata": {},
     "output_type": "execute_result"
    }
   ],
   "source": [
    "min_lat_configs"
   ]
  },
  {
   "cell_type": "markdown",
   "metadata": {},
   "source": [
    "## Plots"
   ]
  },
  {
   "cell_type": "code",
   "execution_count": 92,
   "metadata": {
    "collapsed": true
   },
   "outputs": [],
   "source": [
    "from matplotlib import pyplot as plt\n",
    "from utils import COST_PER_GPU, COST_PER_CPU\n",
    "% matplotlib inline"
   ]
  },
  {
   "cell_type": "code",
   "execution_count": 93,
   "metadata": {
    "collapsed": true
   },
   "outputs": [],
   "source": [
    "def get_thrus_costs(gpu_configs, reps):\n",
    "    costs = []\n",
    "    thrus = []\n",
    "    for rep_config, throughput in reps:\n",
    "        total_cost = 0\n",
    "        for model_name, num_reps in rep_config.iteritems():\n",
    "            cost = num_reps * COST_PER_CPU\n",
    "            if model_name in gpu_configs:\n",
    "                cost += num_reps * COST_PER_GPU\n",
    "            total_cost += cost\n",
    "\n",
    "        costs.append(total_cost)\n",
    "        thrus.append(throughput)\n",
    "\n",
    "    return thrus, costs"
   ]
  },
  {
   "cell_type": "code",
   "execution_count": 94,
   "metadata": {
    "collapsed": true
   },
   "outputs": [],
   "source": [
    "min_lat_thrus, min_lat_costs = get_thrus_costs(min_lat_gpu_configs, min_lat_reps)\n",
    "max_thru_thrus, max_thru_costs = get_thrus_costs(max_thru_gpu_configs, max_thru_reps)\n",
    "three_second_thrus, three_second_costs = get_thrus_costs(three_second_gpu_configs, three_second_reps)\n",
    "five_second_thrus, five_second_costs = get_thrus_costs(five_second_gpu_configs, five_second_reps)"
   ]
  },
  {
   "cell_type": "markdown",
   "metadata": {},
   "source": [
    "## Load E2E Results"
   ]
  },
  {
   "cell_type": "code",
   "execution_count": 95,
   "metadata": {
    "collapsed": true
   },
   "outputs": [],
   "source": [
    "from end_to_end_profiles import load_end_to_end_experiment as load_e2e"
   ]
  },
  {
   "cell_type": "code",
   "execution_count": 96,
   "metadata": {
    "collapsed": true
   },
   "outputs": [],
   "source": [
    "min_lat_relative_path = \"../results/e2e_profs/systemx/tf_driver_2/min_latency\"\n",
    "max_thru_relative_path = \"../results/e2e_profs/systemx/tf_driver_2/max_throughput\"\n",
    "three_second_relative_path = \"../results/e2e_profs/systemx/tf_driver_2/3000ms\"\n",
    "five_second_relative_path = \"../results/e2e_profs/systemx/tf_driver_2/5000ms\""
   ]
  },
  {
   "cell_type": "code",
   "execution_count": 97,
   "metadata": {},
   "outputs": [],
   "source": [
    "e2e_min_lat_df = load_e2e(\"min\", min_lat_relative_path)[0]\n",
    "e2e_max_thru_df = load_e2e(\"max\", max_thru_relative_path)[0]\n",
    "e2e_three_second_df = load_e2e(\"3000ms\", three_second_relative_path)[0]\n",
    "e2e_five_second_df = load_e2e(\"5000ms\", five_second_relative_path)[0]"
   ]
  },
  {
   "cell_type": "markdown",
   "metadata": {},
   "source": [
    "## Plot Throughput vs Cost"
   ]
  },
  {
   "cell_type": "code",
   "execution_count": 98,
   "metadata": {
    "collapsed": true
   },
   "outputs": [],
   "source": [
    "def get_e2e_thrus_costs(e2e_df):\n",
    "    thrus = []\n",
    "    costs = []\n",
    "    slim_df = e2e_df[[\"mean_throughput\", \"cost\"]].sort_values(\"cost\")\n",
    "    for idx, row in slim_df.iterrows():\n",
    "        thru = row[\"mean_throughput\"]\n",
    "        cost = row[\"cost\"]\n",
    "        thrus.append(thru)\n",
    "        costs.append(cost)\n",
    "        \n",
    "    return thrus, costs"
   ]
  },
  {
   "cell_type": "code",
   "execution_count": 99,
   "metadata": {
    "collapsed": true
   },
   "outputs": [],
   "source": [
    "e2e_min_lat_thrus, e2e_min_lat_costs = get_e2e_thrus_costs(e2e_min_lat_df)\n",
    "e2e_max_thru_thrus, e2e_max_thru_costs = get_e2e_thrus_costs(e2e_max_thru_df)\n",
    "e2e_three_second_thrus, e2e_three_second_costs = get_e2e_thrus_costs(e2e_three_second_df)\n",
    "e2e_five_second_thrus, e2e_five_second_costs = get_e2e_thrus_costs(e2e_five_second_df)"
   ]
  },
  {
   "cell_type": "code",
   "execution_count": 100,
   "metadata": {},
   "outputs": [
    {
     "name": "stdout",
     "output_type": "stream",
     "text": [
      "Percentage differences (relative to expectation): [-0.02425788  0.02927993 -0.03191852 -0.02167152 -0.04190854 -0.07154127\n",
      " -0.07496284 -0.07385624]\n"
     ]
    },
    {
     "data": {
      "text/plain": [
       "<matplotlib.text.Text at 0x1209760d0>"
      ]
     },
     "execution_count": 100,
     "metadata": {},
     "output_type": "execute_result"
    },
    {
     "data": {
      "image/png": "[encoded data removed]",
      "text/plain": [
       "<matplotlib.figure.Figure at 0x120949f50>"
      ]
     },
     "metadata": {},
     "output_type": "display_data"
    }
   ],
   "source": [
    "common_len = min(len(max_thru_thrus), len(e2e_max_thru_thrus))\n",
    "plot_max_thru_thrus = max_thru_thrus[:common_len]\n",
    "plot_e2e_max_thru_thrus = e2e_max_thru_thrus[:common_len]\n",
    "plot_max_thru_costs = max_thru_costs[:common_len]\n",
    "\n",
    "diffs = np.array(plot_e2e_max_thru_thrus) - np.array(plot_max_thru_thrus)\n",
    "print(\"Percentage differences (relative to expectation): {}\".format(diffs / plot_max_thru_thrus))\n",
    "\n",
    "plt.plot(plot_max_thru_costs, plot_e2e_max_thru_thrus, label=\"measured\")\n",
    "plt.plot(plot_max_thru_costs, plot_max_thru_thrus, label=\"expected\")\n",
    "plt.legend()\n",
    "plt.ylim(bottom=0)\n",
    "plt.xlabel(\"Cost\")\n",
    "plt.ylabel(\"Throughput (qps)\")\n",
    "plt.title(\"Max Throughput Performance: Expected vs Measured\")"
   ]
  },
  {
   "cell_type": "code",
   "execution_count": 101,
   "metadata": {},
   "outputs": [
    {
     "name": "stdout",
     "output_type": "stream",
     "text": [
      "Percentage differences (relative to expectation): [ 0.12043034  0.21864307  0.21577159  0.20786138  0.00122788  0.20801975\n",
      "  0.18150255  0.17945199]\n"
     ]
    },
    {
     "data": {
      "text/plain": [
       "<matplotlib.text.Text at 0x115067910>"
      ]
     },
     "execution_count": 101,
     "metadata": {},
     "output_type": "execute_result"
    },
    {
     "data": {
      "image/png": "[encoded data removed]",
      "text/plain": [
       "<matplotlib.figure.Figure at 0x11974cad0>"
      ]
     },
     "metadata": {},
     "output_type": "display_data"
    }
   ],
   "source": [
    "common_len = min(len(min_lat_thrus), len(e2e_min_lat_thrus))\n",
    "plot_min_lat_thrus = min_lat_thrus[:common_len]\n",
    "plot_e2e_min_lat_thrus = e2e_min_lat_thrus[:common_len]\n",
    "plot_min_lat_costs = min_lat_costs[:common_len]\n",
    "\n",
    "diffs = np.array(plot_e2e_min_lat_thrus) - np.array(plot_min_lat_thrus)\n",
    "print(\"Percentage differences (relative to expectation): {}\".format(diffs / plot_min_lat_thrus))\n",
    "\n",
    "plt.plot(plot_min_lat_costs, plot_e2e_min_lat_thrus, label=\"measured\")\n",
    "plt.plot(plot_min_lat_costs, plot_min_lat_thrus, label=\"expected\")\n",
    "plt.legend()\n",
    "plt.ylim(bottom=0)\n",
    "plt.xlabel(\"Cost\")\n",
    "plt.ylabel(\"Throughput (qps)\")\n",
    "plt.title(\"Min Latency Performance: Expected vs Measured\")"
   ]
  },
  {
   "cell_type": "code",
   "execution_count": 102,
   "metadata": {},
   "outputs": [
    {
     "name": "stdout",
     "output_type": "stream",
     "text": [
      "Percentage differences (relative to expectation): [ 0.0395163  -0.00868169  0.07145479 -0.02364677  0.05799868  0.00770924\n",
      " -0.03272003  0.01886312]\n"
     ]
    },
    {
     "data": {
      "text/plain": [
       "<matplotlib.text.Text at 0x11fd7aa10>"
      ]
     },
     "execution_count": 102,
     "metadata": {},
     "output_type": "execute_result"
    },
    {
     "data": {
      "image/png": "[encoded data removed]",
      "text/plain": [
       "<matplotlib.figure.Figure at 0x115059e50>"
      ]
     },
     "metadata": {},
     "output_type": "display_data"
    }
   ],
   "source": [
    "common_len = min(len(three_second_thrus), len(e2e_three_second_thrus))\n",
    "plot_three_second_thrus = three_second_thrus[:common_len]\n",
    "plot_e2e_three_second_thrus = e2e_three_second_thrus[:common_len]\n",
    "plot_three_second_costs = three_second_costs[:common_len]\n",
    "\n",
    "diffs = np.array(plot_e2e_three_second_thrus) - np.array(plot_three_second_thrus)\n",
    "print(\"Percentage differences (relative to expectation): {}\".format(diffs / plot_three_second_thrus))\n",
    "\n",
    "plt.plot(plot_three_second_costs, plot_e2e_three_second_thrus, label=\"measured\")\n",
    "plt.plot(plot_three_second_costs, plot_three_second_thrus, label=\"expected\")\n",
    "plt.legend()\n",
    "plt.ylim(bottom=0)\n",
    "plt.xlabel(\"Cost\")\n",
    "plt.ylabel(\"Throughput (qps)\")\n",
    "plt.title(\"3000ms SLO Performance: Expected vs Measured\")"
   ]
  },
  {
   "cell_type": "code",
   "execution_count": 103,
   "metadata": {},
   "outputs": [
    {
     "name": "stdout",
     "output_type": "stream",
     "text": [
      "Percentage differences (relative to expectation): [-0.06329417 -0.02155654  0.0276648  -0.03471587 -0.03538034 -0.04266678\n",
      "  0.0076655  -0.05040816]\n"
     ]
    },
    {
     "data": {
      "text/plain": [
       "<matplotlib.text.Text at 0x11555d9d0>"
      ]
     },
     "execution_count": 103,
     "metadata": {},
     "output_type": "execute_result"
    },
    {
     "data": {
      "image/png": "[encoded data removed]",
      "text/plain": [
       "<matplotlib.figure.Figure at 0x116bee750>"
      ]
     },
     "metadata": {},
     "output_type": "display_data"
    }
   ],
   "source": [
    "common_len = min(len(five_second_thrus), len(e2e_five_second_thrus))\n",
    "plot_five_second_thrus = five_second_thrus[:common_len]\n",
    "plot_e2e_five_second_thrus = e2e_five_second_thrus[:common_len]\n",
    "plot_five_second_costs = five_second_costs[:common_len]\n",
    "\n",
    "diffs = np.array(plot_e2e_five_second_thrus) - np.array(plot_five_second_thrus)\n",
    "print(\"Percentage differences (relative to expectation): {}\".format(diffs / plot_five_second_thrus))\n",
    "\n",
    "plt.plot(plot_five_second_costs, plot_e2e_five_second_thrus, label=\"measured\")\n",
    "plt.plot(plot_five_second_costs, plot_five_second_thrus, label=\"expected\")\n",
    "plt.legend()\n",
    "plt.ylim(bottom=0)\n",
    "plt.xlabel(\"Cost\")\n",
    "plt.ylabel(\"Throughput (qps)\")\n",
    "plt.title(\"5000ms SLO Performance: Expected vs Measured\")"
   ]
  },
  {
   "cell_type": "markdown",
   "metadata": {
    "collapsed": true
   },
   "source": [
    "## Plot Latencies"
   ]
  },
  {
   "cell_type": "code",
   "execution_count": 104,
   "metadata": {
    "collapsed": true
   },
   "outputs": [],
   "source": [
    "def get_latency_stats(df):\n",
    "    all_lats = []\n",
    "    means = []\n",
    "    stds = []\n",
    "    p99s = []\n",
    "    costs = []\n",
    "    for idx, row in df.sort_values(\"cost\").iterrows():\n",
    "        lats = row[\"latency\"]\n",
    "        lats = lats.flatten()\n",
    "        all_lats.append(lats)\n",
    "        mean = np.mean(lats)\n",
    "        means.append(mean)\n",
    "        std = np.std(lats)\n",
    "        stds.append(std)\n",
    "        p99 = np.percentile(lats, 99)\n",
    "        p99s.append(p99)\n",
    "        cost = row[\"cost\"]\n",
    "        costs.append(cost)\n",
    "        \n",
    "    return costs, all_lats, means, stds, p99s"
   ]
  },
  {
   "cell_type": "code",
   "execution_count": 105,
   "metadata": {
    "collapsed": true
   },
   "outputs": [],
   "source": [
    "e2e_min_lat_costs, e2e_min_lat_lats, e2e_min_lat_means, e2e_min_lat_stds, e2e_min_lat_p99s = get_latency_stats(e2e_min_lat_df)\n",
    "e2e_max_thru_costs, e2e_max_thru_lats, e2e_max_thru_means, e2e_max_thru_stds, e2e_max_thru_p99s = get_latency_stats(e2e_max_thru_df)\n",
    "e2e_three_second_costs, e2e_three_second_lats, e2e_three_second_means, e2e_three_second_stds, e2e_three_second_p99s = get_latency_stats(e2e_three_second_df)\n",
    "e2e_five_second_costs, e2e_five_second_lats, e2e_five_second_means, e2e_five_second_stds, e2e_five_second_p99s = get_latency_stats(e2e_five_second_df)"
   ]
  },
  {
   "cell_type": "markdown",
   "metadata": {},
   "source": [
    "### Min Latency"
   ]
  },
  {
   "cell_type": "code",
   "execution_count": 106,
   "metadata": {},
   "outputs": [
    {
     "data": {
      "text/plain": [
       "<matplotlib.legend.Legend at 0x11f5f3f90>"
      ]
     },
     "execution_count": 106,
     "metadata": {},
     "output_type": "execute_result"
    },
    {
     "data": {
      "image/png": "[encoded data removed]",
      "text/plain": [
       "<matplotlib.figure.Figure at 0x1153e6a90>"
      ]
     },
     "metadata": {},
     "output_type": "display_data"
    }
   ],
   "source": [
    "plt.ylabel(\"Latency (seconds)\")\n",
    "plt.title(\"'Min Latency' Latency Distribution\")\n",
    "plt.boxplot(e2e_min_lat_lats)\n",
    "plt.plot(range(1, len(e2e_min_lat_costs) + 1), e2e_min_lat_p99s, \"rs\", label=\"p99\")\n",
    "plt.xticks(range(1, len(e2e_min_lat_costs) + 1), e2e_min_lat_costs)\n",
    "plt.legend()"
   ]
  },
  {
   "cell_type": "code",
   "execution_count": 107,
   "metadata": {},
   "outputs": [
    {
     "data": {
      "text/plain": [
       "[15.655824241934365,\n",
       " 31.31164848386873,\n",
       " 46.96747272580309,\n",
       " 62.62329696773746,\n",
       " 75.44628779686538,\n",
       " 78.27912120967183,\n",
       " 93.93494545160618,\n",
       " 103.85934123498701]"
      ]
     },
     "execution_count": 107,
     "metadata": {},
     "output_type": "execute_result"
    }
   ],
   "source": [
    "plot_min_lat_thrus"
   ]
  },
  {
   "cell_type": "markdown",
   "metadata": {},
   "source": [
    "### Max Throughput"
   ]
  },
  {
   "cell_type": "code",
   "execution_count": 108,
   "metadata": {},
   "outputs": [
    {
     "data": {
      "text/plain": [
       "<matplotlib.legend.Legend at 0x1156adbd0>"
      ]
     },
     "execution_count": 108,
     "metadata": {},
     "output_type": "execute_result"
    },
    {
     "data": {
      "image/png": "[encoded data removed]",
      "text/plain": [
       "<matplotlib.figure.Figure at 0x11f5ff450>"
      ]
     },
     "metadata": {},
     "output_type": "display_data"
    }
   ],
   "source": [
    "plt.ylabel(\"Latency (seconds)\")\n",
    "plt.title(\"'Max Throughput' Latency Distribution\")\n",
    "plt.boxplot(e2e_max_thru_lats)\n",
    "plt.plot(range(1, len(e2e_max_thru_costs) + 1), e2e_max_thru_p99s, \"rs\", label=\"p99\")\n",
    "plt.xticks(range(1, len(e2e_max_thru_costs) + 1), e2e_max_thru_costs)\n",
    "plt.legend()"
   ]
  },
  {
   "cell_type": "markdown",
   "metadata": {},
   "source": [
    "### 3000ms"
   ]
  },
  {
   "cell_type": "code",
   "execution_count": 109,
   "metadata": {},
   "outputs": [
    {
     "data": {
      "text/plain": [
       "<matplotlib.legend.Legend at 0x11feebd50>"
      ]
     },
     "execution_count": 109,
     "metadata": {},
     "output_type": "execute_result"
    },
    {
     "data": {
      "image/png": "[encoded data removed]",
      "text/plain": [
       "<matplotlib.figure.Figure at 0x11febeed0>"
      ]
     },
     "metadata": {},
     "output_type": "display_data"
    }
   ],
   "source": [
    "plt.ylabel(\"Latency (seconds)\")\n",
    "plt.title(\"'3000ms SLO' Latency Distribution\")\n",
    "plt.boxplot(e2e_three_second_lats)\n",
    "plt.plot(range(1, len(e2e_three_second_costs) + 1), e2e_three_second_p99s, \"rs\", label=\"p99\")\n",
    "plt.xticks(range(1, len(e2e_three_second_costs) + 1), e2e_three_second_costs)\n",
    "plt.legend()"
   ]
  },
  {
   "cell_type": "markdown",
   "metadata": {},
   "source": [
    "### 5000ms"
   ]
  },
  {
   "cell_type": "code",
   "execution_count": 110,
   "metadata": {},
   "outputs": [
    {
     "data": {
      "text/plain": [
       "<matplotlib.legend.Legend at 0x123bfdcd0>"
      ]
     },
     "execution_count": 110,
     "metadata": {},
     "output_type": "execute_result"
    },
    {
     "data": {
      "image/png": "[encoded data removed]",
      "text/plain": [
       "<matplotlib.figure.Figure at 0x1159707d0>"
      ]
     },
     "metadata": {},
     "output_type": "display_data"
    }
   ],
   "source": [
    "plt.ylabel(\"Latency (seconds)\")\n",
    "plt.title(\"'5000ms SLO' Latency Distribution\")\n",
    "plt.boxplot(e2e_five_second_lats)\n",
    "plt.plot(range(1, len(e2e_five_second_costs) + 1), e2e_five_second_p99s, \"rs\", label=\"p99\")\n",
    "plt.xticks(range(1, len(e2e_five_second_costs) + 1), e2e_five_second_costs)\n",
    "plt.legend()"
   ]
  }
 ],
 "metadata": {
  "kernelspec": {
   "display_name": "Python 2",
   "language": "python",
   "name": "python2"
  },
  "language_info": {
   "codemirror_mode": {
    "name": "ipython",
    "version": 2
   },
   "file_extension": ".py",
   "mimetype": "text/x-python",
   "name": "python",
   "nbconvert_exporter": "python",
   "pygments_lexer": "ipython2",
   "version": "2.7.13"
  }
 },
 "nbformat": 4,
 "nbformat_minor": 2
}
