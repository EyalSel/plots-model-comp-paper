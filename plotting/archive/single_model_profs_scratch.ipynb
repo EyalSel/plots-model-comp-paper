{
 "cells": [
  {
   "cell_type": "code",
   "execution_count": 1,
   "metadata": {},
   "outputs": [],
   "source": [
    "import json\n",
    "import os\n",
    "import sys\n",
    "import pandas as pd\n",
    "\n",
    "import matplotlib.pyplot as plt\n",
    "import seaborn as sns\n",
    "\n",
    "import numpy as np\n",
    "%load_ext autoreload\n",
    "\n",
    "%autoreload 2\n"
   ]
  },
  {
   "cell_type": "code",
   "execution_count": 4,
   "metadata": {},
   "outputs": [],
   "source": [
    "sys.path.insert(0, os.path.abspath(\"../optimizer\"))\n",
    "import single_node_profiles as snp\n",
    "# import single_model_profiles as sm_profs"
   ]
  },
  {
   "cell_type": "code",
   "execution_count": 6,
   "metadata": {},
   "outputs": [],
   "source": [
    "profs = snp.load_single_node_profiles()"
   ]
  },
  {
   "cell_type": "code",
   "execution_count": null,
   "metadata": {
    "collapsed": true
   },
   "outputs": [],
   "source": [
    "dag = profiler.get_logical_pipeline(\"pipeline_three\")\n",
    "with open(os.path.abspath(\"../results/e2e_profs/systemx/resnet_cascade/slo_500ms/alex_1-r50_1-r152_2-171025_083730.json\")) as f:\n",
    "    sample_run = json.load(f)\n",
    "scale_factors = profiler.get_node_scale_factors(sample_run, dag.reference_node)\n",
    "node_configs = profiler.get_node_configs_from_experiment(sample_run)\n",
    "node_profs = {name : profiler.NodeProfile(name, profs[name]) for name, _ in node_configs.items()}"
   ]
  },
  {
   "cell_type": "code",
   "execution_count": 7,
   "metadata": {
    "scrolled": false
   },
   "outputs": [
    {
     "data": {
      "text/plain": [
       "dict_keys(['alexnet', 'res152', 'res18', 'res50', 'inception', 'tf-kernel-svm', 'tf-lang-detect', 'tf-log-reg', 'tf-lstm', 'tf-nmt', 'tf-resnet-feats'])"
      ]
     },
     "execution_count": 7,
     "metadata": {},
     "output_type": "execute_result"
    }
   ],
   "source": [
    "profs.keys()"
   ]
  },
  {
   "cell_type": "code",
   "execution_count": null,
   "metadata": {
    "scrolled": false
   },
   "outputs": [],
   "source": [
    "from IPython.display import display, HTML\n",
    "display(profs[\"tf-resnet-feats\"])\n",
    "\n",
    "# aws_profs = res_prof[(res_prof.cloud == \"aws\")].sort_values(\"mean_batch_size\")\n",
    "# aws_profs"
   ]
  },
  {
   "cell_type": "code",
   "execution_count": null,
   "metadata": {},
   "outputs": [],
   "source": [
    "profs = sm_profs.load_single_model_profiles()\n",
    "def plot_smp_thrus(prof, title, plot_gcp=False, plot_aws=False):\n",
    "    # GCP\n",
    "    plt.clf()\n",
    "    fig, (ax_thru, ax_lat) = plt.subplots(nrows=1, ncols=2, figsize=(10,5))\n",
    "    dfs = []\n",
    "    colors = sns.color_palette(n_colors=5)\n",
    "    if plot_gcp:\n",
    "        gcp_profs = prof[(prof.cloud == \"gcp\")]\n",
    "        for gpu in [\"p100\"]:\n",
    "            for num_cpus in [2]:\n",
    "                df = gcp_profs[(gcp_profs.gpu_type == gpu)\n",
    "                             & (gcp_profs.num_cpus_per_replica == num_cpus)]\n",
    "                df = df.sort_values(\"mean_batch_size\")\n",
    "                c = colors.pop()\n",
    "                ax_thru.plot(df[\"mean_batch_size\"], df[\"mean_throughput_qps\"], color=c, label=\"{gpu}\".format(gpu=gpu.upper(), cpu=num_cpus))\n",
    "                ax_lat.plot(df[\"mean_batch_size\"], df[\"p99_latency\"], color=c, label=\"{gpu}\".format(gpu=gpu.upper(), cpu=num_cpus))\n",
    "\n",
    "                dfs.append(df)\n",
    "    if plot_aws:\n",
    "        aws_profs = prof[(prof.cloud == \"aws\")]\n",
    "        for gpu in [\"k80\", \"v100\"]:\n",
    "            for num_cpus in [2]:\n",
    "                c = colors.pop()\n",
    "                df = aws_profs[(aws_profs.gpu_type == gpu)\n",
    "                              & (aws_profs.num_cpus_per_replica == num_cpus)]\n",
    "                df = df.sort_values(\"mean_batch_size\")\n",
    "                ax_thru.plot(df[\"mean_batch_size\"], df[\"mean_throughput_qps\"], color=c, label=\"{gpu}\".format(gpu=gpu.upper(), cpu=num_cpus))\n",
    "                ax_lat.plot(df[\"mean_batch_size\"], df[\"p99_latency\"], color=c, label=\"{gpu}\".format(gpu=gpu.upper(), cpu=num_cpus))\n",
    "\n",
    "    ax_thru.set_xlabel(\"Batch size\")\n",
    "    ax_thru.set_ylabel(\"Throughput (qps)\")\n",
    "    ax_thru.legend(loc=0)\n",
    "    ax_lat.set_xlabel(\"Batch size\")\n",
    "    ax_lat.set_ylabel(\"p99 latency (s)\")\n",
    "    ax_lat.legend(loc=0)\n",
    "    fig.suptitle(title)\n",
    "    plt.show()\n",
    "    return dfs\n",
    "            \n",
    "plot_smp_thrus(profs[\"tf-resnet-feats\"], \"Resnet 152\", plot_gcp=True, plot_aws=True)\n",
    "# incept_dfs = plot_smp_thrus(profs[\"inception\"], \"Inception\", plot_gcp=True)\n",
    "\n",
    "# gcp_results = res_prof[(res_prof.cloud == \"gcp\") & ()]\n",
    "# gcp_results"
   ]
  },
  {
   "cell_type": "code",
   "execution_count": null,
   "metadata": {
    "collapsed": true
   },
   "outputs": [],
   "source": [
    "# from IPython.core.interactiveshell import InteractiveShell\n",
    "# InteractiveShell.ast_node_interactivity = \"all\"\n",
    "from IPython.display import display, HTML\n",
    "for d in incept_dfs:\n",
    "    display(d)"
   ]
  },
  {
   "cell_type": "code",
   "execution_count": null,
   "metadata": {
    "collapsed": true
   },
   "outputs": [],
   "source": []
  },
  {
   "cell_type": "code",
   "execution_count": null,
   "metadata": {
    "collapsed": true
   },
   "outputs": [],
   "source": []
  },
  {
   "cell_type": "code",
   "execution_count": null,
   "metadata": {
    "collapsed": true
   },
   "outputs": [],
   "source": [
    "def load_results(results_dir):\n",
    "    fs = os.listdir(results_dir)\n",
    "    experiments = []\n",
    "    for exp in fs:\n",
    "        if exp[-4:] == \"json\":\n",
    "            with open(os.path.join(results_dir, exp), \"r\") as f:\n",
    "                data = json.load(f)\n",
    "                experiments.append(data)\n",
    "        else:\n",
    "            # print(\"skipping %s\" % os.path.join(results_dir, exp))\n",
    "            pass\n",
    "    return experiments"
   ]
  },
  {
   "cell_type": "code",
   "execution_count": null,
   "metadata": {
    "collapsed": true
   },
   "outputs": [],
   "source": [
    "var_size_results = load_results(\n",
    "    os.path.abspath(\"../results/single_model_profs_old/kernel-svm-var-size/\"))\n",
    "\n",
    "\n",
    "mname, df = sm_profs.create_model_profile_df(None, var_size_results)\n",
    "\n",
    "\n"
   ]
  },
  {
   "cell_type": "code",
   "execution_count": null,
   "metadata": {
    "collapsed": true
   },
   "outputs": [],
   "source": [
    "df"
   ]
  },
  {
   "cell_type": "code",
   "execution_count": null,
   "metadata": {
    "collapsed": true
   },
   "outputs": [],
   "source": []
  },
  {
   "cell_type": "code",
   "execution_count": null,
   "metadata": {
    "collapsed": true
   },
   "outputs": [],
   "source": []
  },
  {
   "cell_type": "code",
   "execution_count": null,
   "metadata": {
    "collapsed": true
   },
   "outputs": [],
   "source": []
  },
  {
   "cell_type": "code",
   "execution_count": null,
   "metadata": {
    "collapsed": true
   },
   "outputs": [],
   "source": [
    "from sklearn.metrics.pairwise import rbf_kernel\n",
    "x = np.random.rand(1,4096)\n",
    "X = np.random.rand(10000,4096)\n",
    "%timeit k = rbf_kernel(X,x)"
   ]
  },
  {
   "cell_type": "code",
   "execution_count": null,
   "metadata": {
    "collapsed": true
   },
   "outputs": [],
   "source": [
    "k.dot(x)"
   ]
  },
  {
   "cell_type": "code",
   "execution_count": null,
   "metadata": {
    "collapsed": true
   },
   "outputs": [],
   "source": []
  }
 ],
 "metadata": {
  "kernelspec": {
   "display_name": "Python 3",
   "language": "python",
   "name": "python3"
  },
  "language_info": {
   "codemirror_mode": {
    "name": "ipython",
    "version": 3
   },
   "file_extension": ".py",
   "mimetype": "text/x-python",
   "name": "python",
   "nbconvert_exporter": "python",
   "pygments_lexer": "ipython3",
   "version": "3.6.4"
  }
 },
 "nbformat": 4,
 "nbformat_minor": 2
}
