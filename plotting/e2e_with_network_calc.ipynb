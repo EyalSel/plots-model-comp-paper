{
 "cells": [
  {
   "cell_type": "code",
   "execution_count": 1,
   "metadata": {},
   "outputs": [],
   "source": [
    "%load_ext autoreload\n",
    "%autoreload 2"
   ]
  },
  {
   "cell_type": "code",
   "execution_count": 29,
   "metadata": {},
   "outputs": [],
   "source": [
    "import os\n",
    "import sys\n",
    "import json\n",
    "import time\n",
    "from datetime import datetime\n",
    "import numpy as np\n",
    "from IPython.display import display, Markdown, IFrame\n",
    "import matplotlib.pyplot as plt\n",
    "from collections import OrderedDict\n",
    "import seaborn as sns\n",
    "%matplotlib inline\n"
   ]
  },
  {
   "cell_type": "code",
   "execution_count": 3,
   "metadata": {},
   "outputs": [],
   "source": [
    "with open(\"../results_cpp_benchmarker/e2e_results/image_driver_1/cpp-aws-p2-1-inception-1-resnet-3-ksvm-1-logreg-180324_170634.json\", \"r\") as f:\n",
    "    results = json.load(f)"
   ]
  },
  {
   "cell_type": "code",
   "execution_count": 7,
   "metadata": {},
   "outputs": [],
   "source": [
    "summary = results[\"throughput_results\"][\"summary_metrics\"]"
   ]
  },
  {
   "cell_type": "code",
   "execution_count": 11,
   "metadata": {},
   "outputs": [
    {
     "name": "stdout",
     "output_type": "stream",
     "text": [
      "233.489\n",
      "228.639\n",
      "228.184\n",
      "229.969\n",
      "230.143\n",
      "230.046\n",
      "227.997\n",
      "228.941\n",
      "231.44\n",
      "230.309\n",
      "228.777\n",
      "228.561\n",
      "227.495\n",
      "228.516\n",
      "228.398\n",
      "228.62\n",
      "228.076\n",
      "230.156\n",
      "230.513\n",
      "227.139\n",
      "228.649\n",
      "229.534\n",
      "230.486\n",
      "228.422\n",
      "228.743\n",
      "227.97\n",
      "227.997\n",
      "231.402\n",
      "228.494\n",
      "227.622\n"
     ]
    }
   ],
   "source": [
    "for s in summary:\n",
    "    print(s[\"client_p99_lats\"][\"e2e\"])"
   ]
  },
  {
   "cell_type": "code",
   "execution_count": 24,
   "metadata": {},
   "outputs": [
    {
     "data": {
      "text/plain": [
       "1626"
      ]
     },
     "execution_count": 24,
     "metadata": {},
     "output_type": "execute_result"
    }
   ],
   "source": [
    "int(list([0][\"data_lists\"][0]['tf-log-reg:prediction_latencies'][\"items\"][0].values())[0])"
   ]
  },
  {
   "cell_type": "code",
   "execution_count": 31,
   "metadata": {},
   "outputs": [],
   "source": [
    "def extract_all_latencies(results_json):\n",
    "    client_metrics = results_json[\"throughput_results\"][\"client_metrics\"]\n",
    "    latencies = []\n",
    "    key_name = \"e2e:prediction_latencies\"\n",
    "    for trial in client_metrics:\n",
    "        for l in trial[\"data_lists\"]:\n",
    "            if list(l.keys())[0] == key_name:\n",
    "                cur_lats = [float(list(i.values())[0]) for i in l[key_name][\"items\"]]\n",
    "                latencies.extend(cur_lats)\n",
    "    all_lats = np.array(latencies).flatten() / 1000.0 / 1000.0  # Convert micros to secs\n",
    "    return all_lats\n",
    "    \n",
    "lats = extract_all_latencies(results)"
   ]
  },
  {
   "cell_type": "code",
   "execution_count": 40,
   "metadata": {},
   "outputs": [
    {
     "name": "stdout",
     "output_type": "stream",
     "text": [
      "0.170034988315\n",
      "59990\n",
      "P99: 0.229392\n",
      "MAX: 0.277134\n"
     ]
    }
   ],
   "source": [
    "print(np.mean(lats))\n",
    "print(len(lats))\n",
    "\n",
    "print(\"P99: \" + str(np.percentile(lats[:40000], 99)))\n",
    "print(\"MAX: \" + str(np.max(lats)))"
   ]
  },
  {
   "cell_type": "code",
   "execution_count": 37,
   "metadata": {},
   "outputs": [
    {
     "data": {
      "image/png": "[encoded data removed]",
      "text/plain": [
       "<matplotlib.figure.Figure at 0x1a2fc876d8>"
      ]
     },
     "metadata": {},
     "output_type": "display_data"
    }
   ],
   "source": [
    "plt.scatter(range(len(lats)), lats)\n",
    "plt.ylabel(\"Latency (s)\")\n",
    "plt.xlabel(\"Query ID\")\n",
    "plt.show()"
   ]
  },
  {
   "cell_type": "code",
   "execution_count": null,
   "metadata": {},
   "outputs": [],
   "source": []
  }
 ],
 "metadata": {
  "kernelspec": {
   "display_name": "Python 3",
   "language": "python",
   "name": "python3"
  },
  "language_info": {
   "codemirror_mode": {
    "name": "ipython",
    "version": 3
   },
   "file_extension": ".py",
   "mimetype": "text/x-python",
   "name": "python",
   "nbconvert_exporter": "python",
   "pygments_lexer": "ipython3",
   "version": "3.6.4"
  }
 },
 "nbformat": 4,
 "nbformat_minor": 2
}
